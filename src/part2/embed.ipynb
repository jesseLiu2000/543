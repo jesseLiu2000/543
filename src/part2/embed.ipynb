{
 "cells": [
  {
   "cell_type": "code",
   "execution_count": 1,
   "id": "2ca58064-7901-4a6a-adb0-0a3596d28464",
   "metadata": {},
   "outputs": [
    {
     "name": "stdout",
     "output_type": "stream",
     "text": [
      "2023-05-06 07:19:15,806 (2659311876:27) WARNING: device is cuda\n"
     ]
    }
   ],
   "source": [
    "import torch\n",
    "import torch.nn as nn\n",
    "import torch.nn.functional as F\n",
    "import time \n",
    "from torch import utils\n",
    "from torch.nn.utils.rnn import pack_padded_sequence, pad_packed_sequence\n",
    "\n",
    "import torchtext\n",
    "from tqdm import tqdm\n",
    "from torchtext.datasets import IMDB\n",
    "\n",
    "from torchtext.datasets.imdb import NUM_LINES\n",
    "from torchtext.data import get_tokenizer\n",
    "from torchtext.vocab import build_vocab_from_iterator\n",
    "from torchtext.data.functional import to_map_style_dataset\n",
    "\n",
    "import os\n",
    "import sys\n",
    "import logging\n",
    "import logging\n",
    "logging.basicConfig(\n",
    "    level=logging.WARN, stream=sys.stdout, \\\n",
    "    format=\"%(asctime)s (%(module)s:%(lineno)d) %(levelname)s: %(message)s\")\n",
    "\n",
    "VOCAB_SIZE = 15000\n",
    "device = torch.device(\"cuda\" if torch.cuda.is_available() else \"cpu\")\n",
    "logging.warning(f\"device is {device}\")\n",
    "VOCAB_SIZE = 15000 \n",
    "BATCH_SIZE = 64\n",
    "\n",
    "def yeild_tokens(train_data_iter, tokenizer):\n",
    "    for i, sample in enumerate(train_data_iter):\n",
    "        label, comment = sample\n",
    "        yield tokenizer(comment)\n",
    "        \n",
    "class TextClassificationModel(nn.Module):\n",
    "    def __init__(self, vocab_size=VOCAB_SIZE, embed_dim=64, num_class=2):\n",
    "        super(TextClassificationModel, self).__init__()\n",
    "        self.embedding = nn.EmbeddingBag(vocab_size, embed_dim, sparse=False).to(device)\n",
    "        self.fc = nn.Linear(embed_dim, num_class).to(device)\n",
    "        \n",
    "    def forward(self, token_index):\n",
    "        embedded = self.embedding(token_index)  \n",
    "        return self.fc(embedded)"
   ]
  },
  {
   "cell_type": "code",
   "execution_count": 2,
   "id": "3704dbc6-e5eb-4869-a8dc-2c5ac56dcaf2",
   "metadata": {},
   "outputs": [
    {
     "name": "stdout",
     "output_type": "stream",
     "text": [
      "Vocal size: 13351\n"
     ]
    }
   ],
   "source": [
    "train_data_iter = IMDB(root=\"data\", split=\"train\") \n",
    "tokenizer = get_tokenizer(\"basic_english\")\n",
    "\n",
    "vocab = build_vocab_from_iterator(yeild_tokens(train_data_iter, tokenizer), min_freq=20, specials=[\"<unk>\"])\n",
    "vocab.set_default_index(0)  \n",
    "print(f'Vocal size: {len(vocab)}')"
   ]
  },
  {
   "cell_type": "code",
   "execution_count": 3,
   "id": "35aa3681-435a-478f-b338-00d50653e2d4",
   "metadata": {},
   "outputs": [],
   "source": [
    "def collate_fn(batch):\n",
    "    target = []\n",
    "    token_index = []\n",
    "    max_length = 0  \n",
    "    for i, (label, comment) in enumerate(batch):\n",
    "        tokens = tokenizer(comment)\n",
    "        token_index.append(vocab(tokens)) \n",
    "        \n",
    "        if len(tokens) > max_length:\n",
    "            max_length = len(tokens)\n",
    "        \n",
    "        if label == \"pos\":\n",
    "            target.append(0)\n",
    "        else:\n",
    "            target.append(1)\n",
    "\n",
    "    token_index = [index + [0]*(max_length-len(index)) for index in token_index]\n",
    "    return (torch.tensor(target).to(torch.int64), torch.tensor(token_index).to(torch.int32))"
   ]
  },
  {
   "cell_type": "code",
   "execution_count": 4,
   "id": "0025a593-4a93-4b6f-8d6f-68d34984ad6d",
   "metadata": {},
   "outputs": [],
   "source": [
    "def train(train_data_loader, eval_data_loader, model, optimizer, num_epoch, log_step_interval, save_step_interval, \\\n",
    "          eval_step_interval, save_path, resume=\"\"):\n",
    "    start_epoch = 0\n",
    "    start_step = 0\n",
    "    if resume != \"\":\n",
    "        logging.warning(f\"loading from {resume}\")\n",
    "        checkpoint = torch.load(resume)\n",
    "        model.load_state_dict(checkpoint['model_state_dict'])\n",
    "        optimizer.load_state_dict(checkpoint['optimizer_state_dict'])\n",
    "        start_epoch = checkpoint['epoch']\n",
    "        start_step = checkpoint['step']\n",
    "        \n",
    "    for epoch_index in tqdm(range(start_epoch, num_epoch), desc=\"epoch\"):\n",
    "        ema_loss = 0\n",
    "        num_batches = len(train_data_loader)\n",
    "        start_time = time.time()\n",
    "        \n",
    "        for batch_index, (target, token_index) in enumerate(train_data_loader):\n",
    "            target = target.to(device)\n",
    "            token_index = token_index.to(device)\n",
    "            optimizer.zero_grad()\n",
    "            step = num_batches*(epoch_index) + batch_index + 1\n",
    "            logits = model(token_index)\n",
    "\n",
    "            bce_loss = F.binary_cross_entropy(torch.sigmoid(logits), F.one_hot(target, num_classes=2).to(torch.float32))\n",
    "            ema_loss = 0.9 * ema_loss + 0.1 * bce_loss  \n",
    "            bce_loss.backward()\n",
    "            nn.utils.clip_grad_norm_(model.parameters(), 0.1)  \n",
    "            optimizer.step()   \n",
    "            \n",
    "            if step % log_step_interval == 0:\n",
    "                logging.warning(f\"epoch_index: {epoch_index}, batch_index: {batch_index}, ema_loss: {ema_loss}\")\n",
    "                \n",
    "            if step % save_step_interval == 0:\n",
    "                os.makedirs(save_path, exist_ok=True)\n",
    "                save_file = os.path.join(save_path, f\"step_{step}.pt\")\n",
    "                torch.save({\n",
    "                    \"epoch\": epoch_index,\n",
    "                    \"step\": step,\n",
    "                    \"model_state_dict\": model.state_dict(),\n",
    "                    'optimizer_state_dict': optimizer.state_dict(),\n",
    "                    'loss': bce_loss,\n",
    "                }, save_file)\n",
    "                logging.warning(f\"checkpoint has been saved in {save_file}\")\n",
    "            \n",
    "            if step % eval_step_interval == 0:\n",
    "                logging.warning(\"start to do evaluation...\")\n",
    "                model.eval()\n",
    "                ema_eval_loss = 0\n",
    "                total_acc_account = 0\n",
    "                total_account = 0\n",
    "                for eval_batch_index, (eval_target, eval_token_index) in enumerate(eval_data_loader):\n",
    "                    eval_target = eval_target.to(device)\n",
    "                    eval_token_index = eval_token_index.to(device)\n",
    "                    total_account += eval_target.shape[0]\n",
    "                    eval_logits = model(eval_token_index)\n",
    "                    total_acc_account += (torch.argmax(eval_logits, dim=-1) == eval_target).sum().item()\n",
    "                    eval_bce_loss = F.binary_cross_entropy(torch.sigmoid(eval_logits), F.one_hot(eval_target, num_classes=2).to(torch.float32))\n",
    "                    ema_eval_loss = 0.9 * ema_eval_loss + 0.1 * eval_bce_loss\n",
    "                logging.warning(f\"ema_eval_loss: {ema_eval_loss}, eval_acc: {total_acc_account / total_account}\")\n",
    "                model.train()\n",
    "        time_period = time.time()-start_time\n",
    "        logging.warning(f\"time cost is: {time_period}\")"
   ]
  },
  {
   "cell_type": "code",
   "execution_count": 5,
   "id": "0b31a305-af55-4bf0-9d61-52013c4d6628",
   "metadata": {},
   "outputs": [
    {
     "name": "stdout",
     "output_type": "stream",
     "text": [
      "Model total parameters: 960130\n"
     ]
    }
   ],
   "source": [
    "model = TextClassificationModel().to(device)\n",
    "print(\"Model total parameters:\", sum(p.numel() for p in model.parameters()))\n",
    "resume = \"\""
   ]
  },
  {
   "cell_type": "code",
   "execution_count": 6,
   "id": "dc3efede-21da-4d4b-bf50-77ff7546c131",
   "metadata": {},
   "outputs": [],
   "source": [
    "train_data_iter = IMDB(root=\"data\", split=\"train\") \n",
    "train_data_loader = torch.utils.data.DataLoader(\n",
    "    to_map_style_dataset(train_data_iter), batch_size=BATCH_SIZE, collate_fn=collate_fn, shuffle=True)\n",
    "\n",
    "eval_data_iter = IMDB(root=\"data\", split=\"test\")  \n",
    "eval_data_loader = utils.data.DataLoader(\n",
    "    to_map_style_dataset(eval_data_iter), batch_size=8, collate_fn=collate_fn)"
   ]
  },
  {
   "cell_type": "code",
   "execution_count": 7,
   "id": "d95da269-4d91-4d6a-86c1-b830c83297cc",
   "metadata": {},
   "outputs": [
    {
     "name": "stderr",
     "output_type": "stream",
     "text": [
      "epoch:   0%|          | 0/10 [00:00<?, ?it/s]"
     ]
    },
    {
     "name": "stdout",
     "output_type": "stream",
     "text": [
      "2023-05-06 07:19:48,481 (2306368053:32) WARNING: epoch_index: 0, batch_index: 19, ema_loss: 0.6318719983100891\n",
      "2023-05-06 07:19:48,755 (2306368053:32) WARNING: epoch_index: 0, batch_index: 39, ema_loss: 0.7013704180717468\n",
      "2023-05-06 07:19:49,035 (2306368053:32) WARNING: epoch_index: 0, batch_index: 59, ema_loss: 0.704185426235199\n",
      "2023-05-06 07:19:49,309 (2306368053:32) WARNING: epoch_index: 0, batch_index: 79, ema_loss: 0.7002986669540405\n",
      "2023-05-06 07:19:49,580 (2306368053:32) WARNING: epoch_index: 0, batch_index: 99, ema_loss: 0.6969286799430847\n",
      "2023-05-06 07:19:49,848 (2306368053:32) WARNING: epoch_index: 0, batch_index: 119, ema_loss: 0.6947053074836731\n",
      "2023-05-06 07:19:50,130 (2306368053:32) WARNING: epoch_index: 0, batch_index: 139, ema_loss: 0.6939979195594788\n",
      "2023-05-06 07:19:50,412 (2306368053:32) WARNING: epoch_index: 0, batch_index: 159, ema_loss: 0.6935691833496094\n",
      "2023-05-06 07:19:50,692 (2306368053:32) WARNING: epoch_index: 0, batch_index: 179, ema_loss: 0.6934818029403687\n",
      "2023-05-06 07:19:50,962 (2306368053:32) WARNING: epoch_index: 0, batch_index: 199, ema_loss: 0.6927486062049866\n",
      "2023-05-06 07:19:51,230 (2306368053:32) WARNING: epoch_index: 0, batch_index: 219, ema_loss: 0.6922175288200378\n",
      "2023-05-06 07:19:51,506 (2306368053:32) WARNING: epoch_index: 0, batch_index: 239, ema_loss: 0.6927143931388855\n",
      "2023-05-06 07:19:51,787 (2306368053:32) WARNING: epoch_index: 0, batch_index: 259, ema_loss: 0.6937304139137268\n",
      "2023-05-06 07:19:52,058 (2306368053:32) WARNING: epoch_index: 0, batch_index: 279, ema_loss: 0.6932880878448486\n",
      "2023-05-06 07:19:52,323 (2306368053:32) WARNING: epoch_index: 0, batch_index: 299, ema_loss: 0.6928597092628479\n",
      "2023-05-06 07:19:52,324 (2306368053:47) WARNING: start to do evaluation...\n",
      "2023-05-06 07:19:57,869 (2306368053:60) WARNING: ema_eval_loss: 0.7018624544143677, eval_acc: 0.53024\n",
      "2023-05-06 07:19:58,136 (2306368053:32) WARNING: epoch_index: 0, batch_index: 319, ema_loss: 0.6928571462631226\n",
      "2023-05-06 07:19:58,399 (2306368053:32) WARNING: epoch_index: 0, batch_index: 339, ema_loss: 0.6930123567581177\n",
      "2023-05-06 07:19:58,677 (2306368053:32) WARNING: epoch_index: 0, batch_index: 359, ema_loss: 0.6933475136756897\n",
      "2023-05-06 07:19:58,948 (2306368053:32) WARNING: epoch_index: 0, batch_index: 379, ema_loss: 0.6932147741317749\n",
      "2023-05-06 07:19:59,106 (2306368053:63) WARNING: time cost is: 10.911974668502808\n"
     ]
    },
    {
     "name": "stderr",
     "output_type": "stream",
     "text": [
      "epoch:  10%|█         | 1/10 [00:10<01:38, 10.91s/it]"
     ]
    },
    {
     "name": "stdout",
     "output_type": "stream",
     "text": [
      "2023-05-06 07:19:59,235 (2306368053:32) WARNING: epoch_index: 1, batch_index: 8, ema_loss: 0.4241696298122406\n",
      "2023-05-06 07:19:59,519 (2306368053:32) WARNING: epoch_index: 1, batch_index: 28, ema_loss: 0.6600161194801331\n",
      "2023-05-06 07:19:59,793 (2306368053:32) WARNING: epoch_index: 1, batch_index: 48, ema_loss: 0.6893443465232849\n",
      "2023-05-06 07:20:00,070 (2306368053:32) WARNING: epoch_index: 1, batch_index: 68, ema_loss: 0.6926725506782532\n",
      "2023-05-06 07:20:00,349 (2306368053:32) WARNING: epoch_index: 1, batch_index: 88, ema_loss: 0.6929142475128174\n",
      "2023-05-06 07:20:00,616 (2306368053:32) WARNING: epoch_index: 1, batch_index: 108, ema_loss: 0.691936194896698\n",
      "2023-05-06 07:20:00,633 (2306368053:44) WARNING: checkpoint has been saved in ./embed_adm/step_500.pt\n",
      "2023-05-06 07:20:00,909 (2306368053:32) WARNING: epoch_index: 1, batch_index: 128, ema_loss: 0.692777156829834\n",
      "2023-05-06 07:20:01,179 (2306368053:32) WARNING: epoch_index: 1, batch_index: 148, ema_loss: 0.6924036145210266\n",
      "2023-05-06 07:20:01,456 (2306368053:32) WARNING: epoch_index: 1, batch_index: 168, ema_loss: 0.6929088234901428\n",
      "2023-05-06 07:20:01,732 (2306368053:32) WARNING: epoch_index: 1, batch_index: 188, ema_loss: 0.6926570534706116\n",
      "2023-05-06 07:20:01,995 (2306368053:32) WARNING: epoch_index: 1, batch_index: 208, ema_loss: 0.6923584342002869\n",
      "2023-05-06 07:20:01,996 (2306368053:47) WARNING: start to do evaluation...\n",
      "2023-05-06 07:20:07,632 (2306368053:60) WARNING: ema_eval_loss: 0.7031532526016235, eval_acc: 0.54352\n",
      "2023-05-06 07:20:07,918 (2306368053:32) WARNING: epoch_index: 1, batch_index: 228, ema_loss: 0.6925099492073059\n",
      "2023-05-06 07:20:08,191 (2306368053:32) WARNING: epoch_index: 1, batch_index: 248, ema_loss: 0.6923363208770752\n",
      "2023-05-06 07:20:08,482 (2306368053:32) WARNING: epoch_index: 1, batch_index: 268, ema_loss: 0.6919536590576172\n",
      "2023-05-06 07:20:08,762 (2306368053:32) WARNING: epoch_index: 1, batch_index: 288, ema_loss: 0.6924578547477722\n",
      "2023-05-06 07:20:09,035 (2306368053:32) WARNING: epoch_index: 1, batch_index: 308, ema_loss: 0.6923322677612305\n",
      "2023-05-06 07:20:09,305 (2306368053:32) WARNING: epoch_index: 1, batch_index: 328, ema_loss: 0.6925729513168335\n",
      "2023-05-06 07:20:09,572 (2306368053:32) WARNING: epoch_index: 1, batch_index: 348, ema_loss: 0.6923417448997498\n",
      "2023-05-06 07:20:09,833 (2306368053:32) WARNING: epoch_index: 1, batch_index: 368, ema_loss: 0.6918325424194336\n",
      "2023-05-06 07:20:10,105 (2306368053:32) WARNING: epoch_index: 1, batch_index: 388, ema_loss: 0.6925945281982422\n",
      "2023-05-06 07:20:10,130 (2306368053:63) WARNING: time cost is: 11.019893407821655\n"
     ]
    },
    {
     "name": "stderr",
     "output_type": "stream",
     "text": [
      "epoch:  20%|██        | 2/10 [00:21<01:27, 10.98s/it]"
     ]
    },
    {
     "name": "stdout",
     "output_type": "stream",
     "text": [
      "2023-05-06 07:20:10,388 (2306368053:32) WARNING: epoch_index: 2, batch_index: 17, ema_loss: 0.588779628276825\n",
      "2023-05-06 07:20:10,647 (2306368053:32) WARNING: epoch_index: 2, batch_index: 37, ema_loss: 0.6795786023139954\n",
      "2023-05-06 07:20:10,920 (2306368053:32) WARNING: epoch_index: 2, batch_index: 57, ema_loss: 0.6904779076576233\n",
      "2023-05-06 07:20:11,204 (2306368053:32) WARNING: epoch_index: 2, batch_index: 77, ema_loss: 0.6922297477722168\n",
      "2023-05-06 07:20:11,481 (2306368053:32) WARNING: epoch_index: 2, batch_index: 97, ema_loss: 0.6919519901275635\n",
      "2023-05-06 07:20:11,757 (2306368053:32) WARNING: epoch_index: 2, batch_index: 117, ema_loss: 0.692398726940155\n",
      "2023-05-06 07:20:11,758 (2306368053:47) WARNING: start to do evaluation...\n",
      "2023-05-06 07:20:17,409 (2306368053:60) WARNING: ema_eval_loss: 0.6988325715065002, eval_acc: 0.58148\n",
      "2023-05-06 07:20:17,686 (2306368053:32) WARNING: epoch_index: 2, batch_index: 137, ema_loss: 0.691850483417511\n",
      "2023-05-06 07:20:17,958 (2306368053:32) WARNING: epoch_index: 2, batch_index: 157, ema_loss: 0.692180335521698\n",
      "2023-05-06 07:20:18,230 (2306368053:32) WARNING: epoch_index: 2, batch_index: 177, ema_loss: 0.6917833685874939\n",
      "2023-05-06 07:20:18,506 (2306368053:32) WARNING: epoch_index: 2, batch_index: 197, ema_loss: 0.6919364333152771\n",
      "2023-05-06 07:20:18,769 (2306368053:32) WARNING: epoch_index: 2, batch_index: 217, ema_loss: 0.6922258138656616\n",
      "2023-05-06 07:20:18,785 (2306368053:44) WARNING: checkpoint has been saved in ./embed_adm/step_1000.pt\n",
      "2023-05-06 07:20:19,059 (2306368053:32) WARNING: epoch_index: 2, batch_index: 237, ema_loss: 0.6917967200279236\n",
      "2023-05-06 07:20:19,320 (2306368053:32) WARNING: epoch_index: 2, batch_index: 257, ema_loss: 0.6912742257118225\n",
      "2023-05-06 07:20:19,591 (2306368053:32) WARNING: epoch_index: 2, batch_index: 277, ema_loss: 0.6914343237876892\n",
      "2023-05-06 07:20:19,868 (2306368053:32) WARNING: epoch_index: 2, batch_index: 297, ema_loss: 0.6921494007110596\n",
      "2023-05-06 07:20:20,149 (2306368053:32) WARNING: epoch_index: 2, batch_index: 317, ema_loss: 0.6917425394058228\n",
      "2023-05-06 07:20:20,425 (2306368053:32) WARNING: epoch_index: 2, batch_index: 337, ema_loss: 0.6920434832572937\n",
      "2023-05-06 07:20:20,697 (2306368053:32) WARNING: epoch_index: 2, batch_index: 357, ema_loss: 0.6918055415153503\n",
      "2023-05-06 07:20:20,955 (2306368053:32) WARNING: epoch_index: 2, batch_index: 377, ema_loss: 0.6917126178741455\n",
      "2023-05-06 07:20:21,132 (2306368053:63) WARNING: time cost is: 10.99658989906311\n"
     ]
    },
    {
     "name": "stderr",
     "output_type": "stream",
     "text": [
      "epoch:  30%|███       | 3/10 [00:32<01:16, 10.99s/it]"
     ]
    },
    {
     "name": "stdout",
     "output_type": "stream",
     "text": [
      "2023-05-06 07:20:21,230 (2306368053:32) WARNING: epoch_index: 3, batch_index: 6, ema_loss: 0.3605271577835083\n",
      "2023-05-06 07:20:21,497 (2306368053:32) WARNING: epoch_index: 3, batch_index: 26, ema_loss: 0.6516565680503845\n",
      "2023-05-06 07:20:21,498 (2306368053:47) WARNING: start to do evaluation...\n",
      "2023-05-06 07:20:27,145 (2306368053:60) WARNING: ema_eval_loss: 0.6909385323524475, eval_acc: 0.57936\n",
      "2023-05-06 07:20:27,422 (2306368053:32) WARNING: epoch_index: 3, batch_index: 46, ema_loss: 0.6862829923629761\n",
      "2023-05-06 07:20:27,690 (2306368053:32) WARNING: epoch_index: 3, batch_index: 66, ema_loss: 0.6908080577850342\n",
      "2023-05-06 07:20:27,963 (2306368053:32) WARNING: epoch_index: 3, batch_index: 86, ema_loss: 0.6908308863639832\n",
      "2023-05-06 07:20:28,237 (2306368053:32) WARNING: epoch_index: 3, batch_index: 106, ema_loss: 0.6918303370475769\n",
      "2023-05-06 07:20:28,507 (2306368053:32) WARNING: epoch_index: 3, batch_index: 126, ema_loss: 0.6915938854217529\n",
      "2023-05-06 07:20:28,779 (2306368053:32) WARNING: epoch_index: 3, batch_index: 146, ema_loss: 0.6910624504089355\n",
      "2023-05-06 07:20:29,062 (2306368053:32) WARNING: epoch_index: 3, batch_index: 166, ema_loss: 0.6913833022117615\n",
      "2023-05-06 07:20:29,333 (2306368053:32) WARNING: epoch_index: 3, batch_index: 186, ema_loss: 0.6910867691040039\n",
      "2023-05-06 07:20:29,613 (2306368053:32) WARNING: epoch_index: 3, batch_index: 206, ema_loss: 0.6913686990737915\n",
      "2023-05-06 07:20:29,893 (2306368053:32) WARNING: epoch_index: 3, batch_index: 226, ema_loss: 0.691095769405365\n",
      "2023-05-06 07:20:30,163 (2306368053:32) WARNING: epoch_index: 3, batch_index: 246, ema_loss: 0.6911184787750244\n",
      "2023-05-06 07:20:30,435 (2306368053:32) WARNING: epoch_index: 3, batch_index: 266, ema_loss: 0.6911423802375793\n",
      "2023-05-06 07:20:30,706 (2306368053:32) WARNING: epoch_index: 3, batch_index: 286, ema_loss: 0.6909598708152771\n",
      "2023-05-06 07:20:30,974 (2306368053:32) WARNING: epoch_index: 3, batch_index: 306, ema_loss: 0.6914708614349365\n",
      "2023-05-06 07:20:31,231 (2306368053:32) WARNING: epoch_index: 3, batch_index: 326, ema_loss: 0.6907817721366882\n",
      "2023-05-06 07:20:31,246 (2306368053:44) WARNING: checkpoint has been saved in ./embed_adm/step_1500.pt\n",
      "2023-05-06 07:20:31,246 (2306368053:47) WARNING: start to do evaluation...\n",
      "2023-05-06 07:20:36,879 (2306368053:60) WARNING: ema_eval_loss: 0.6966575384140015, eval_acc: 0.62664\n",
      "2023-05-06 07:20:37,138 (2306368053:32) WARNING: epoch_index: 3, batch_index: 346, ema_loss: 0.6906857490539551\n",
      "2023-05-06 07:20:37,408 (2306368053:32) WARNING: epoch_index: 3, batch_index: 366, ema_loss: 0.6907490491867065\n",
      "2023-05-06 07:20:37,681 (2306368053:32) WARNING: epoch_index: 3, batch_index: 386, ema_loss: 0.6904481053352356\n",
      "2023-05-06 07:20:37,734 (2306368053:63) WARNING: time cost is: 16.598341941833496\n"
     ]
    },
    {
     "name": "stderr",
     "output_type": "stream",
     "text": [
      "epoch:  40%|████      | 4/10 [00:49<01:19, 13.21s/it]"
     ]
    },
    {
     "name": "stdout",
     "output_type": "stream",
     "text": [
      "2023-05-06 07:20:37,951 (2306368053:32) WARNING: epoch_index: 4, batch_index: 15, ema_loss: 0.5623062252998352\n",
      "2023-05-06 07:20:38,215 (2306368053:32) WARNING: epoch_index: 4, batch_index: 35, ema_loss: 0.674849808216095\n",
      "2023-05-06 07:20:38,480 (2306368053:32) WARNING: epoch_index: 4, batch_index: 55, ema_loss: 0.6886152625083923\n",
      "2023-05-06 07:20:38,770 (2306368053:32) WARNING: epoch_index: 4, batch_index: 75, ema_loss: 0.6904485821723938\n",
      "2023-05-06 07:20:39,045 (2306368053:32) WARNING: epoch_index: 4, batch_index: 95, ema_loss: 0.6905045509338379\n",
      "2023-05-06 07:20:39,319 (2306368053:32) WARNING: epoch_index: 4, batch_index: 115, ema_loss: 0.6908997297286987\n",
      "2023-05-06 07:20:39,584 (2306368053:32) WARNING: epoch_index: 4, batch_index: 135, ema_loss: 0.6906638741493225\n",
      "2023-05-06 07:20:39,863 (2306368053:32) WARNING: epoch_index: 4, batch_index: 155, ema_loss: 0.6908431053161621\n",
      "2023-05-06 07:20:40,142 (2306368053:32) WARNING: epoch_index: 4, batch_index: 175, ema_loss: 0.6902807950973511\n",
      "2023-05-06 07:20:40,412 (2306368053:32) WARNING: epoch_index: 4, batch_index: 195, ema_loss: 0.6902047395706177\n",
      "2023-05-06 07:20:40,684 (2306368053:32) WARNING: epoch_index: 4, batch_index: 215, ema_loss: 0.6894744634628296\n",
      "2023-05-06 07:20:40,974 (2306368053:32) WARNING: epoch_index: 4, batch_index: 235, ema_loss: 0.6904986500740051\n",
      "2023-05-06 07:20:40,975 (2306368053:47) WARNING: start to do evaluation...\n",
      "2023-05-06 07:20:47,320 (2306368053:60) WARNING: ema_eval_loss: 0.679085910320282, eval_acc: 0.58728\n",
      "2023-05-06 07:20:47,604 (2306368053:32) WARNING: epoch_index: 4, batch_index: 255, ema_loss: 0.6903231143951416\n",
      "2023-05-06 07:20:47,890 (2306368053:32) WARNING: epoch_index: 4, batch_index: 275, ema_loss: 0.6899123191833496\n",
      "2023-05-06 07:20:48,192 (2306368053:32) WARNING: epoch_index: 4, batch_index: 295, ema_loss: 0.6908161044120789\n",
      "2023-05-06 07:20:48,478 (2306368053:32) WARNING: epoch_index: 4, batch_index: 315, ema_loss: 0.6913002729415894\n",
      "2023-05-06 07:20:48,744 (2306368053:32) WARNING: epoch_index: 4, batch_index: 335, ema_loss: 0.6902695298194885\n",
      "2023-05-06 07:20:49,019 (2306368053:32) WARNING: epoch_index: 4, batch_index: 355, ema_loss: 0.6896423101425171\n",
      "2023-05-06 07:20:49,288 (2306368053:32) WARNING: epoch_index: 4, batch_index: 375, ema_loss: 0.6892044544219971\n",
      "2023-05-06 07:20:49,502 (2306368053:63) WARNING: time cost is: 11.764081001281738\n"
     ]
    },
    {
     "name": "stderr",
     "output_type": "stream",
     "text": [
      "epoch:  50%|█████     | 5/10 [01:01<01:03, 12.69s/it]"
     ]
    },
    {
     "name": "stdout",
     "output_type": "stream",
     "text": [
      "2023-05-06 07:20:49,583 (2306368053:32) WARNING: epoch_index: 5, batch_index: 4, ema_loss: 0.2828497290611267\n",
      "2023-05-06 07:20:49,857 (2306368053:32) WARNING: epoch_index: 5, batch_index: 24, ema_loss: 0.6405194401741028\n",
      "2023-05-06 07:20:50,132 (2306368053:32) WARNING: epoch_index: 5, batch_index: 44, ema_loss: 0.6840855479240417\n",
      "2023-05-06 07:20:50,148 (2306368053:44) WARNING: checkpoint has been saved in ./embed_adm/step_2000.pt\n",
      "2023-05-06 07:20:50,430 (2306368053:32) WARNING: epoch_index: 5, batch_index: 64, ema_loss: 0.6893330812454224\n",
      "2023-05-06 07:20:50,709 (2306368053:32) WARNING: epoch_index: 5, batch_index: 84, ema_loss: 0.6901477575302124\n",
      "2023-05-06 07:20:51,003 (2306368053:32) WARNING: epoch_index: 5, batch_index: 104, ema_loss: 0.6901943683624268\n",
      "2023-05-06 07:20:51,274 (2306368053:32) WARNING: epoch_index: 5, batch_index: 124, ema_loss: 0.6892337799072266\n",
      "2023-05-06 07:20:51,554 (2306368053:32) WARNING: epoch_index: 5, batch_index: 144, ema_loss: 0.6894814968109131\n",
      "2023-05-06 07:20:51,555 (2306368053:47) WARNING: start to do evaluation...\n",
      "2023-05-06 07:20:57,305 (2306368053:60) WARNING: ema_eval_loss: 0.7098358273506165, eval_acc: 0.551\n",
      "2023-05-06 07:20:57,583 (2306368053:32) WARNING: epoch_index: 5, batch_index: 164, ema_loss: 0.6897538900375366\n",
      "2023-05-06 07:20:57,852 (2306368053:32) WARNING: epoch_index: 5, batch_index: 184, ema_loss: 0.6890970468521118\n",
      "2023-05-06 07:20:58,122 (2306368053:32) WARNING: epoch_index: 5, batch_index: 204, ema_loss: 0.6892213821411133\n",
      "2023-05-06 07:20:58,390 (2306368053:32) WARNING: epoch_index: 5, batch_index: 224, ema_loss: 0.6893923878669739\n",
      "2023-05-06 07:20:58,663 (2306368053:32) WARNING: epoch_index: 5, batch_index: 244, ema_loss: 0.6893054842948914\n",
      "2023-05-06 07:20:58,933 (2306368053:32) WARNING: epoch_index: 5, batch_index: 264, ema_loss: 0.6886420249938965\n",
      "2023-05-06 07:20:59,195 (2306368053:32) WARNING: epoch_index: 5, batch_index: 284, ema_loss: 0.6884438395500183\n",
      "2023-05-06 07:20:59,466 (2306368053:32) WARNING: epoch_index: 5, batch_index: 304, ema_loss: 0.6893637180328369\n",
      "2023-05-06 07:20:59,741 (2306368053:32) WARNING: epoch_index: 5, batch_index: 324, ema_loss: 0.68912672996521\n",
      "2023-05-06 07:21:00,014 (2306368053:32) WARNING: epoch_index: 5, batch_index: 344, ema_loss: 0.6883098483085632\n",
      "2023-05-06 07:21:00,293 (2306368053:32) WARNING: epoch_index: 5, batch_index: 364, ema_loss: 0.6881804466247559\n",
      "2023-05-06 07:21:00,554 (2306368053:32) WARNING: epoch_index: 5, batch_index: 384, ema_loss: 0.6886451840400696\n",
      "2023-05-06 07:21:00,630 (2306368053:63) WARNING: time cost is: 11.122824668884277\n"
     ]
    },
    {
     "name": "stderr",
     "output_type": "stream",
     "text": [
      "epoch:  60%|██████    | 6/10 [01:12<00:48, 12.16s/it]"
     ]
    },
    {
     "name": "stdout",
     "output_type": "stream",
     "text": [
      "2023-05-06 07:21:00,828 (2306368053:32) WARNING: epoch_index: 6, batch_index: 13, ema_loss: 0.5315308570861816\n",
      "2023-05-06 07:21:01,091 (2306368053:32) WARNING: epoch_index: 6, batch_index: 33, ema_loss: 0.6699418425559998\n",
      "2023-05-06 07:21:01,361 (2306368053:32) WARNING: epoch_index: 6, batch_index: 53, ema_loss: 0.6862777471542358\n",
      "2023-05-06 07:21:01,362 (2306368053:47) WARNING: start to do evaluation...\n",
      "2023-05-06 07:21:07,526 (2306368053:60) WARNING: ema_eval_loss: 0.689642608165741, eval_acc: 0.68136\n",
      "2023-05-06 07:21:07,801 (2306368053:32) WARNING: epoch_index: 6, batch_index: 73, ema_loss: 0.6883252859115601\n",
      "2023-05-06 07:21:08,072 (2306368053:32) WARNING: epoch_index: 6, batch_index: 93, ema_loss: 0.6884255409240723\n",
      "2023-05-06 07:21:08,345 (2306368053:32) WARNING: epoch_index: 6, batch_index: 113, ema_loss: 0.6884551048278809\n",
      "2023-05-06 07:21:08,625 (2306368053:32) WARNING: epoch_index: 6, batch_index: 133, ema_loss: 0.6884546875953674\n",
      "2023-05-06 07:21:08,900 (2306368053:32) WARNING: epoch_index: 6, batch_index: 153, ema_loss: 0.6887025833129883\n",
      "2023-05-06 07:21:08,916 (2306368053:44) WARNING: checkpoint has been saved in ./embed_adm/step_2500.pt\n",
      "2023-05-06 07:21:09,201 (2306368053:32) WARNING: epoch_index: 6, batch_index: 173, ema_loss: 0.6891132593154907\n",
      "2023-05-06 07:21:09,479 (2306368053:32) WARNING: epoch_index: 6, batch_index: 193, ema_loss: 0.6875088810920715\n",
      "2023-05-06 07:21:09,753 (2306368053:32) WARNING: epoch_index: 6, batch_index: 213, ema_loss: 0.6880835890769958\n",
      "2023-05-06 07:21:10,028 (2306368053:32) WARNING: epoch_index: 6, batch_index: 233, ema_loss: 0.6878137588500977\n",
      "2023-05-06 07:21:10,301 (2306368053:32) WARNING: epoch_index: 6, batch_index: 253, ema_loss: 0.6884729862213135\n",
      "2023-05-06 07:21:10,572 (2306368053:32) WARNING: epoch_index: 6, batch_index: 273, ema_loss: 0.6880242228507996\n",
      "2023-05-06 07:21:10,845 (2306368053:32) WARNING: epoch_index: 6, batch_index: 293, ema_loss: 0.6889162063598633\n",
      "2023-05-06 07:21:11,120 (2306368053:32) WARNING: epoch_index: 6, batch_index: 313, ema_loss: 0.6881877183914185\n",
      "2023-05-06 07:21:11,398 (2306368053:32) WARNING: epoch_index: 6, batch_index: 333, ema_loss: 0.6877297759056091\n",
      "2023-05-06 07:21:11,675 (2306368053:32) WARNING: epoch_index: 6, batch_index: 353, ema_loss: 0.6880156993865967\n",
      "2023-05-06 07:21:11,675 (2306368053:47) WARNING: start to do evaluation...\n",
      "2023-05-06 07:21:17,475 (2306368053:60) WARNING: ema_eval_loss: 0.6967841386795044, eval_acc: 0.63388\n",
      "2023-05-06 07:21:17,760 (2306368053:32) WARNING: epoch_index: 6, batch_index: 373, ema_loss: 0.687902569770813\n",
      "2023-05-06 07:21:18,008 (2306368053:63) WARNING: time cost is: 17.37357759475708\n"
     ]
    },
    {
     "name": "stderr",
     "output_type": "stream",
     "text": [
      "epoch:  70%|███████   | 7/10 [01:29<00:41, 13.86s/it]"
     ]
    },
    {
     "name": "stdout",
     "output_type": "stream",
     "text": [
      "2023-05-06 07:21:18,060 (2306368053:32) WARNING: epoch_index: 7, batch_index: 2, ema_loss: 0.1868036985397339\n",
      "2023-05-06 07:21:18,350 (2306368053:32) WARNING: epoch_index: 7, batch_index: 22, ema_loss: 0.6271712183952332\n",
      "2023-05-06 07:21:18,629 (2306368053:32) WARNING: epoch_index: 7, batch_index: 42, ema_loss: 0.680738627910614\n",
      "2023-05-06 07:21:18,896 (2306368053:32) WARNING: epoch_index: 7, batch_index: 62, ema_loss: 0.6875621676445007\n",
      "2023-05-06 07:21:19,164 (2306368053:32) WARNING: epoch_index: 7, batch_index: 82, ema_loss: 0.6871839761734009\n",
      "2023-05-06 07:21:19,449 (2306368053:32) WARNING: epoch_index: 7, batch_index: 102, ema_loss: 0.6863524913787842\n",
      "2023-05-06 07:21:19,733 (2306368053:32) WARNING: epoch_index: 7, batch_index: 122, ema_loss: 0.6871007084846497\n",
      "2023-05-06 07:21:20,018 (2306368053:32) WARNING: epoch_index: 7, batch_index: 142, ema_loss: 0.6876477599143982\n",
      "2023-05-06 07:21:20,303 (2306368053:32) WARNING: epoch_index: 7, batch_index: 162, ema_loss: 0.6874829530715942\n",
      "2023-05-06 07:21:20,586 (2306368053:32) WARNING: epoch_index: 7, batch_index: 182, ema_loss: 0.6867691874504089\n",
      "2023-05-06 07:21:20,864 (2306368053:32) WARNING: epoch_index: 7, batch_index: 202, ema_loss: 0.6866507530212402\n",
      "2023-05-06 07:21:21,138 (2306368053:32) WARNING: epoch_index: 7, batch_index: 222, ema_loss: 0.6875141263008118\n",
      "2023-05-06 07:21:21,407 (2306368053:32) WARNING: epoch_index: 7, batch_index: 242, ema_loss: 0.6867182850837708\n",
      "2023-05-06 07:21:21,680 (2306368053:32) WARNING: epoch_index: 7, batch_index: 262, ema_loss: 0.687050998210907\n",
      "2023-05-06 07:21:21,696 (2306368053:44) WARNING: checkpoint has been saved in ./embed_adm/step_3000.pt\n",
      "2023-05-06 07:21:21,697 (2306368053:47) WARNING: start to do evaluation...\n",
      "2023-05-06 07:21:27,567 (2306368053:60) WARNING: ema_eval_loss: 0.6852916479110718, eval_acc: 0.6924\n",
      "2023-05-06 07:21:27,851 (2306368053:32) WARNING: epoch_index: 7, batch_index: 282, ema_loss: 0.686898946762085\n",
      "2023-05-06 07:21:28,126 (2306368053:32) WARNING: epoch_index: 7, batch_index: 302, ema_loss: 0.6865463852882385\n",
      "2023-05-06 07:21:28,396 (2306368053:32) WARNING: epoch_index: 7, batch_index: 322, ema_loss: 0.6852583885192871\n",
      "2023-05-06 07:21:28,673 (2306368053:32) WARNING: epoch_index: 7, batch_index: 342, ema_loss: 0.6868038773536682\n",
      "2023-05-06 07:21:28,947 (2306368053:32) WARNING: epoch_index: 7, batch_index: 362, ema_loss: 0.6875705718994141\n",
      "2023-05-06 07:21:29,219 (2306368053:32) WARNING: epoch_index: 7, batch_index: 382, ema_loss: 0.686495840549469\n",
      "2023-05-06 07:21:29,327 (2306368053:63) WARNING: time cost is: 11.311420202255249\n"
     ]
    },
    {
     "name": "stderr",
     "output_type": "stream",
     "text": [
      "epoch:  80%|████████  | 8/10 [01:41<00:26, 13.05s/it]"
     ]
    },
    {
     "name": "stdout",
     "output_type": "stream",
     "text": [
      "2023-05-06 07:21:29,494 (2306368053:32) WARNING: epoch_index: 8, batch_index: 11, ema_loss: 0.49233555793762207\n",
      "2023-05-06 07:21:29,768 (2306368053:32) WARNING: epoch_index: 8, batch_index: 31, ema_loss: 0.6626986265182495\n",
      "2023-05-06 07:21:30,038 (2306368053:32) WARNING: epoch_index: 8, batch_index: 51, ema_loss: 0.6827876567840576\n",
      "2023-05-06 07:21:30,310 (2306368053:32) WARNING: epoch_index: 8, batch_index: 71, ema_loss: 0.6854875683784485\n",
      "2023-05-06 07:21:30,588 (2306368053:32) WARNING: epoch_index: 8, batch_index: 91, ema_loss: 0.6867401599884033\n",
      "2023-05-06 07:21:30,865 (2306368053:32) WARNING: epoch_index: 8, batch_index: 111, ema_loss: 0.6865541934967041\n",
      "2023-05-06 07:21:31,145 (2306368053:32) WARNING: epoch_index: 8, batch_index: 131, ema_loss: 0.6861276030540466\n",
      "2023-05-06 07:21:31,428 (2306368053:32) WARNING: epoch_index: 8, batch_index: 151, ema_loss: 0.6849938035011292\n",
      "2023-05-06 07:21:31,704 (2306368053:32) WARNING: epoch_index: 8, batch_index: 171, ema_loss: 0.6857311725616455\n",
      "2023-05-06 07:21:31,705 (2306368053:47) WARNING: start to do evaluation...\n",
      "2023-05-06 07:21:37,395 (2306368053:60) WARNING: ema_eval_loss: 0.6835950016975403, eval_acc: 0.69764\n",
      "2023-05-06 07:21:37,663 (2306368053:32) WARNING: epoch_index: 8, batch_index: 191, ema_loss: 0.6849183440208435\n",
      "2023-05-06 07:21:37,944 (2306368053:32) WARNING: epoch_index: 8, batch_index: 211, ema_loss: 0.6858640909194946\n",
      "2023-05-06 07:21:38,221 (2306368053:32) WARNING: epoch_index: 8, batch_index: 231, ema_loss: 0.6861830949783325\n",
      "2023-05-06 07:21:38,499 (2306368053:32) WARNING: epoch_index: 8, batch_index: 251, ema_loss: 0.6852470636367798\n",
      "2023-05-06 07:21:38,791 (2306368053:32) WARNING: epoch_index: 8, batch_index: 271, ema_loss: 0.6856177449226379\n",
      "2023-05-06 07:21:39,064 (2306368053:32) WARNING: epoch_index: 8, batch_index: 291, ema_loss: 0.6862633228302002\n",
      "2023-05-06 07:21:39,329 (2306368053:32) WARNING: epoch_index: 8, batch_index: 311, ema_loss: 0.6853955388069153\n",
      "2023-05-06 07:21:39,599 (2306368053:32) WARNING: epoch_index: 8, batch_index: 331, ema_loss: 0.6847086548805237\n",
      "2023-05-06 07:21:39,873 (2306368053:32) WARNING: epoch_index: 8, batch_index: 351, ema_loss: 0.6852931380271912\n",
      "2023-05-06 07:21:40,145 (2306368053:32) WARNING: epoch_index: 8, batch_index: 371, ema_loss: 0.6855692863464355\n",
      "2023-05-06 07:21:40,161 (2306368053:44) WARNING: checkpoint has been saved in ./embed_adm/step_3500.pt\n",
      "2023-05-06 07:21:40,409 (2306368053:63) WARNING: time cost is: 11.077184677124023\n"
     ]
    },
    {
     "name": "stderr",
     "output_type": "stream",
     "text": [
      "epoch:  90%|█████████ | 9/10 [01:52<00:12, 12.44s/it]"
     ]
    },
    {
     "name": "stdout",
     "output_type": "stream",
     "text": [
      "2023-05-06 07:21:40,429 (2306368053:32) WARNING: epoch_index: 9, batch_index: 0, ema_loss: 0.06869905441999435\n",
      "2023-05-06 07:21:40,706 (2306368053:32) WARNING: epoch_index: 9, batch_index: 20, ema_loss: 0.6105771660804749\n",
      "2023-05-06 07:21:40,973 (2306368053:32) WARNING: epoch_index: 9, batch_index: 40, ema_loss: 0.6754571199417114\n",
      "2023-05-06 07:21:41,241 (2306368053:32) WARNING: epoch_index: 9, batch_index: 60, ema_loss: 0.6822473406791687\n",
      "2023-05-06 07:21:41,525 (2306368053:32) WARNING: epoch_index: 9, batch_index: 80, ema_loss: 0.6852259635925293\n",
      "2023-05-06 07:21:41,526 (2306368053:47) WARNING: start to do evaluation...\n",
      "2023-05-06 07:21:47,292 (2306368053:60) WARNING: ema_eval_loss: 0.6690146327018738, eval_acc: 0.66728\n",
      "2023-05-06 07:21:47,573 (2306368053:32) WARNING: epoch_index: 9, batch_index: 100, ema_loss: 0.6840384006500244\n",
      "2023-05-06 07:21:47,841 (2306368053:32) WARNING: epoch_index: 9, batch_index: 120, ema_loss: 0.684909999370575\n",
      "2023-05-06 07:21:48,110 (2306368053:32) WARNING: epoch_index: 9, batch_index: 140, ema_loss: 0.6835175156593323\n",
      "2023-05-06 07:21:48,383 (2306368053:32) WARNING: epoch_index: 9, batch_index: 160, ema_loss: 0.6838825941085815\n",
      "2023-05-06 07:21:48,649 (2306368053:32) WARNING: epoch_index: 9, batch_index: 180, ema_loss: 0.6836611032485962\n",
      "2023-05-06 07:21:48,916 (2306368053:32) WARNING: epoch_index: 9, batch_index: 200, ema_loss: 0.6835636496543884\n",
      "2023-05-06 07:21:49,187 (2306368053:32) WARNING: epoch_index: 9, batch_index: 220, ema_loss: 0.6841161847114563\n",
      "2023-05-06 07:21:49,455 (2306368053:32) WARNING: epoch_index: 9, batch_index: 240, ema_loss: 0.6851249933242798\n",
      "2023-05-06 07:21:49,727 (2306368053:32) WARNING: epoch_index: 9, batch_index: 260, ema_loss: 0.6843453049659729\n",
      "2023-05-06 07:21:50,010 (2306368053:32) WARNING: epoch_index: 9, batch_index: 280, ema_loss: 0.6848896145820618\n",
      "2023-05-06 07:21:50,282 (2306368053:32) WARNING: epoch_index: 9, batch_index: 300, ema_loss: 0.6845062375068665\n",
      "2023-05-06 07:21:50,556 (2306368053:32) WARNING: epoch_index: 9, batch_index: 320, ema_loss: 0.6835031509399414\n",
      "2023-05-06 07:21:50,828 (2306368053:32) WARNING: epoch_index: 9, batch_index: 340, ema_loss: 0.6842812895774841\n",
      "2023-05-06 07:21:51,112 (2306368053:32) WARNING: epoch_index: 9, batch_index: 360, ema_loss: 0.6830600500106812\n",
      "2023-05-06 07:21:51,374 (2306368053:32) WARNING: epoch_index: 9, batch_index: 380, ema_loss: 0.6817697286605835\n",
      "2023-05-06 07:21:51,374 (2306368053:47) WARNING: start to do evaluation...\n",
      "2023-05-06 07:21:57,158 (2306368053:60) WARNING: ema_eval_loss: 0.6991069912910461, eval_acc: 0.62508\n",
      "2023-05-06 07:21:57,289 (2306368053:63) WARNING: time cost is: 16.87667155265808\n"
     ]
    },
    {
     "name": "stderr",
     "output_type": "stream",
     "text": [
      "epoch: 100%|██████████| 10/10 [02:09<00:00, 12.91s/it]\n"
     ]
    }
   ],
   "source": [
    "optimizer = torch.optim.Adam(model.parameters(), lr=1e-4)\n",
    "train(train_data_loader, eval_data_loader, model, optimizer, num_epoch=10, log_step_interval=20, \\\n",
    "      save_step_interval=500, eval_step_interval=300, save_path=\"./embed_adm\", resume=resume)"
   ]
  },
  {
   "cell_type": "code",
   "execution_count": 8,
   "id": "3e5a378a-6e44-4a89-9b84-367d7044e287",
   "metadata": {},
   "outputs": [
    {
     "name": "stderr",
     "output_type": "stream",
     "text": [
      "epoch:   0%|          | 0/10 [00:00<?, ?it/s]"
     ]
    },
    {
     "name": "stdout",
     "output_type": "stream",
     "text": [
      "2023-05-06 07:21:57,624 (2306368053:32) WARNING: epoch_index: 0, batch_index: 19, ema_loss: 0.5998809933662415\n",
      "2023-05-06 07:21:57,903 (2306368053:32) WARNING: epoch_index: 0, batch_index: 39, ema_loss: 0.6729063391685486\n",
      "2023-05-06 07:21:58,178 (2306368053:32) WARNING: epoch_index: 0, batch_index: 59, ema_loss: 0.6817951798439026\n",
      "2023-05-06 07:21:58,449 (2306368053:32) WARNING: epoch_index: 0, batch_index: 79, ema_loss: 0.682714581489563\n",
      "2023-05-06 07:21:58,722 (2306368053:32) WARNING: epoch_index: 0, batch_index: 99, ema_loss: 0.6839251518249512\n",
      "2023-05-06 07:21:58,993 (2306368053:32) WARNING: epoch_index: 0, batch_index: 119, ema_loss: 0.6837183833122253\n",
      "2023-05-06 07:21:59,275 (2306368053:32) WARNING: epoch_index: 0, batch_index: 139, ema_loss: 0.6833877563476562\n",
      "2023-05-06 07:21:59,554 (2306368053:32) WARNING: epoch_index: 0, batch_index: 159, ema_loss: 0.6833356618881226\n",
      "2023-05-06 07:21:59,825 (2306368053:32) WARNING: epoch_index: 0, batch_index: 179, ema_loss: 0.6819902658462524\n",
      "2023-05-06 07:22:00,099 (2306368053:32) WARNING: epoch_index: 0, batch_index: 199, ema_loss: 0.6825087070465088\n",
      "2023-05-06 07:22:00,375 (2306368053:32) WARNING: epoch_index: 0, batch_index: 219, ema_loss: 0.6827251315116882\n",
      "2023-05-06 07:22:00,657 (2306368053:32) WARNING: epoch_index: 0, batch_index: 239, ema_loss: 0.6823552846908569\n",
      "2023-05-06 07:22:00,939 (2306368053:32) WARNING: epoch_index: 0, batch_index: 259, ema_loss: 0.6818845272064209\n",
      "2023-05-06 07:22:01,202 (2306368053:32) WARNING: epoch_index: 0, batch_index: 279, ema_loss: 0.68040531873703\n",
      "2023-05-06 07:22:01,474 (2306368053:32) WARNING: epoch_index: 0, batch_index: 299, ema_loss: 0.6816096305847168\n",
      "2023-05-06 07:22:01,474 (2306368053:47) WARNING: start to do evaluation...\n",
      "2023-05-06 07:22:07,026 (2306368053:60) WARNING: ema_eval_loss: 0.6799784302711487, eval_acc: 0.70352\n",
      "2023-05-06 07:22:07,303 (2306368053:32) WARNING: epoch_index: 0, batch_index: 319, ema_loss: 0.6808356046676636\n",
      "2023-05-06 07:22:07,572 (2306368053:32) WARNING: epoch_index: 0, batch_index: 339, ema_loss: 0.6817398071289062\n",
      "2023-05-06 07:22:07,849 (2306368053:32) WARNING: epoch_index: 0, batch_index: 359, ema_loss: 0.6805615425109863\n",
      "2023-05-06 07:22:08,120 (2306368053:32) WARNING: epoch_index: 0, batch_index: 379, ema_loss: 0.682180643081665\n",
      "2023-05-06 07:22:08,269 (2306368053:63) WARNING: time cost is: 10.918607711791992\n"
     ]
    },
    {
     "name": "stderr",
     "output_type": "stream",
     "text": [
      "epoch:  10%|█         | 1/10 [00:10<01:38, 10.92s/it]"
     ]
    },
    {
     "name": "stdout",
     "output_type": "stream",
     "text": [
      "2023-05-06 07:22:08,399 (2306368053:32) WARNING: epoch_index: 1, batch_index: 8, ema_loss: 0.418472558259964\n",
      "2023-05-06 07:22:08,675 (2306368053:32) WARNING: epoch_index: 1, batch_index: 28, ema_loss: 0.6493127942085266\n",
      "2023-05-06 07:22:08,944 (2306368053:32) WARNING: epoch_index: 1, batch_index: 48, ema_loss: 0.6756512522697449\n",
      "2023-05-06 07:22:09,207 (2306368053:32) WARNING: epoch_index: 1, batch_index: 68, ema_loss: 0.6810343265533447\n",
      "2023-05-06 07:22:09,487 (2306368053:32) WARNING: epoch_index: 1, batch_index: 88, ema_loss: 0.6827625036239624\n",
      "2023-05-06 07:22:09,764 (2306368053:32) WARNING: epoch_index: 1, batch_index: 108, ema_loss: 0.6823949813842773\n",
      "2023-05-06 07:22:09,781 (2306368053:44) WARNING: checkpoint has been saved in ./embed_admw/step_500.pt\n",
      "2023-05-06 07:22:10,070 (2306368053:32) WARNING: epoch_index: 1, batch_index: 128, ema_loss: 0.6833586692810059\n",
      "2023-05-06 07:22:10,355 (2306368053:32) WARNING: epoch_index: 1, batch_index: 148, ema_loss: 0.6815834045410156\n",
      "2023-05-06 07:22:10,631 (2306368053:32) WARNING: epoch_index: 1, batch_index: 168, ema_loss: 0.6820153594017029\n",
      "2023-05-06 07:22:10,905 (2306368053:32) WARNING: epoch_index: 1, batch_index: 188, ema_loss: 0.6807857751846313\n",
      "2023-05-06 07:22:11,186 (2306368053:32) WARNING: epoch_index: 1, batch_index: 208, ema_loss: 0.6814439296722412\n",
      "2023-05-06 07:22:11,187 (2306368053:47) WARNING: start to do evaluation...\n",
      "2023-05-06 07:22:16,832 (2306368053:60) WARNING: ema_eval_loss: 0.6746591329574585, eval_acc: 0.70816\n",
      "2023-05-06 07:22:17,108 (2306368053:32) WARNING: epoch_index: 1, batch_index: 228, ema_loss: 0.6794852614402771\n",
      "2023-05-06 07:22:17,388 (2306368053:32) WARNING: epoch_index: 1, batch_index: 248, ema_loss: 0.6800748109817505\n",
      "2023-05-06 07:22:17,661 (2306368053:32) WARNING: epoch_index: 1, batch_index: 268, ema_loss: 0.679427981376648\n",
      "2023-05-06 07:22:17,920 (2306368053:32) WARNING: epoch_index: 1, batch_index: 288, ema_loss: 0.6796092391014099\n",
      "2023-05-06 07:22:18,186 (2306368053:32) WARNING: epoch_index: 1, batch_index: 308, ema_loss: 0.679952085018158\n",
      "2023-05-06 07:22:18,468 (2306368053:32) WARNING: epoch_index: 1, batch_index: 328, ema_loss: 0.6784673929214478\n",
      "2023-05-06 07:22:18,740 (2306368053:32) WARNING: epoch_index: 1, batch_index: 348, ema_loss: 0.6800850629806519\n",
      "2023-05-06 07:22:19,009 (2306368053:32) WARNING: epoch_index: 1, batch_index: 368, ema_loss: 0.6808642745018005\n",
      "2023-05-06 07:22:19,285 (2306368053:32) WARNING: epoch_index: 1, batch_index: 388, ema_loss: 0.6802818179130554\n",
      "2023-05-06 07:22:19,305 (2306368053:63) WARNING: time cost is: 11.032897233963013\n"
     ]
    },
    {
     "name": "stderr",
     "output_type": "stream",
     "text": [
      "epoch:  20%|██        | 2/10 [00:21<01:27, 10.99s/it]"
     ]
    },
    {
     "name": "stdout",
     "output_type": "stream",
     "text": [
      "2023-05-06 07:22:19,551 (2306368053:32) WARNING: epoch_index: 2, batch_index: 17, ema_loss: 0.576682984828949\n",
      "2023-05-06 07:22:19,827 (2306368053:32) WARNING: epoch_index: 2, batch_index: 37, ema_loss: 0.6663571000099182\n",
      "2023-05-06 07:22:20,093 (2306368053:32) WARNING: epoch_index: 2, batch_index: 57, ema_loss: 0.6766871809959412\n",
      "2023-05-06 07:22:20,379 (2306368053:32) WARNING: epoch_index: 2, batch_index: 77, ema_loss: 0.6788762807846069\n",
      "2023-05-06 07:22:20,654 (2306368053:32) WARNING: epoch_index: 2, batch_index: 97, ema_loss: 0.6793935894966125\n",
      "2023-05-06 07:22:20,927 (2306368053:32) WARNING: epoch_index: 2, batch_index: 117, ema_loss: 0.677341103553772\n",
      "2023-05-06 07:22:20,927 (2306368053:47) WARNING: start to do evaluation...\n",
      "2023-05-06 07:22:26,564 (2306368053:60) WARNING: ema_eval_loss: 0.6679843664169312, eval_acc: 0.71036\n",
      "2023-05-06 07:22:26,839 (2306368053:32) WARNING: epoch_index: 2, batch_index: 137, ema_loss: 0.6791740655899048\n",
      "2023-05-06 07:22:27,118 (2306368053:32) WARNING: epoch_index: 2, batch_index: 157, ema_loss: 0.6797953844070435\n",
      "2023-05-06 07:22:27,391 (2306368053:32) WARNING: epoch_index: 2, batch_index: 177, ema_loss: 0.6811192035675049\n",
      "2023-05-06 07:22:27,663 (2306368053:32) WARNING: epoch_index: 2, batch_index: 197, ema_loss: 0.6791467666625977\n",
      "2023-05-06 07:22:27,941 (2306368053:32) WARNING: epoch_index: 2, batch_index: 217, ema_loss: 0.6796053647994995\n",
      "2023-05-06 07:22:27,957 (2306368053:44) WARNING: checkpoint has been saved in ./embed_admw/step_1000.pt\n",
      "2023-05-06 07:22:28,231 (2306368053:32) WARNING: epoch_index: 2, batch_index: 237, ema_loss: 0.6783335208892822\n",
      "2023-05-06 07:22:28,504 (2306368053:32) WARNING: epoch_index: 2, batch_index: 257, ema_loss: 0.679973840713501\n",
      "2023-05-06 07:22:28,778 (2306368053:32) WARNING: epoch_index: 2, batch_index: 277, ema_loss: 0.6777388453483582\n",
      "2023-05-06 07:22:29,052 (2306368053:32) WARNING: epoch_index: 2, batch_index: 297, ema_loss: 0.677926242351532\n",
      "2023-05-06 07:22:29,317 (2306368053:32) WARNING: epoch_index: 2, batch_index: 317, ema_loss: 0.6788599491119385\n",
      "2023-05-06 07:22:29,593 (2306368053:32) WARNING: epoch_index: 2, batch_index: 337, ema_loss: 0.6777412295341492\n",
      "2023-05-06 07:22:29,856 (2306368053:32) WARNING: epoch_index: 2, batch_index: 357, ema_loss: 0.678509533405304\n",
      "2023-05-06 07:22:30,123 (2306368053:32) WARNING: epoch_index: 2, batch_index: 377, ema_loss: 0.6781503558158875\n",
      "2023-05-06 07:22:30,305 (2306368053:63) WARNING: time cost is: 10.993892669677734\n"
     ]
    },
    {
     "name": "stderr",
     "output_type": "stream",
     "text": [
      "epoch:  30%|███       | 3/10 [00:32<01:16, 10.99s/it]"
     ]
    },
    {
     "name": "stdout",
     "output_type": "stream",
     "text": [
      "2023-05-06 07:22:30,406 (2306368053:32) WARNING: epoch_index: 3, batch_index: 6, ema_loss: 0.3537415862083435\n",
      "2023-05-06 07:22:30,684 (2306368053:32) WARNING: epoch_index: 3, batch_index: 26, ema_loss: 0.637049674987793\n",
      "2023-05-06 07:22:30,685 (2306368053:47) WARNING: start to do evaluation...\n",
      "2023-05-06 07:22:36,308 (2306368053:60) WARNING: ema_eval_loss: 0.6733173727989197, eval_acc: 0.70888\n",
      "2023-05-06 07:22:36,572 (2306368053:32) WARNING: epoch_index: 3, batch_index: 46, ema_loss: 0.6722445487976074\n",
      "2023-05-06 07:22:36,838 (2306368053:32) WARNING: epoch_index: 3, batch_index: 66, ema_loss: 0.6772975921630859\n",
      "2023-05-06 07:22:37,110 (2306368053:32) WARNING: epoch_index: 3, batch_index: 86, ema_loss: 0.6784343123435974\n",
      "2023-05-06 07:22:37,389 (2306368053:32) WARNING: epoch_index: 3, batch_index: 106, ema_loss: 0.6782107353210449\n",
      "2023-05-06 07:22:37,676 (2306368053:32) WARNING: epoch_index: 3, batch_index: 126, ema_loss: 0.6761264204978943\n",
      "2023-05-06 07:22:37,950 (2306368053:32) WARNING: epoch_index: 3, batch_index: 146, ema_loss: 0.6748386025428772\n",
      "2023-05-06 07:22:38,224 (2306368053:32) WARNING: epoch_index: 3, batch_index: 166, ema_loss: 0.6766882538795471\n",
      "2023-05-06 07:22:38,493 (2306368053:32) WARNING: epoch_index: 3, batch_index: 186, ema_loss: 0.6761394143104553\n",
      "2023-05-06 07:22:38,759 (2306368053:32) WARNING: epoch_index: 3, batch_index: 206, ema_loss: 0.6758481860160828\n",
      "2023-05-06 07:22:39,049 (2306368053:32) WARNING: epoch_index: 3, batch_index: 226, ema_loss: 0.6793050765991211\n",
      "2023-05-06 07:22:39,333 (2306368053:32) WARNING: epoch_index: 3, batch_index: 246, ema_loss: 0.6775145530700684\n",
      "2023-05-06 07:22:39,617 (2306368053:32) WARNING: epoch_index: 3, batch_index: 266, ema_loss: 0.6780283451080322\n",
      "2023-05-06 07:22:39,888 (2306368053:32) WARNING: epoch_index: 3, batch_index: 286, ema_loss: 0.6754351854324341\n",
      "2023-05-06 07:22:40,153 (2306368053:32) WARNING: epoch_index: 3, batch_index: 306, ema_loss: 0.6750291585922241\n",
      "2023-05-06 07:22:40,433 (2306368053:32) WARNING: epoch_index: 3, batch_index: 326, ema_loss: 0.6759876608848572\n",
      "2023-05-06 07:22:40,447 (2306368053:44) WARNING: checkpoint has been saved in ./embed_admw/step_1500.pt\n",
      "2023-05-06 07:22:40,447 (2306368053:47) WARNING: start to do evaluation...\n",
      "2023-05-06 07:22:46,083 (2306368053:60) WARNING: ema_eval_loss: 0.6700853705406189, eval_acc: 0.7118\n",
      "2023-05-06 07:22:46,353 (2306368053:32) WARNING: epoch_index: 3, batch_index: 346, ema_loss: 0.6755901575088501\n",
      "2023-05-06 07:22:46,631 (2306368053:32) WARNING: epoch_index: 3, batch_index: 366, ema_loss: 0.6758633255958557\n",
      "2023-05-06 07:22:46,901 (2306368053:32) WARNING: epoch_index: 3, batch_index: 386, ema_loss: 0.6747801303863525\n",
      "2023-05-06 07:22:46,951 (2306368053:63) WARNING: time cost is: 16.64259958267212\n"
     ]
    },
    {
     "name": "stderr",
     "output_type": "stream",
     "text": [
      "epoch:  40%|████      | 4/10 [00:49<01:19, 13.22s/it]"
     ]
    },
    {
     "name": "stdout",
     "output_type": "stream",
     "text": [
      "2023-05-06 07:22:47,175 (2306368053:32) WARNING: epoch_index: 4, batch_index: 15, ema_loss: 0.5507172346115112\n",
      "2023-05-06 07:22:47,447 (2306368053:32) WARNING: epoch_index: 4, batch_index: 35, ema_loss: 0.6609148383140564\n",
      "2023-05-06 07:22:47,712 (2306368053:32) WARNING: epoch_index: 4, batch_index: 55, ema_loss: 0.6720489263534546\n",
      "2023-05-06 07:22:47,987 (2306368053:32) WARNING: epoch_index: 4, batch_index: 75, ema_loss: 0.6735119819641113\n",
      "2023-05-06 07:22:48,261 (2306368053:32) WARNING: epoch_index: 4, batch_index: 95, ema_loss: 0.675477147102356\n",
      "2023-05-06 07:22:48,536 (2306368053:32) WARNING: epoch_index: 4, batch_index: 115, ema_loss: 0.6769009232521057\n",
      "2023-05-06 07:22:48,808 (2306368053:32) WARNING: epoch_index: 4, batch_index: 135, ema_loss: 0.6739010214805603\n",
      "2023-05-06 07:22:49,079 (2306368053:32) WARNING: epoch_index: 4, batch_index: 155, ema_loss: 0.6757581233978271\n",
      "2023-05-06 07:22:49,348 (2306368053:32) WARNING: epoch_index: 4, batch_index: 175, ema_loss: 0.6726747751235962\n",
      "2023-05-06 07:22:49,617 (2306368053:32) WARNING: epoch_index: 4, batch_index: 195, ema_loss: 0.6744954586029053\n",
      "2023-05-06 07:22:49,898 (2306368053:32) WARNING: epoch_index: 4, batch_index: 215, ema_loss: 0.6755565404891968\n",
      "2023-05-06 07:22:50,178 (2306368053:32) WARNING: epoch_index: 4, batch_index: 235, ema_loss: 0.6764535903930664\n",
      "2023-05-06 07:22:50,178 (2306368053:47) WARNING: start to do evaluation...\n",
      "2023-05-06 07:22:55,811 (2306368053:60) WARNING: ema_eval_loss: 0.6751911044120789, eval_acc: 0.69972\n",
      "2023-05-06 07:22:56,089 (2306368053:32) WARNING: epoch_index: 4, batch_index: 255, ema_loss: 0.6736388206481934\n",
      "2023-05-06 07:22:56,359 (2306368053:32) WARNING: epoch_index: 4, batch_index: 275, ema_loss: 0.672225832939148\n",
      "2023-05-06 07:22:56,632 (2306368053:32) WARNING: epoch_index: 4, batch_index: 295, ema_loss: 0.6726201772689819\n",
      "2023-05-06 07:22:56,907 (2306368053:32) WARNING: epoch_index: 4, batch_index: 315, ema_loss: 0.6729756593704224\n",
      "2023-05-06 07:22:57,171 (2306368053:32) WARNING: epoch_index: 4, batch_index: 335, ema_loss: 0.6729602217674255\n",
      "2023-05-06 07:22:57,437 (2306368053:32) WARNING: epoch_index: 4, batch_index: 355, ema_loss: 0.6737732291221619\n",
      "2023-05-06 07:22:57,709 (2306368053:32) WARNING: epoch_index: 4, batch_index: 375, ema_loss: 0.6725594401359558\n",
      "2023-05-06 07:22:57,915 (2306368053:63) WARNING: time cost is: 10.960318565368652\n"
     ]
    },
    {
     "name": "stderr",
     "output_type": "stream",
     "text": [
      "epoch:  50%|█████     | 5/10 [01:00<01:02, 12.41s/it]"
     ]
    },
    {
     "name": "stdout",
     "output_type": "stream",
     "text": [
      "2023-05-06 07:22:57,989 (2306368053:32) WARNING: epoch_index: 5, batch_index: 4, ema_loss: 0.27480825781822205\n",
      "2023-05-06 07:22:58,259 (2306368053:32) WARNING: epoch_index: 5, batch_index: 24, ema_loss: 0.6247894167900085\n",
      "2023-05-06 07:22:58,530 (2306368053:32) WARNING: epoch_index: 5, batch_index: 44, ema_loss: 0.667985200881958\n",
      "2023-05-06 07:22:58,544 (2306368053:44) WARNING: checkpoint has been saved in ./embed_admw/step_2000.pt\n",
      "2023-05-06 07:22:58,823 (2306368053:32) WARNING: epoch_index: 5, batch_index: 64, ema_loss: 0.6722942590713501\n",
      "2023-05-06 07:22:59,096 (2306368053:32) WARNING: epoch_index: 5, batch_index: 84, ema_loss: 0.6728857755661011\n",
      "2023-05-06 07:22:59,388 (2306368053:32) WARNING: epoch_index: 5, batch_index: 104, ema_loss: 0.6759013533592224\n",
      "2023-05-06 07:22:59,662 (2306368053:32) WARNING: epoch_index: 5, batch_index: 124, ema_loss: 0.6737517714500427\n",
      "2023-05-06 07:22:59,943 (2306368053:32) WARNING: epoch_index: 5, batch_index: 144, ema_loss: 0.6728073954582214\n",
      "2023-05-06 07:22:59,943 (2306368053:47) WARNING: start to do evaluation...\n",
      "2023-05-06 07:23:05,563 (2306368053:60) WARNING: ema_eval_loss: 0.6618368625640869, eval_acc: 0.71732\n",
      "2023-05-06 07:23:05,830 (2306368053:32) WARNING: epoch_index: 5, batch_index: 164, ema_loss: 0.6724840402603149\n",
      "2023-05-06 07:23:06,102 (2306368053:32) WARNING: epoch_index: 5, batch_index: 184, ema_loss: 0.6728776097297668\n",
      "2023-05-06 07:23:06,373 (2306368053:32) WARNING: epoch_index: 5, batch_index: 204, ema_loss: 0.6703506112098694\n",
      "2023-05-06 07:23:06,639 (2306368053:32) WARNING: epoch_index: 5, batch_index: 224, ema_loss: 0.6702329516410828\n",
      "2023-05-06 07:23:06,909 (2306368053:32) WARNING: epoch_index: 5, batch_index: 244, ema_loss: 0.67099928855896\n",
      "2023-05-06 07:23:07,180 (2306368053:32) WARNING: epoch_index: 5, batch_index: 264, ema_loss: 0.6716833710670471\n",
      "2023-05-06 07:23:07,452 (2306368053:32) WARNING: epoch_index: 5, batch_index: 284, ema_loss: 0.6723073720932007\n",
      "2023-05-06 07:23:07,714 (2306368053:32) WARNING: epoch_index: 5, batch_index: 304, ema_loss: 0.670891523361206\n",
      "2023-05-06 07:23:07,978 (2306368053:32) WARNING: epoch_index: 5, batch_index: 324, ema_loss: 0.668289065361023\n",
      "2023-05-06 07:23:08,250 (2306368053:32) WARNING: epoch_index: 5, batch_index: 344, ema_loss: 0.6719713807106018\n",
      "2023-05-06 07:23:08,511 (2306368053:32) WARNING: epoch_index: 5, batch_index: 364, ema_loss: 0.6692772507667542\n",
      "2023-05-06 07:23:08,777 (2306368053:32) WARNING: epoch_index: 5, batch_index: 384, ema_loss: 0.6700007319450378\n",
      "2023-05-06 07:23:08,860 (2306368053:63) WARNING: time cost is: 10.941218614578247\n"
     ]
    },
    {
     "name": "stderr",
     "output_type": "stream",
     "text": [
      "epoch:  60%|██████    | 6/10 [01:11<00:47, 11.91s/it]"
     ]
    },
    {
     "name": "stdout",
     "output_type": "stream",
     "text": [
      "2023-05-06 07:23:09,057 (2306368053:32) WARNING: epoch_index: 6, batch_index: 13, ema_loss: 0.51734858751297\n",
      "2023-05-06 07:23:09,329 (2306368053:32) WARNING: epoch_index: 6, batch_index: 33, ema_loss: 0.6519345045089722\n",
      "2023-05-06 07:23:09,605 (2306368053:32) WARNING: epoch_index: 6, batch_index: 53, ema_loss: 0.670366644859314\n",
      "2023-05-06 07:23:09,606 (2306368053:47) WARNING: start to do evaluation...\n",
      "2023-05-06 07:23:15,258 (2306368053:60) WARNING: ema_eval_loss: 0.6526206731796265, eval_acc: 0.71732\n",
      "2023-05-06 07:23:15,522 (2306368053:32) WARNING: epoch_index: 6, batch_index: 73, ema_loss: 0.6696271896362305\n",
      "2023-05-06 07:23:15,802 (2306368053:32) WARNING: epoch_index: 6, batch_index: 93, ema_loss: 0.6722187399864197\n",
      "2023-05-06 07:23:16,086 (2306368053:32) WARNING: epoch_index: 6, batch_index: 113, ema_loss: 0.6692410111427307\n",
      "2023-05-06 07:23:16,376 (2306368053:32) WARNING: epoch_index: 6, batch_index: 133, ema_loss: 0.6689180731773376\n",
      "2023-05-06 07:23:16,650 (2306368053:32) WARNING: epoch_index: 6, batch_index: 153, ema_loss: 0.668786883354187\n",
      "2023-05-06 07:23:16,666 (2306368053:44) WARNING: checkpoint has been saved in ./embed_admw/step_2500.pt\n",
      "2023-05-06 07:23:16,934 (2306368053:32) WARNING: epoch_index: 6, batch_index: 173, ema_loss: 0.6700620055198669\n",
      "2023-05-06 07:23:17,212 (2306368053:32) WARNING: epoch_index: 6, batch_index: 193, ema_loss: 0.6682302355766296\n",
      "2023-05-06 07:23:17,485 (2306368053:32) WARNING: epoch_index: 6, batch_index: 213, ema_loss: 0.6689819693565369\n",
      "2023-05-06 07:23:17,754 (2306368053:32) WARNING: epoch_index: 6, batch_index: 233, ema_loss: 0.6669386625289917\n",
      "2023-05-06 07:23:18,025 (2306368053:32) WARNING: epoch_index: 6, batch_index: 253, ema_loss: 0.6672151684761047\n",
      "2023-05-06 07:23:18,308 (2306368053:32) WARNING: epoch_index: 6, batch_index: 273, ema_loss: 0.6710391044616699\n",
      "2023-05-06 07:23:18,577 (2306368053:32) WARNING: epoch_index: 6, batch_index: 293, ema_loss: 0.667656660079956\n",
      "2023-05-06 07:23:18,857 (2306368053:32) WARNING: epoch_index: 6, batch_index: 313, ema_loss: 0.6687633991241455\n",
      "2023-05-06 07:23:19,132 (2306368053:32) WARNING: epoch_index: 6, batch_index: 333, ema_loss: 0.6689414978027344\n",
      "2023-05-06 07:23:19,399 (2306368053:32) WARNING: epoch_index: 6, batch_index: 353, ema_loss: 0.6702128052711487\n",
      "2023-05-06 07:23:19,400 (2306368053:47) WARNING: start to do evaluation...\n",
      "2023-05-06 07:23:25,034 (2306368053:60) WARNING: ema_eval_loss: 0.6630860567092896, eval_acc: 0.71716\n",
      "2023-05-06 07:23:25,300 (2306368053:32) WARNING: epoch_index: 6, batch_index: 373, ema_loss: 0.6651458740234375\n",
      "2023-05-06 07:23:25,523 (2306368053:63) WARNING: time cost is: 16.65996503829956\n"
     ]
    },
    {
     "name": "stderr",
     "output_type": "stream",
     "text": [
      "epoch:  70%|███████   | 7/10 [01:28<00:40, 13.47s/it]"
     ]
    },
    {
     "name": "stdout",
     "output_type": "stream",
     "text": [
      "2023-05-06 07:23:25,569 (2306368053:32) WARNING: epoch_index: 7, batch_index: 2, ema_loss: 0.1800878494977951\n",
      "2023-05-06 07:23:25,844 (2306368053:32) WARNING: epoch_index: 7, batch_index: 22, ema_loss: 0.6083744764328003\n",
      "2023-05-06 07:23:26,127 (2306368053:32) WARNING: epoch_index: 7, batch_index: 42, ema_loss: 0.6621235609054565\n",
      "2023-05-06 07:23:26,398 (2306368053:32) WARNING: epoch_index: 7, batch_index: 62, ema_loss: 0.6644707918167114\n",
      "2023-05-06 07:23:26,677 (2306368053:32) WARNING: epoch_index: 7, batch_index: 82, ema_loss: 0.6666524410247803\n",
      "2023-05-06 07:23:26,955 (2306368053:32) WARNING: epoch_index: 7, batch_index: 102, ema_loss: 0.6702048778533936\n",
      "2023-05-06 07:23:27,224 (2306368053:32) WARNING: epoch_index: 7, batch_index: 122, ema_loss: 0.6675692200660706\n",
      "2023-05-06 07:23:27,494 (2306368053:32) WARNING: epoch_index: 7, batch_index: 142, ema_loss: 0.6678005456924438\n",
      "2023-05-06 07:23:27,775 (2306368053:32) WARNING: epoch_index: 7, batch_index: 162, ema_loss: 0.6684693098068237\n",
      "2023-05-06 07:23:28,051 (2306368053:32) WARNING: epoch_index: 7, batch_index: 182, ema_loss: 0.6621717214584351\n",
      "2023-05-06 07:23:28,322 (2306368053:32) WARNING: epoch_index: 7, batch_index: 202, ema_loss: 0.6659557223320007\n",
      "2023-05-06 07:23:28,614 (2306368053:32) WARNING: epoch_index: 7, batch_index: 222, ema_loss: 0.6684427261352539\n",
      "2023-05-06 07:23:28,879 (2306368053:32) WARNING: epoch_index: 7, batch_index: 242, ema_loss: 0.6639934182167053\n",
      "2023-05-06 07:23:29,144 (2306368053:32) WARNING: epoch_index: 7, batch_index: 262, ema_loss: 0.6653727889060974\n",
      "2023-05-06 07:23:29,158 (2306368053:44) WARNING: checkpoint has been saved in ./embed_admw/step_3000.pt\n",
      "2023-05-06 07:23:29,159 (2306368053:47) WARNING: start to do evaluation...\n",
      "2023-05-06 07:23:34,905 (2306368053:60) WARNING: ema_eval_loss: 0.6511747241020203, eval_acc: 0.723\n",
      "2023-05-06 07:23:35,172 (2306368053:32) WARNING: epoch_index: 7, batch_index: 282, ema_loss: 0.6632089018821716\n",
      "2023-05-06 07:23:35,434 (2306368053:32) WARNING: epoch_index: 7, batch_index: 302, ema_loss: 0.6622546315193176\n",
      "2023-05-06 07:23:35,711 (2306368053:32) WARNING: epoch_index: 7, batch_index: 322, ema_loss: 0.6640558242797852\n",
      "2023-05-06 07:23:35,984 (2306368053:32) WARNING: epoch_index: 7, batch_index: 342, ema_loss: 0.665088415145874\n",
      "2023-05-06 07:23:36,253 (2306368053:32) WARNING: epoch_index: 7, batch_index: 362, ema_loss: 0.6663264036178589\n",
      "2023-05-06 07:23:36,527 (2306368053:32) WARNING: epoch_index: 7, batch_index: 382, ema_loss: 0.6640543937683105\n",
      "2023-05-06 07:23:36,639 (2306368053:63) WARNING: time cost is: 11.111912250518799\n"
     ]
    },
    {
     "name": "stderr",
     "output_type": "stream",
     "text": [
      "epoch:  80%|████████  | 8/10 [01:39<00:25, 12.72s/it]"
     ]
    },
    {
     "name": "stdout",
     "output_type": "stream",
     "text": [
      "2023-05-06 07:23:36,806 (2306368053:32) WARNING: epoch_index: 8, batch_index: 11, ema_loss: 0.47389909625053406\n",
      "2023-05-06 07:23:37,090 (2306368053:32) WARNING: epoch_index: 8, batch_index: 31, ema_loss: 0.6426214575767517\n",
      "2023-05-06 07:23:37,373 (2306368053:32) WARNING: epoch_index: 8, batch_index: 51, ema_loss: 0.6644608974456787\n",
      "2023-05-06 07:23:37,645 (2306368053:32) WARNING: epoch_index: 8, batch_index: 71, ema_loss: 0.6591585278511047\n",
      "2023-05-06 07:23:37,913 (2306368053:32) WARNING: epoch_index: 8, batch_index: 91, ema_loss: 0.6613760590553284\n",
      "2023-05-06 07:23:38,189 (2306368053:32) WARNING: epoch_index: 8, batch_index: 111, ema_loss: 0.665524959564209\n",
      "2023-05-06 07:23:38,465 (2306368053:32) WARNING: epoch_index: 8, batch_index: 131, ema_loss: 0.6631430983543396\n",
      "2023-05-06 07:23:38,747 (2306368053:32) WARNING: epoch_index: 8, batch_index: 151, ema_loss: 0.6614740490913391\n",
      "2023-05-06 07:23:39,020 (2306368053:32) WARNING: epoch_index: 8, batch_index: 171, ema_loss: 0.6630803346633911\n",
      "2023-05-06 07:23:39,020 (2306368053:47) WARNING: start to do evaluation...\n",
      "2023-05-06 07:23:44,744 (2306368053:60) WARNING: ema_eval_loss: 0.6399753093719482, eval_acc: 0.7196\n",
      "2023-05-06 07:23:45,024 (2306368053:32) WARNING: epoch_index: 8, batch_index: 191, ema_loss: 0.6653016209602356\n",
      "2023-05-06 07:23:45,293 (2306368053:32) WARNING: epoch_index: 8, batch_index: 211, ema_loss: 0.6645298004150391\n",
      "2023-05-06 07:23:45,560 (2306368053:32) WARNING: epoch_index: 8, batch_index: 231, ema_loss: 0.6626574397087097\n",
      "2023-05-06 07:23:45,831 (2306368053:32) WARNING: epoch_index: 8, batch_index: 251, ema_loss: 0.6628164649009705\n",
      "2023-05-06 07:23:46,107 (2306368053:32) WARNING: epoch_index: 8, batch_index: 271, ema_loss: 0.6630985140800476\n",
      "2023-05-06 07:23:46,385 (2306368053:32) WARNING: epoch_index: 8, batch_index: 291, ema_loss: 0.6647031307220459\n",
      "2023-05-06 07:23:46,662 (2306368053:32) WARNING: epoch_index: 8, batch_index: 311, ema_loss: 0.6612286567687988\n",
      "2023-05-06 07:23:46,933 (2306368053:32) WARNING: epoch_index: 8, batch_index: 331, ema_loss: 0.6629724502563477\n",
      "2023-05-06 07:23:47,208 (2306368053:32) WARNING: epoch_index: 8, batch_index: 351, ema_loss: 0.6612626910209656\n",
      "2023-05-06 07:23:47,485 (2306368053:32) WARNING: epoch_index: 8, batch_index: 371, ema_loss: 0.6626107096672058\n",
      "2023-05-06 07:23:47,500 (2306368053:44) WARNING: checkpoint has been saved in ./embed_admw/step_3500.pt\n",
      "2023-05-06 07:23:47,765 (2306368053:63) WARNING: time cost is: 11.122495412826538\n"
     ]
    },
    {
     "name": "stderr",
     "output_type": "stream",
     "text": [
      "epoch:  90%|█████████ | 9/10 [01:50<00:12, 12.22s/it]"
     ]
    },
    {
     "name": "stdout",
     "output_type": "stream",
     "text": [
      "2023-05-06 07:23:47,782 (2306368053:32) WARNING: epoch_index: 9, batch_index: 0, ema_loss: 0.06504123657941818\n",
      "2023-05-06 07:23:48,060 (2306368053:32) WARNING: epoch_index: 9, batch_index: 20, ema_loss: 0.5884624719619751\n",
      "2023-05-06 07:23:48,338 (2306368053:32) WARNING: epoch_index: 9, batch_index: 40, ema_loss: 0.6536043882369995\n",
      "2023-05-06 07:23:48,616 (2306368053:32) WARNING: epoch_index: 9, batch_index: 60, ema_loss: 0.661299467086792\n",
      "2023-05-06 07:23:48,886 (2306368053:32) WARNING: epoch_index: 9, batch_index: 80, ema_loss: 0.6597021222114563\n",
      "2023-05-06 07:23:48,886 (2306368053:47) WARNING: start to do evaluation...\n",
      "2023-05-06 07:23:54,599 (2306368053:60) WARNING: ema_eval_loss: 0.6595385670661926, eval_acc: 0.7156\n",
      "2023-05-06 07:23:54,873 (2306368053:32) WARNING: epoch_index: 9, batch_index: 100, ema_loss: 0.6590096354484558\n",
      "2023-05-06 07:23:55,156 (2306368053:32) WARNING: epoch_index: 9, batch_index: 120, ema_loss: 0.6604630351066589\n",
      "2023-05-06 07:23:55,425 (2306368053:32) WARNING: epoch_index: 9, batch_index: 140, ema_loss: 0.6612184047698975\n",
      "2023-05-06 07:23:55,704 (2306368053:32) WARNING: epoch_index: 9, batch_index: 160, ema_loss: 0.6605388522148132\n",
      "2023-05-06 07:23:55,980 (2306368053:32) WARNING: epoch_index: 9, batch_index: 180, ema_loss: 0.6630206108093262\n",
      "2023-05-06 07:23:56,257 (2306368053:32) WARNING: epoch_index: 9, batch_index: 200, ema_loss: 0.6611643433570862\n",
      "2023-05-06 07:23:56,521 (2306368053:32) WARNING: epoch_index: 9, batch_index: 220, ema_loss: 0.6600337028503418\n",
      "2023-05-06 07:23:56,794 (2306368053:32) WARNING: epoch_index: 9, batch_index: 240, ema_loss: 0.6602516770362854\n",
      "2023-05-06 07:23:57,066 (2306368053:32) WARNING: epoch_index: 9, batch_index: 260, ema_loss: 0.6585299968719482\n",
      "2023-05-06 07:23:57,344 (2306368053:32) WARNING: epoch_index: 9, batch_index: 280, ema_loss: 0.6590719819068909\n",
      "2023-05-06 07:23:57,618 (2306368053:32) WARNING: epoch_index: 9, batch_index: 300, ema_loss: 0.6568011045455933\n",
      "2023-05-06 07:23:57,900 (2306368053:32) WARNING: epoch_index: 9, batch_index: 320, ema_loss: 0.6607969999313354\n",
      "2023-05-06 07:23:58,174 (2306368053:32) WARNING: epoch_index: 9, batch_index: 340, ema_loss: 0.6568708419799805\n",
      "2023-05-06 07:23:58,450 (2306368053:32) WARNING: epoch_index: 9, batch_index: 360, ema_loss: 0.6578799486160278\n",
      "2023-05-06 07:23:58,726 (2306368053:32) WARNING: epoch_index: 9, batch_index: 380, ema_loss: 0.6598606705665588\n",
      "2023-05-06 07:23:58,726 (2306368053:47) WARNING: start to do evaluation...\n",
      "2023-05-06 07:24:04,447 (2306368053:60) WARNING: ema_eval_loss: 0.6434100866317749, eval_acc: 0.72656\n",
      "2023-05-06 07:24:04,580 (2306368053:63) WARNING: time cost is: 16.81170678138733\n"
     ]
    },
    {
     "name": "stderr",
     "output_type": "stream",
     "text": [
      "epoch: 100%|██████████| 10/10 [02:07<00:00, 12.72s/it]\n"
     ]
    }
   ],
   "source": [
    "optimizer = torch.optim.AdamW(model.parameters(), lr=1e-4)\n",
    "train(train_data_loader, eval_data_loader, model, optimizer, num_epoch=10, log_step_interval=20, \\\n",
    "      save_step_interval=500, eval_step_interval=300, save_path=\"./embed_admw\", resume=resume)"
   ]
  },
  {
   "cell_type": "code",
   "execution_count": 9,
   "id": "beac94c2-b5f0-4f15-a5a3-d88568263f08",
   "metadata": {},
   "outputs": [
    {
     "name": "stderr",
     "output_type": "stream",
     "text": [
      "epoch:   0%|          | 0/10 [00:00<?, ?it/s]"
     ]
    },
    {
     "name": "stdout",
     "output_type": "stream",
     "text": [
      "2023-05-06 07:24:04,920 (2306368053:32) WARNING: epoch_index: 0, batch_index: 19, ema_loss: 0.5798764228820801\n",
      "2023-05-06 07:24:05,193 (2306368053:32) WARNING: epoch_index: 0, batch_index: 39, ema_loss: 0.645302414894104\n",
      "2023-05-06 07:24:05,480 (2306368053:32) WARNING: epoch_index: 0, batch_index: 59, ema_loss: 0.6550522446632385\n",
      "2023-05-06 07:24:05,756 (2306368053:32) WARNING: epoch_index: 0, batch_index: 79, ema_loss: 0.6586650609970093\n",
      "2023-05-06 07:24:06,018 (2306368053:32) WARNING: epoch_index: 0, batch_index: 99, ema_loss: 0.6567069888114929\n",
      "2023-05-06 07:24:06,295 (2306368053:32) WARNING: epoch_index: 0, batch_index: 119, ema_loss: 0.659611165523529\n",
      "2023-05-06 07:24:06,571 (2306368053:32) WARNING: epoch_index: 0, batch_index: 139, ema_loss: 0.6605455279350281\n",
      "2023-05-06 07:24:06,836 (2306368053:32) WARNING: epoch_index: 0, batch_index: 159, ema_loss: 0.6583914160728455\n",
      "2023-05-06 07:24:07,114 (2306368053:32) WARNING: epoch_index: 0, batch_index: 179, ema_loss: 0.6573147177696228\n",
      "2023-05-06 07:24:07,384 (2306368053:32) WARNING: epoch_index: 0, batch_index: 199, ema_loss: 0.6563984155654907\n",
      "2023-05-06 07:24:07,655 (2306368053:32) WARNING: epoch_index: 0, batch_index: 219, ema_loss: 0.6572362780570984\n",
      "2023-05-06 07:24:07,922 (2306368053:32) WARNING: epoch_index: 0, batch_index: 239, ema_loss: 0.6594197154045105\n",
      "2023-05-06 07:24:08,179 (2306368053:32) WARNING: epoch_index: 0, batch_index: 259, ema_loss: 0.6549374461174011\n",
      "2023-05-06 07:24:08,452 (2306368053:32) WARNING: epoch_index: 0, batch_index: 279, ema_loss: 0.6612430810928345\n",
      "2023-05-06 07:24:08,723 (2306368053:32) WARNING: epoch_index: 0, batch_index: 299, ema_loss: 0.6584883332252502\n",
      "2023-05-06 07:24:08,724 (2306368053:47) WARNING: start to do evaluation...\n",
      "2023-05-06 07:24:14,243 (2306368053:60) WARNING: ema_eval_loss: 0.6470672488212585, eval_acc: 0.72588\n",
      "2023-05-06 07:24:14,523 (2306368053:32) WARNING: epoch_index: 0, batch_index: 319, ema_loss: 0.6621861457824707\n",
      "2023-05-06 07:24:14,788 (2306368053:32) WARNING: epoch_index: 0, batch_index: 339, ema_loss: 0.6595384478569031\n",
      "2023-05-06 07:24:15,059 (2306368053:32) WARNING: epoch_index: 0, batch_index: 359, ema_loss: 0.6598911285400391\n",
      "2023-05-06 07:24:15,318 (2306368053:32) WARNING: epoch_index: 0, batch_index: 379, ema_loss: 0.6550655961036682\n",
      "2023-05-06 07:24:15,455 (2306368053:63) WARNING: time cost is: 10.821211099624634\n"
     ]
    },
    {
     "name": "stderr",
     "output_type": "stream",
     "text": [
      "epoch:  10%|█         | 1/10 [00:10<01:37, 10.82s/it]"
     ]
    },
    {
     "name": "stdout",
     "output_type": "stream",
     "text": [
      "2023-05-06 07:24:15,582 (2306368053:32) WARNING: epoch_index: 1, batch_index: 8, ema_loss: 0.39887022972106934\n",
      "2023-05-06 07:24:15,850 (2306368053:32) WARNING: epoch_index: 1, batch_index: 28, ema_loss: 0.6268767714500427\n",
      "2023-05-06 07:24:16,110 (2306368053:32) WARNING: epoch_index: 1, batch_index: 48, ema_loss: 0.6523779630661011\n",
      "2023-05-06 07:24:16,374 (2306368053:32) WARNING: epoch_index: 1, batch_index: 68, ema_loss: 0.6580240726470947\n",
      "2023-05-06 07:24:16,648 (2306368053:32) WARNING: epoch_index: 1, batch_index: 88, ema_loss: 0.6599518060684204\n",
      "2023-05-06 07:24:16,921 (2306368053:32) WARNING: epoch_index: 1, batch_index: 108, ema_loss: 0.6612637639045715\n",
      "2023-05-06 07:24:16,929 (2306368053:44) WARNING: checkpoint has been saved in ./embed_sgd/step_500.pt\n",
      "2023-05-06 07:24:17,213 (2306368053:32) WARNING: epoch_index: 1, batch_index: 128, ema_loss: 0.6606841087341309\n",
      "2023-05-06 07:24:17,484 (2306368053:32) WARNING: epoch_index: 1, batch_index: 148, ema_loss: 0.657292366027832\n",
      "2023-05-06 07:24:17,759 (2306368053:32) WARNING: epoch_index: 1, batch_index: 168, ema_loss: 0.658877432346344\n",
      "2023-05-06 07:24:18,029 (2306368053:32) WARNING: epoch_index: 1, batch_index: 188, ema_loss: 0.6589542031288147\n",
      "2023-05-06 07:24:18,306 (2306368053:32) WARNING: epoch_index: 1, batch_index: 208, ema_loss: 0.6575220227241516\n",
      "2023-05-06 07:24:18,306 (2306368053:47) WARNING: start to do evaluation...\n",
      "2023-05-06 07:24:23,951 (2306368053:60) WARNING: ema_eval_loss: 0.6471053957939148, eval_acc: 0.72584\n",
      "2023-05-06 07:24:24,218 (2306368053:32) WARNING: epoch_index: 1, batch_index: 228, ema_loss: 0.6561054587364197\n",
      "2023-05-06 07:24:24,491 (2306368053:32) WARNING: epoch_index: 1, batch_index: 248, ema_loss: 0.6559539437294006\n",
      "2023-05-06 07:24:24,765 (2306368053:32) WARNING: epoch_index: 1, batch_index: 268, ema_loss: 0.656287670135498\n",
      "2023-05-06 07:24:25,075 (2306368053:32) WARNING: epoch_index: 1, batch_index: 288, ema_loss: 0.655003547668457\n",
      "2023-05-06 07:24:25,346 (2306368053:32) WARNING: epoch_index: 1, batch_index: 308, ema_loss: 0.6579530239105225\n",
      "2023-05-06 07:24:25,612 (2306368053:32) WARNING: epoch_index: 1, batch_index: 328, ema_loss: 0.657291054725647\n",
      "2023-05-06 07:24:25,885 (2306368053:32) WARNING: epoch_index: 1, batch_index: 348, ema_loss: 0.6592984795570374\n",
      "2023-05-06 07:24:26,152 (2306368053:32) WARNING: epoch_index: 1, batch_index: 368, ema_loss: 0.6556885242462158\n",
      "2023-05-06 07:24:26,426 (2306368053:32) WARNING: epoch_index: 1, batch_index: 388, ema_loss: 0.6594719886779785\n",
      "2023-05-06 07:24:26,448 (2306368053:63) WARNING: time cost is: 10.985642194747925\n"
     ]
    },
    {
     "name": "stderr",
     "output_type": "stream",
     "text": [
      "epoch:  20%|██        | 2/10 [00:21<01:27, 10.92s/it]"
     ]
    },
    {
     "name": "stdout",
     "output_type": "stream",
     "text": [
      "2023-05-06 07:24:26,692 (2306368053:32) WARNING: epoch_index: 2, batch_index: 17, ema_loss: 0.5593980550765991\n",
      "2023-05-06 07:24:26,952 (2306368053:32) WARNING: epoch_index: 2, batch_index: 37, ema_loss: 0.6462146639823914\n",
      "2023-05-06 07:24:27,222 (2306368053:32) WARNING: epoch_index: 2, batch_index: 57, ema_loss: 0.6571904420852661\n",
      "2023-05-06 07:24:27,492 (2306368053:32) WARNING: epoch_index: 2, batch_index: 77, ema_loss: 0.6609106063842773\n",
      "2023-05-06 07:24:27,748 (2306368053:32) WARNING: epoch_index: 2, batch_index: 97, ema_loss: 0.656535267829895\n",
      "2023-05-06 07:24:28,008 (2306368053:32) WARNING: epoch_index: 2, batch_index: 117, ema_loss: 0.6618807911872864\n",
      "2023-05-06 07:24:28,009 (2306368053:47) WARNING: start to do evaluation...\n",
      "2023-05-06 07:24:33,617 (2306368053:60) WARNING: ema_eval_loss: 0.6474225521087646, eval_acc: 0.72568\n",
      "2023-05-06 07:24:33,889 (2306368053:32) WARNING: epoch_index: 2, batch_index: 137, ema_loss: 0.6636983752250671\n",
      "2023-05-06 07:24:34,153 (2306368053:32) WARNING: epoch_index: 2, batch_index: 157, ema_loss: 0.6588247418403625\n",
      "2023-05-06 07:24:34,417 (2306368053:32) WARNING: epoch_index: 2, batch_index: 177, ema_loss: 0.6602765917778015\n",
      "2023-05-06 07:24:34,675 (2306368053:32) WARNING: epoch_index: 2, batch_index: 197, ema_loss: 0.6555352807044983\n",
      "2023-05-06 07:24:34,943 (2306368053:32) WARNING: epoch_index: 2, batch_index: 217, ema_loss: 0.6550245881080627\n",
      "2023-05-06 07:24:34,950 (2306368053:44) WARNING: checkpoint has been saved in ./embed_sgd/step_1000.pt\n",
      "2023-05-06 07:24:35,220 (2306368053:32) WARNING: epoch_index: 2, batch_index: 237, ema_loss: 0.6578751802444458\n",
      "2023-05-06 07:24:35,488 (2306368053:32) WARNING: epoch_index: 2, batch_index: 257, ema_loss: 0.6584277749061584\n",
      "2023-05-06 07:24:35,769 (2306368053:32) WARNING: epoch_index: 2, batch_index: 277, ema_loss: 0.6571770906448364\n",
      "2023-05-06 07:24:36,033 (2306368053:32) WARNING: epoch_index: 2, batch_index: 297, ema_loss: 0.6545815467834473\n",
      "2023-05-06 07:24:36,302 (2306368053:32) WARNING: epoch_index: 2, batch_index: 317, ema_loss: 0.6568899750709534\n",
      "2023-05-06 07:24:36,566 (2306368053:32) WARNING: epoch_index: 2, batch_index: 337, ema_loss: 0.654884397983551\n",
      "2023-05-06 07:24:36,831 (2306368053:32) WARNING: epoch_index: 2, batch_index: 357, ema_loss: 0.6574723720550537\n",
      "2023-05-06 07:24:37,092 (2306368053:32) WARNING: epoch_index: 2, batch_index: 377, ema_loss: 0.6611018180847168\n",
      "2023-05-06 07:24:37,270 (2306368053:63) WARNING: time cost is: 10.818807363510132\n"
     ]
    },
    {
     "name": "stderr",
     "output_type": "stream",
     "text": [
      "epoch:  30%|███       | 3/10 [00:32<01:16, 10.88s/it]"
     ]
    },
    {
     "name": "stdout",
     "output_type": "stream",
     "text": [
      "2023-05-06 07:24:37,369 (2306368053:32) WARNING: epoch_index: 3, batch_index: 6, ema_loss: 0.34324946999549866\n",
      "2023-05-06 07:24:37,636 (2306368053:32) WARNING: epoch_index: 3, batch_index: 26, ema_loss: 0.6189940571784973\n",
      "2023-05-06 07:24:37,637 (2306368053:47) WARNING: start to do evaluation...\n",
      "2023-05-06 07:24:43,205 (2306368053:60) WARNING: ema_eval_loss: 0.647581160068512, eval_acc: 0.7256\n",
      "2023-05-06 07:24:43,480 (2306368053:32) WARNING: epoch_index: 3, batch_index: 46, ema_loss: 0.6527917981147766\n",
      "2023-05-06 07:24:43,744 (2306368053:32) WARNING: epoch_index: 3, batch_index: 66, ema_loss: 0.659243106842041\n",
      "2023-05-06 07:24:44,011 (2306368053:32) WARNING: epoch_index: 3, batch_index: 86, ema_loss: 0.656542181968689\n",
      "2023-05-06 07:24:44,277 (2306368053:32) WARNING: epoch_index: 3, batch_index: 106, ema_loss: 0.6554630994796753\n",
      "2023-05-06 07:24:44,552 (2306368053:32) WARNING: epoch_index: 3, batch_index: 126, ema_loss: 0.6583046317100525\n",
      "2023-05-06 07:24:44,821 (2306368053:32) WARNING: epoch_index: 3, batch_index: 146, ema_loss: 0.6568976640701294\n",
      "2023-05-06 07:24:45,091 (2306368053:32) WARNING: epoch_index: 3, batch_index: 166, ema_loss: 0.6576042771339417\n",
      "2023-05-06 07:24:45,348 (2306368053:32) WARNING: epoch_index: 3, batch_index: 186, ema_loss: 0.6548929810523987\n",
      "2023-05-06 07:24:45,615 (2306368053:32) WARNING: epoch_index: 3, batch_index: 206, ema_loss: 0.6559357643127441\n",
      "2023-05-06 07:24:45,875 (2306368053:32) WARNING: epoch_index: 3, batch_index: 226, ema_loss: 0.6592805981636047\n",
      "2023-05-06 07:24:46,140 (2306368053:32) WARNING: epoch_index: 3, batch_index: 246, ema_loss: 0.6577094793319702\n",
      "2023-05-06 07:24:46,408 (2306368053:32) WARNING: epoch_index: 3, batch_index: 266, ema_loss: 0.6594110727310181\n",
      "2023-05-06 07:24:46,685 (2306368053:32) WARNING: epoch_index: 3, batch_index: 286, ema_loss: 0.6616430282592773\n",
      "2023-05-06 07:24:46,949 (2306368053:32) WARNING: epoch_index: 3, batch_index: 306, ema_loss: 0.6598603129386902\n",
      "2023-05-06 07:24:47,220 (2306368053:32) WARNING: epoch_index: 3, batch_index: 326, ema_loss: 0.661744236946106\n",
      "2023-05-06 07:24:47,226 (2306368053:44) WARNING: checkpoint has been saved in ./embed_sgd/step_1500.pt\n",
      "2023-05-06 07:24:47,227 (2306368053:47) WARNING: start to do evaluation...\n",
      "2023-05-06 07:24:52,842 (2306368053:60) WARNING: ema_eval_loss: 0.6475369930267334, eval_acc: 0.72572\n",
      "2023-05-06 07:24:53,116 (2306368053:32) WARNING: epoch_index: 3, batch_index: 346, ema_loss: 0.6607948541641235\n",
      "2023-05-06 07:24:53,387 (2306368053:32) WARNING: epoch_index: 3, batch_index: 366, ema_loss: 0.6587730646133423\n",
      "2023-05-06 07:24:53,661 (2306368053:32) WARNING: epoch_index: 3, batch_index: 386, ema_loss: 0.6598708629608154\n",
      "2023-05-06 07:24:53,713 (2306368053:63) WARNING: time cost is: 16.439225912094116\n"
     ]
    },
    {
     "name": "stderr",
     "output_type": "stream",
     "text": [
      "epoch:  40%|████      | 4/10 [00:49<01:18, 13.07s/it]"
     ]
    },
    {
     "name": "stdout",
     "output_type": "stream",
     "text": [
      "2023-05-06 07:24:53,932 (2306368053:32) WARNING: epoch_index: 4, batch_index: 15, ema_loss: 0.5371971130371094\n",
      "2023-05-06 07:24:54,205 (2306368053:32) WARNING: epoch_index: 4, batch_index: 35, ema_loss: 0.6450247168540955\n",
      "2023-05-06 07:24:54,473 (2306368053:32) WARNING: epoch_index: 4, batch_index: 55, ema_loss: 0.6529151797294617\n",
      "2023-05-06 07:24:54,742 (2306368053:32) WARNING: epoch_index: 4, batch_index: 75, ema_loss: 0.6544966101646423\n",
      "2023-05-06 07:24:55,021 (2306368053:32) WARNING: epoch_index: 4, batch_index: 95, ema_loss: 0.6600697636604309\n",
      "2023-05-06 07:24:55,287 (2306368053:32) WARNING: epoch_index: 4, batch_index: 115, ema_loss: 0.6603113412857056\n",
      "2023-05-06 07:24:55,558 (2306368053:32) WARNING: epoch_index: 4, batch_index: 135, ema_loss: 0.6612412929534912\n",
      "2023-05-06 07:24:55,833 (2306368053:32) WARNING: epoch_index: 4, batch_index: 155, ema_loss: 0.6601145267486572\n",
      "2023-05-06 07:24:56,096 (2306368053:32) WARNING: epoch_index: 4, batch_index: 175, ema_loss: 0.6577333211898804\n",
      "2023-05-06 07:24:56,371 (2306368053:32) WARNING: epoch_index: 4, batch_index: 195, ema_loss: 0.6575308442115784\n",
      "2023-05-06 07:24:56,651 (2306368053:32) WARNING: epoch_index: 4, batch_index: 215, ema_loss: 0.6581345796585083\n",
      "2023-05-06 07:24:56,936 (2306368053:32) WARNING: epoch_index: 4, batch_index: 235, ema_loss: 0.6570459604263306\n",
      "2023-05-06 07:24:56,937 (2306368053:47) WARNING: start to do evaluation...\n",
      "2023-05-06 07:25:02,551 (2306368053:60) WARNING: ema_eval_loss: 0.6480050086975098, eval_acc: 0.72528\n",
      "2023-05-06 07:25:02,813 (2306368053:32) WARNING: epoch_index: 4, batch_index: 255, ema_loss: 0.6598617434501648\n",
      "2023-05-06 07:25:03,075 (2306368053:32) WARNING: epoch_index: 4, batch_index: 275, ema_loss: 0.6581965684890747\n",
      "2023-05-06 07:25:03,342 (2306368053:32) WARNING: epoch_index: 4, batch_index: 295, ema_loss: 0.6577960252761841\n",
      "2023-05-06 07:25:03,617 (2306368053:32) WARNING: epoch_index: 4, batch_index: 315, ema_loss: 0.6598944664001465\n",
      "2023-05-06 07:25:03,879 (2306368053:32) WARNING: epoch_index: 4, batch_index: 335, ema_loss: 0.6544173359870911\n",
      "2023-05-06 07:25:04,174 (2306368053:32) WARNING: epoch_index: 4, batch_index: 355, ema_loss: 0.6603080034255981\n",
      "2023-05-06 07:25:04,445 (2306368053:32) WARNING: epoch_index: 4, batch_index: 375, ema_loss: 0.66012042760849\n",
      "2023-05-06 07:25:04,638 (2306368053:63) WARNING: time cost is: 10.921069383621216\n"
     ]
    },
    {
     "name": "stderr",
     "output_type": "stream",
     "text": [
      "epoch:  50%|█████     | 5/10 [01:00<01:01, 12.30s/it]"
     ]
    },
    {
     "name": "stdout",
     "output_type": "stream",
     "text": [
      "2023-05-06 07:25:04,711 (2306368053:32) WARNING: epoch_index: 5, batch_index: 4, ema_loss: 0.26857614517211914\n",
      "2023-05-06 07:25:04,974 (2306368053:32) WARNING: epoch_index: 5, batch_index: 24, ema_loss: 0.6070430874824524\n",
      "2023-05-06 07:25:05,238 (2306368053:32) WARNING: epoch_index: 5, batch_index: 44, ema_loss: 0.6515836715698242\n",
      "2023-05-06 07:25:05,244 (2306368053:44) WARNING: checkpoint has been saved in ./embed_sgd/step_2000.pt\n",
      "2023-05-06 07:25:05,507 (2306368053:32) WARNING: epoch_index: 5, batch_index: 64, ema_loss: 0.6580063104629517\n",
      "2023-05-06 07:25:05,772 (2306368053:32) WARNING: epoch_index: 5, batch_index: 84, ema_loss: 0.6593587398529053\n",
      "2023-05-06 07:25:06,063 (2306368053:32) WARNING: epoch_index: 5, batch_index: 104, ema_loss: 0.6589289903640747\n",
      "2023-05-06 07:25:06,336 (2306368053:32) WARNING: epoch_index: 5, batch_index: 124, ema_loss: 0.656238853931427\n",
      "2023-05-06 07:25:06,602 (2306368053:32) WARNING: epoch_index: 5, batch_index: 144, ema_loss: 0.6602469682693481\n",
      "2023-05-06 07:25:06,602 (2306368053:47) WARNING: start to do evaluation...\n",
      "2023-05-06 07:25:12,242 (2306368053:60) WARNING: ema_eval_loss: 0.6479788422584534, eval_acc: 0.72536\n",
      "2023-05-06 07:25:12,510 (2306368053:32) WARNING: epoch_index: 5, batch_index: 164, ema_loss: 0.6531327962875366\n",
      "2023-05-06 07:25:12,786 (2306368053:32) WARNING: epoch_index: 5, batch_index: 184, ema_loss: 0.6540794372558594\n",
      "2023-05-06 07:25:13,058 (2306368053:32) WARNING: epoch_index: 5, batch_index: 204, ema_loss: 0.6601014137268066\n",
      "2023-05-06 07:25:13,328 (2306368053:32) WARNING: epoch_index: 5, batch_index: 224, ema_loss: 0.659146785736084\n",
      "2023-05-06 07:25:13,596 (2306368053:32) WARNING: epoch_index: 5, batch_index: 244, ema_loss: 0.6602889895439148\n",
      "2023-05-06 07:25:13,862 (2306368053:32) WARNING: epoch_index: 5, batch_index: 264, ema_loss: 0.6581824421882629\n",
      "2023-05-06 07:25:14,125 (2306368053:32) WARNING: epoch_index: 5, batch_index: 284, ema_loss: 0.6552059054374695\n",
      "2023-05-06 07:25:14,383 (2306368053:32) WARNING: epoch_index: 5, batch_index: 304, ema_loss: 0.6558529138565063\n",
      "2023-05-06 07:25:14,652 (2306368053:32) WARNING: epoch_index: 5, batch_index: 324, ema_loss: 0.6609160304069519\n",
      "2023-05-06 07:25:14,920 (2306368053:32) WARNING: epoch_index: 5, batch_index: 344, ema_loss: 0.6574513912200928\n",
      "2023-05-06 07:25:15,199 (2306368053:32) WARNING: epoch_index: 5, batch_index: 364, ema_loss: 0.6581047773361206\n",
      "2023-05-06 07:25:15,458 (2306368053:32) WARNING: epoch_index: 5, batch_index: 384, ema_loss: 0.6566018462181091\n",
      "2023-05-06 07:25:15,538 (2306368053:63) WARNING: time cost is: 10.896250247955322\n"
     ]
    },
    {
     "name": "stderr",
     "output_type": "stream",
     "text": [
      "epoch:  60%|██████    | 6/10 [01:10<00:47, 11.82s/it]"
     ]
    },
    {
     "name": "stdout",
     "output_type": "stream",
     "text": [
      "2023-05-06 07:25:15,725 (2306368053:32) WARNING: epoch_index: 6, batch_index: 13, ema_loss: 0.5052988529205322\n",
      "2023-05-06 07:25:15,994 (2306368053:32) WARNING: epoch_index: 6, batch_index: 33, ema_loss: 0.6411486864089966\n",
      "2023-05-06 07:25:16,260 (2306368053:32) WARNING: epoch_index: 6, batch_index: 53, ema_loss: 0.6567869782447815\n",
      "2023-05-06 07:25:16,260 (2306368053:47) WARNING: start to do evaluation...\n",
      "2023-05-06 07:25:21,981 (2306368053:60) WARNING: ema_eval_loss: 0.6480165719985962, eval_acc: 0.72532\n",
      "2023-05-06 07:25:22,253 (2306368053:32) WARNING: epoch_index: 6, batch_index: 73, ema_loss: 0.6571532487869263\n",
      "2023-05-06 07:25:22,520 (2306368053:32) WARNING: epoch_index: 6, batch_index: 93, ema_loss: 0.6572417616844177\n",
      "2023-05-06 07:25:22,791 (2306368053:32) WARNING: epoch_index: 6, batch_index: 113, ema_loss: 0.652736246585846\n",
      "2023-05-06 07:25:23,066 (2306368053:32) WARNING: epoch_index: 6, batch_index: 133, ema_loss: 0.6583190560340881\n",
      "2023-05-06 07:25:23,341 (2306368053:32) WARNING: epoch_index: 6, batch_index: 153, ema_loss: 0.6563299894332886\n",
      "2023-05-06 07:25:23,349 (2306368053:44) WARNING: checkpoint has been saved in ./embed_sgd/step_2500.pt\n",
      "2023-05-06 07:25:23,633 (2306368053:32) WARNING: epoch_index: 6, batch_index: 173, ema_loss: 0.6602562665939331\n",
      "2023-05-06 07:25:23,938 (2306368053:32) WARNING: epoch_index: 6, batch_index: 193, ema_loss: 0.6557373404502869\n",
      "2023-05-06 07:25:24,218 (2306368053:32) WARNING: epoch_index: 6, batch_index: 213, ema_loss: 0.6615234613418579\n",
      "2023-05-06 07:25:24,509 (2306368053:32) WARNING: epoch_index: 6, batch_index: 233, ema_loss: 0.6584482192993164\n",
      "2023-05-06 07:25:24,781 (2306368053:32) WARNING: epoch_index: 6, batch_index: 253, ema_loss: 0.6598412990570068\n",
      "2023-05-06 07:25:25,049 (2306368053:32) WARNING: epoch_index: 6, batch_index: 273, ema_loss: 0.6561119556427002\n",
      "2023-05-06 07:25:25,325 (2306368053:32) WARNING: epoch_index: 6, batch_index: 293, ema_loss: 0.6557163000106812\n",
      "2023-05-06 07:25:25,601 (2306368053:32) WARNING: epoch_index: 6, batch_index: 313, ema_loss: 0.6579855680465698\n",
      "2023-05-06 07:25:25,869 (2306368053:32) WARNING: epoch_index: 6, batch_index: 333, ema_loss: 0.6531841158866882\n",
      "2023-05-06 07:25:26,149 (2306368053:32) WARNING: epoch_index: 6, batch_index: 353, ema_loss: 0.6571992635726929\n",
      "2023-05-06 07:25:26,150 (2306368053:47) WARNING: start to do evaluation...\n",
      "2023-05-06 07:25:31,936 (2306368053:60) WARNING: ema_eval_loss: 0.6478337049484253, eval_acc: 0.72564\n",
      "2023-05-06 07:25:32,207 (2306368053:32) WARNING: epoch_index: 6, batch_index: 373, ema_loss: 0.6601704955101013\n",
      "2023-05-06 07:25:32,424 (2306368053:63) WARNING: time cost is: 16.88053584098816\n"
     ]
    },
    {
     "name": "stderr",
     "output_type": "stream",
     "text": [
      "epoch:  70%|███████   | 7/10 [01:27<00:40, 13.48s/it]"
     ]
    },
    {
     "name": "stdout",
     "output_type": "stream",
     "text": [
      "2023-05-06 07:25:32,474 (2306368053:32) WARNING: epoch_index: 7, batch_index: 2, ema_loss: 0.1779247224330902\n",
      "2023-05-06 07:25:32,751 (2306368053:32) WARNING: epoch_index: 7, batch_index: 22, ema_loss: 0.6000710129737854\n",
      "2023-05-06 07:25:33,034 (2306368053:32) WARNING: epoch_index: 7, batch_index: 42, ema_loss: 0.65145343542099\n",
      "2023-05-06 07:25:33,311 (2306368053:32) WARNING: epoch_index: 7, batch_index: 62, ema_loss: 0.6577585935592651\n",
      "2023-05-06 07:25:33,585 (2306368053:32) WARNING: epoch_index: 7, batch_index: 82, ema_loss: 0.6584005355834961\n",
      "2023-05-06 07:25:33,857 (2306368053:32) WARNING: epoch_index: 7, batch_index: 102, ema_loss: 0.6569300889968872\n",
      "2023-05-06 07:25:34,139 (2306368053:32) WARNING: epoch_index: 7, batch_index: 122, ema_loss: 0.6572712659835815\n",
      "2023-05-06 07:25:34,420 (2306368053:32) WARNING: epoch_index: 7, batch_index: 142, ema_loss: 0.658390462398529\n",
      "2023-05-06 07:25:34,699 (2306368053:32) WARNING: epoch_index: 7, batch_index: 162, ema_loss: 0.6581667065620422\n",
      "2023-05-06 07:25:34,974 (2306368053:32) WARNING: epoch_index: 7, batch_index: 182, ema_loss: 0.6565315127372742\n",
      "2023-05-06 07:25:35,274 (2306368053:32) WARNING: epoch_index: 7, batch_index: 202, ema_loss: 0.6513832211494446\n",
      "2023-05-06 07:25:35,541 (2306368053:32) WARNING: epoch_index: 7, batch_index: 222, ema_loss: 0.6581548452377319\n",
      "2023-05-06 07:25:35,809 (2306368053:32) WARNING: epoch_index: 7, batch_index: 242, ema_loss: 0.6555436253547668\n",
      "2023-05-06 07:25:36,089 (2306368053:32) WARNING: epoch_index: 7, batch_index: 262, ema_loss: 0.6584138870239258\n",
      "2023-05-06 07:25:36,097 (2306368053:44) WARNING: checkpoint has been saved in ./embed_sgd/step_3000.pt\n",
      "2023-05-06 07:25:36,097 (2306368053:47) WARNING: start to do evaluation...\n",
      "2023-05-06 07:25:41,839 (2306368053:60) WARNING: ema_eval_loss: 0.6481356620788574, eval_acc: 0.72516\n",
      "2023-05-06 07:25:42,108 (2306368053:32) WARNING: epoch_index: 7, batch_index: 282, ema_loss: 0.6584386825561523\n",
      "2023-05-06 07:25:42,380 (2306368053:32) WARNING: epoch_index: 7, batch_index: 302, ema_loss: 0.6560232043266296\n",
      "2023-05-06 07:25:42,644 (2306368053:32) WARNING: epoch_index: 7, batch_index: 322, ema_loss: 0.6551221013069153\n",
      "2023-05-06 07:25:42,913 (2306368053:32) WARNING: epoch_index: 7, batch_index: 342, ema_loss: 0.6591026782989502\n",
      "2023-05-06 07:25:43,175 (2306368053:32) WARNING: epoch_index: 7, batch_index: 362, ema_loss: 0.6615436673164368\n",
      "2023-05-06 07:25:43,446 (2306368053:32) WARNING: epoch_index: 7, batch_index: 382, ema_loss: 0.6579842567443848\n",
      "2023-05-06 07:25:43,544 (2306368053:63) WARNING: time cost is: 11.115277528762817\n"
     ]
    },
    {
     "name": "stderr",
     "output_type": "stream",
     "text": [
      "epoch:  80%|████████  | 8/10 [01:38<00:25, 12.73s/it]"
     ]
    },
    {
     "name": "stdout",
     "output_type": "stream",
     "text": [
      "2023-05-06 07:25:43,704 (2306368053:32) WARNING: epoch_index: 8, batch_index: 11, ema_loss: 0.4730377793312073\n",
      "2023-05-06 07:25:43,981 (2306368053:32) WARNING: epoch_index: 8, batch_index: 31, ema_loss: 0.633831262588501\n",
      "2023-05-06 07:25:44,260 (2306368053:32) WARNING: epoch_index: 8, batch_index: 51, ema_loss: 0.653315544128418\n",
      "2023-05-06 07:25:44,522 (2306368053:32) WARNING: epoch_index: 8, batch_index: 71, ema_loss: 0.6541838049888611\n",
      "2023-05-06 07:25:44,801 (2306368053:32) WARNING: epoch_index: 8, batch_index: 91, ema_loss: 0.6587887406349182\n",
      "2023-05-06 07:25:45,091 (2306368053:32) WARNING: epoch_index: 8, batch_index: 111, ema_loss: 0.6581243872642517\n",
      "2023-05-06 07:25:45,369 (2306368053:32) WARNING: epoch_index: 8, batch_index: 131, ema_loss: 0.6577311754226685\n",
      "2023-05-06 07:25:45,649 (2306368053:32) WARNING: epoch_index: 8, batch_index: 151, ema_loss: 0.6605755090713501\n",
      "2023-05-06 07:25:45,919 (2306368053:32) WARNING: epoch_index: 8, batch_index: 171, ema_loss: 0.6597784757614136\n",
      "2023-05-06 07:25:45,920 (2306368053:47) WARNING: start to do evaluation...\n",
      "2023-05-06 07:25:51,617 (2306368053:60) WARNING: ema_eval_loss: 0.6483352780342102, eval_acc: 0.72488\n",
      "2023-05-06 07:25:51,875 (2306368053:32) WARNING: epoch_index: 8, batch_index: 191, ema_loss: 0.6591731309890747\n",
      "2023-05-06 07:25:52,145 (2306368053:32) WARNING: epoch_index: 8, batch_index: 211, ema_loss: 0.6602010130882263\n",
      "2023-05-06 07:25:52,407 (2306368053:32) WARNING: epoch_index: 8, batch_index: 231, ema_loss: 0.6583414077758789\n",
      "2023-05-06 07:25:52,676 (2306368053:32) WARNING: epoch_index: 8, batch_index: 251, ema_loss: 0.6607134938240051\n",
      "2023-05-06 07:25:52,952 (2306368053:32) WARNING: epoch_index: 8, batch_index: 271, ema_loss: 0.6576995849609375\n",
      "2023-05-06 07:25:53,229 (2306368053:32) WARNING: epoch_index: 8, batch_index: 291, ema_loss: 0.6591650247573853\n",
      "2023-05-06 07:25:53,502 (2306368053:32) WARNING: epoch_index: 8, batch_index: 311, ema_loss: 0.6565771102905273\n",
      "2023-05-06 07:25:53,759 (2306368053:32) WARNING: epoch_index: 8, batch_index: 331, ema_loss: 0.6595475673675537\n",
      "2023-05-06 07:25:54,014 (2306368053:32) WARNING: epoch_index: 8, batch_index: 351, ema_loss: 0.6576131582260132\n",
      "2023-05-06 07:25:54,285 (2306368053:32) WARNING: epoch_index: 8, batch_index: 371, ema_loss: 0.657004714012146\n",
      "2023-05-06 07:25:54,293 (2306368053:44) WARNING: checkpoint has been saved in ./embed_sgd/step_3500.pt\n",
      "2023-05-06 07:25:54,537 (2306368053:63) WARNING: time cost is: 10.988385915756226\n"
     ]
    },
    {
     "name": "stderr",
     "output_type": "stream",
     "text": [
      "epoch:  90%|█████████ | 9/10 [01:49<00:12, 12.19s/it]"
     ]
    },
    {
     "name": "stdout",
     "output_type": "stream",
     "text": [
      "2023-05-06 07:25:54,556 (2306368053:32) WARNING: epoch_index: 9, batch_index: 0, ema_loss: 0.06533627957105637\n",
      "2023-05-06 07:25:54,819 (2306368053:32) WARNING: epoch_index: 9, batch_index: 20, ema_loss: 0.5839166045188904\n",
      "2023-05-06 07:25:55,083 (2306368053:32) WARNING: epoch_index: 9, batch_index: 40, ema_loss: 0.6476113796234131\n",
      "2023-05-06 07:25:55,340 (2306368053:32) WARNING: epoch_index: 9, batch_index: 60, ema_loss: 0.653864324092865\n",
      "2023-05-06 07:25:55,611 (2306368053:32) WARNING: epoch_index: 9, batch_index: 80, ema_loss: 0.6571338772773743\n",
      "2023-05-06 07:25:55,612 (2306368053:47) WARNING: start to do evaluation...\n",
      "2023-05-06 07:26:01,338 (2306368053:60) WARNING: ema_eval_loss: 0.6484620571136475, eval_acc: 0.72476\n",
      "2023-05-06 07:26:01,622 (2306368053:32) WARNING: epoch_index: 9, batch_index: 100, ema_loss: 0.6572405695915222\n",
      "2023-05-06 07:26:01,903 (2306368053:32) WARNING: epoch_index: 9, batch_index: 120, ema_loss: 0.6594080924987793\n",
      "2023-05-06 07:26:02,200 (2306368053:32) WARNING: epoch_index: 9, batch_index: 140, ema_loss: 0.6603343486785889\n",
      "2023-05-06 07:26:02,476 (2306368053:32) WARNING: epoch_index: 9, batch_index: 160, ema_loss: 0.659727931022644\n",
      "2023-05-06 07:26:02,746 (2306368053:32) WARNING: epoch_index: 9, batch_index: 180, ema_loss: 0.6569585204124451\n",
      "2023-05-06 07:26:03,016 (2306368053:32) WARNING: epoch_index: 9, batch_index: 200, ema_loss: 0.6575989127159119\n",
      "2023-05-06 07:26:03,291 (2306368053:32) WARNING: epoch_index: 9, batch_index: 220, ema_loss: 0.6584922671318054\n",
      "2023-05-06 07:26:03,557 (2306368053:32) WARNING: epoch_index: 9, batch_index: 240, ema_loss: 0.6549084186553955\n",
      "2023-05-06 07:26:03,822 (2306368053:32) WARNING: epoch_index: 9, batch_index: 260, ema_loss: 0.6594076156616211\n",
      "2023-05-06 07:26:04,087 (2306368053:32) WARNING: epoch_index: 9, batch_index: 280, ema_loss: 0.6592159271240234\n",
      "2023-05-06 07:26:04,351 (2306368053:32) WARNING: epoch_index: 9, batch_index: 300, ema_loss: 0.6586778163909912\n",
      "2023-05-06 07:26:04,618 (2306368053:32) WARNING: epoch_index: 9, batch_index: 320, ema_loss: 0.6556644439697266\n",
      "2023-05-06 07:26:04,884 (2306368053:32) WARNING: epoch_index: 9, batch_index: 340, ema_loss: 0.657227098941803\n",
      "2023-05-06 07:26:05,147 (2306368053:32) WARNING: epoch_index: 9, batch_index: 360, ema_loss: 0.6582435965538025\n",
      "2023-05-06 07:26:05,414 (2306368053:32) WARNING: epoch_index: 9, batch_index: 380, ema_loss: 0.6607392430305481\n",
      "2023-05-06 07:26:05,415 (2306368053:47) WARNING: start to do evaluation...\n",
      "2023-05-06 07:26:11,098 (2306368053:60) WARNING: ema_eval_loss: 0.6484143733978271, eval_acc: 0.72484\n",
      "2023-05-06 07:26:11,228 (2306368053:63) WARNING: time cost is: 16.688174724578857\n"
     ]
    },
    {
     "name": "stderr",
     "output_type": "stream",
     "text": [
      "epoch: 100%|██████████| 10/10 [02:06<00:00, 12.66s/it]\n"
     ]
    }
   ],
   "source": [
    "optimizer = torch.optim.SGD(model.parameters(), lr=1e-4)\n",
    "train(train_data_loader, eval_data_loader, model, optimizer, num_epoch=10, log_step_interval=20, \\\n",
    "      save_step_interval=500, eval_step_interval=300, save_path=\"./embed_sgd\", resume=resume)"
   ]
  }
 ],
 "metadata": {
  "kernelspec": {
   "display_name": "Python 3 (ipykernel)",
   "language": "python",
   "name": "python3"
  },
  "language_info": {
   "codemirror_mode": {
    "name": "ipython",
    "version": 3
   },
   "file_extension": ".py",
   "mimetype": "text/x-python",
   "name": "python",
   "nbconvert_exporter": "python",
   "pygments_lexer": "ipython3",
   "version": "3.8.10"
  }
 },
 "nbformat": 4,
 "nbformat_minor": 5
}
