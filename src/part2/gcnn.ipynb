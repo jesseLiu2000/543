{
 "cells": [
  {
   "cell_type": "code",
   "execution_count": 1,
   "id": "e3fd087f-cb2c-436e-bb3d-abf9c4bf8f07",
   "metadata": {},
   "outputs": [
    {
     "name": "stdout",
     "output_type": "stream",
     "text": [
      "2023-05-06 07:11:13,077 (2091545762:27) WARNING: device is cuda\n"
     ]
    }
   ],
   "source": [
    "import torch\n",
    "import torch.nn as nn\n",
    "import torch.nn.functional as F\n",
    "import time \n",
    "from torch import utils\n",
    "from torch.nn.utils.rnn import pack_padded_sequence, pad_packed_sequence\n",
    "\n",
    "import torchtext\n",
    "from tqdm import tqdm\n",
    "from torchtext.datasets import IMDB\n",
    "\n",
    "from torchtext.datasets.imdb import NUM_LINES\n",
    "from torchtext.data import get_tokenizer\n",
    "from torchtext.vocab import build_vocab_from_iterator\n",
    "from torchtext.data.functional import to_map_style_dataset\n",
    "\n",
    "import os\n",
    "import sys\n",
    "import logging\n",
    "import logging\n",
    "logging.basicConfig(\n",
    "    level=logging.WARN, stream=sys.stdout, \\\n",
    "    format=\"%(asctime)s (%(module)s:%(lineno)d) %(levelname)s: %(message)s\")\n",
    "\n",
    "VOCAB_SIZE = 15000\n",
    "device = torch.device(\"cuda\" if torch.cuda.is_available() else \"cpu\")\n",
    "logging.warning(f\"device is {device}\")\n",
    "VOCAB_SIZE = 15000 \n",
    "BATCH_SIZE = 64\n",
    "\n",
    "def yeild_tokens(train_data_iter, tokenizer):\n",
    "    for i, sample in enumerate(train_data_iter):\n",
    "        label, comment = sample\n",
    "        yield tokenizer(comment)\n",
    "        \n",
    "    \n",
    "class GCNN(nn.Module):\n",
    "    def __init__(self, vocab_size=VOCAB_SIZE, embedding_dim=64, num_class=2):\n",
    "        super(GCNN, self).__init__()\n",
    "        \n",
    "        self.embedding_table = nn.Embedding(vocab_size, embedding_dim).to(device)\n",
    "        nn.init.xavier_uniform_(self.embedding_table.weight).to(device)\n",
    "        \n",
    "        self.conv_A_1 = nn.Conv1d(embedding_dim, 64, 15, stride=7).to(device)\n",
    "        self.conv_B_1 = nn.Conv1d(embedding_dim, 64, 15, stride=7).to(device)\n",
    "        \n",
    "        self.conv_A_2 = nn.Conv1d(64, 64, 15, stride=7).to(device)\n",
    "        self.conv_B_2 = nn.Conv1d(64, 64, 15, stride=7).to(device)\n",
    "        \n",
    "        self.output_linear1 = nn.Linear(64, 128).to(device)\n",
    "        self.output_linear2 = nn.Linear(128, num_class).to(device)\n",
    "        \n",
    "    def forward(self, word_index):\n",
    "        word_embedding = self.embedding_table(word_index)  \n",
    "        \n",
    "        word_embedding = word_embedding.transpose(1, 2)  \n",
    "        A = self.conv_A_1(word_embedding)\n",
    "        B = self.conv_B_1(word_embedding)\n",
    "        H = A * torch.sigmoid(B) \n",
    "        \n",
    "        A = self.conv_A_2(H)\n",
    "        B = self.conv_B_2(H)\n",
    "        H = A * torch.sigmoid(B) \n",
    "        \n",
    "        pool_output = torch.mean(H, dim=-1)  \n",
    "        linear1_output = self.output_linear1(pool_output)\n",
    "        \n",
    "        logits = self.output_linear2(linear1_output)\n",
    "        \n",
    "        return logits"
   ]
  },
  {
   "cell_type": "code",
   "execution_count": 2,
   "id": "e32be04c-1410-4b65-9912-beb39c86268e",
   "metadata": {},
   "outputs": [
    {
     "name": "stdout",
     "output_type": "stream",
     "text": [
      "Vocal size: 13351\n"
     ]
    }
   ],
   "source": [
    "train_data_iter = IMDB(root=\"data\", split=\"train\") \n",
    "tokenizer = get_tokenizer(\"basic_english\")\n",
    "\n",
    "vocab = build_vocab_from_iterator(yeild_tokens(train_data_iter, tokenizer), min_freq=20, specials=[\"<unk>\"])\n",
    "vocab.set_default_index(0)  \n",
    "print(f'Vocal size: {len(vocab)}')"
   ]
  },
  {
   "cell_type": "code",
   "execution_count": 3,
   "id": "af41d7d1-25ae-4c21-8b60-285a2e948a34",
   "metadata": {},
   "outputs": [],
   "source": [
    "def collate_fn(batch):\n",
    "    target = []\n",
    "    token_index = []\n",
    "    max_length = 0  \n",
    "    for i, (label, comment) in enumerate(batch):\n",
    "        tokens = tokenizer(comment)\n",
    "        token_index.append(vocab(tokens)) \n",
    "        \n",
    "        if len(tokens) > max_length:\n",
    "            max_length = len(tokens)\n",
    "        \n",
    "        if label == \"pos\":\n",
    "            target.append(0)\n",
    "        else:\n",
    "            target.append(1)\n",
    "\n",
    "    token_index = [index + [0]*(max_length-len(index)) for index in token_index]\n",
    "    return (torch.tensor(target).to(torch.int64), torch.tensor(token_index).to(torch.int32))"
   ]
  },
  {
   "cell_type": "code",
   "execution_count": 4,
   "id": "b502930a-7d9e-4d9e-9733-ff64456489c1",
   "metadata": {},
   "outputs": [],
   "source": [
    "def train(train_data_loader, eval_data_loader, model, optimizer, num_epoch, log_step_interval, save_step_interval, \\\n",
    "          eval_step_interval, save_path, resume=\"\"):\n",
    "    start_epoch = 0\n",
    "    start_step = 0\n",
    "    if resume != \"\":\n",
    "        logging.warning(f\"loading from {resume}\")\n",
    "        checkpoint = torch.load(resume)\n",
    "        model.load_state_dict(checkpoint['model_state_dict'])\n",
    "        optimizer.load_state_dict(checkpoint['optimizer_state_dict'])\n",
    "        start_epoch = checkpoint['epoch']\n",
    "        start_step = checkpoint['step']\n",
    "        \n",
    "    for epoch_index in tqdm(range(start_epoch, num_epoch), desc=\"epoch\"):\n",
    "        ema_loss = 0\n",
    "        num_batches = len(train_data_loader)\n",
    "        start_time = time.time()\n",
    "        \n",
    "        for batch_index, (target, token_index) in enumerate(train_data_loader):\n",
    "            target = target.to(device)\n",
    "            token_index = token_index.to(device)\n",
    "            optimizer.zero_grad()\n",
    "            step = num_batches*(epoch_index) + batch_index + 1\n",
    "            logits = model(token_index)\n",
    "\n",
    "            bce_loss = F.binary_cross_entropy(torch.sigmoid(logits), F.one_hot(target, num_classes=2).to(torch.float32))\n",
    "            ema_loss = 0.9 * ema_loss + 0.1 * bce_loss  \n",
    "            bce_loss.backward()\n",
    "            nn.utils.clip_grad_norm_(model.parameters(), 0.1)  \n",
    "            optimizer.step()   \n",
    "            \n",
    "            if step % log_step_interval == 0:\n",
    "                logging.warning(f\"epoch_index: {epoch_index}, batch_index: {batch_index}, ema_loss: {ema_loss}\")\n",
    "                \n",
    "            if step % save_step_interval == 0:\n",
    "                os.makedirs(save_path, exist_ok=True)\n",
    "                save_file = os.path.join(save_path, f\"step_{step}.pt\")\n",
    "                torch.save({\n",
    "                    \"epoch\": epoch_index,\n",
    "                    \"step\": step,\n",
    "                    \"model_state_dict\": model.state_dict(),\n",
    "                    'optimizer_state_dict': optimizer.state_dict(),\n",
    "                    'loss': bce_loss,\n",
    "                }, save_file)\n",
    "                logging.warning(f\"checkpoint has been saved in {save_file}\")\n",
    "            \n",
    "            if step % eval_step_interval == 0:\n",
    "                logging.warning(\"start to do evaluation...\")\n",
    "                model.eval()\n",
    "                ema_eval_loss = 0\n",
    "                total_acc_account = 0\n",
    "                total_account = 0\n",
    "                for eval_batch_index, (eval_target, eval_token_index) in enumerate(eval_data_loader):\n",
    "                    eval_target = eval_target.to(device)\n",
    "                    eval_token_index = eval_token_index.to(device)\n",
    "                    total_account += eval_target.shape[0]\n",
    "                    eval_logits = model(eval_token_index)\n",
    "                    total_acc_account += (torch.argmax(eval_logits, dim=-1) == eval_target).sum().item()\n",
    "                    eval_bce_loss = F.binary_cross_entropy(torch.sigmoid(eval_logits), F.one_hot(eval_target, num_classes=2).to(torch.float32))\n",
    "                    ema_eval_loss = 0.9 * ema_eval_loss + 0.1 * eval_bce_loss\n",
    "                logging.warning(f\"ema_eval_loss: {ema_eval_loss}, eval_acc: {total_acc_account / total_account}\")\n",
    "                model.train()\n",
    "        time_period = time.time()-start_time\n",
    "        logging.warning(f\"time cost is: {time_period}\")"
   ]
  },
  {
   "cell_type": "code",
   "execution_count": 5,
   "id": "15520fc2-17b1-4102-8ac2-3602812c6fca",
   "metadata": {},
   "outputs": [
    {
     "name": "stdout",
     "output_type": "stream",
     "text": [
      "Model total parameters: 1214594\n"
     ]
    }
   ],
   "source": [
    "model = GCNN().to(device)\n",
    "print(\"Model total parameters:\", sum(p.numel() for p in model.parameters()))\n",
    "resume = \"\""
   ]
  },
  {
   "cell_type": "code",
   "execution_count": 6,
   "id": "bc9047f8-87c7-4f82-9683-ad147c175d96",
   "metadata": {},
   "outputs": [],
   "source": [
    "train_data_iter = IMDB(root=\"data\", split=\"train\") \n",
    "train_data_loader = torch.utils.data.DataLoader(\n",
    "    to_map_style_dataset(train_data_iter), batch_size=BATCH_SIZE, collate_fn=collate_fn, shuffle=True)\n",
    "\n",
    "eval_data_iter = IMDB(root=\"data\", split=\"test\")  \n",
    "eval_data_loader = utils.data.DataLoader(\n",
    "    to_map_style_dataset(eval_data_iter), batch_size=8, collate_fn=collate_fn)"
   ]
  },
  {
   "cell_type": "code",
   "execution_count": 7,
   "id": "06e6a417-5d12-4515-860b-85140d8a9570",
   "metadata": {},
   "outputs": [
    {
     "name": "stderr",
     "output_type": "stream",
     "text": [
      "epoch:   0%|          | 0/10 [00:00<?, ?it/s]"
     ]
    },
    {
     "name": "stdout",
     "output_type": "stream",
     "text": [
      "2023-05-06 07:11:45,703 (2306368053:32) WARNING: epoch_index: 0, batch_index: 19, ema_loss: 0.6093685626983643\n",
      "2023-05-06 07:11:46,065 (2306368053:32) WARNING: epoch_index: 0, batch_index: 39, ema_loss: 0.6835482716560364\n",
      "2023-05-06 07:11:46,440 (2306368053:32) WARNING: epoch_index: 0, batch_index: 59, ema_loss: 0.6919752359390259\n",
      "2023-05-06 07:11:46,815 (2306368053:32) WARNING: epoch_index: 0, batch_index: 79, ema_loss: 0.6931185126304626\n",
      "2023-05-06 07:11:47,190 (2306368053:32) WARNING: epoch_index: 0, batch_index: 99, ema_loss: 0.6931490302085876\n",
      "2023-05-06 07:11:47,545 (2306368053:32) WARNING: epoch_index: 0, batch_index: 119, ema_loss: 0.6930544376373291\n",
      "2023-05-06 07:11:47,927 (2306368053:32) WARNING: epoch_index: 0, batch_index: 139, ema_loss: 0.6932767629623413\n",
      "2023-05-06 07:11:48,298 (2306368053:32) WARNING: epoch_index: 0, batch_index: 159, ema_loss: 0.6930815577507019\n",
      "2023-05-06 07:11:48,666 (2306368053:32) WARNING: epoch_index: 0, batch_index: 179, ema_loss: 0.6935425400733948\n",
      "2023-05-06 07:11:49,039 (2306368053:32) WARNING: epoch_index: 0, batch_index: 199, ema_loss: 0.6930831670761108\n",
      "2023-05-06 07:11:49,424 (2306368053:32) WARNING: epoch_index: 0, batch_index: 219, ema_loss: 0.6931833028793335\n",
      "2023-05-06 07:11:49,807 (2306368053:32) WARNING: epoch_index: 0, batch_index: 239, ema_loss: 0.6930952072143555\n",
      "2023-05-06 07:11:50,185 (2306368053:32) WARNING: epoch_index: 0, batch_index: 259, ema_loss: 0.6926684379577637\n",
      "2023-05-06 07:11:50,583 (2306368053:32) WARNING: epoch_index: 0, batch_index: 279, ema_loss: 0.6922723054885864\n",
      "2023-05-06 07:11:50,953 (2306368053:32) WARNING: epoch_index: 0, batch_index: 299, ema_loss: 0.6922098994255066\n",
      "2023-05-06 07:11:50,954 (2306368053:47) WARNING: start to do evaluation...\n",
      "2023-05-06 07:11:58,319 (2306368053:60) WARNING: ema_eval_loss: 0.6796983480453491, eval_acc: 0.59216\n",
      "2023-05-06 07:11:58,707 (2306368053:32) WARNING: epoch_index: 0, batch_index: 319, ema_loss: 0.691004753112793\n",
      "2023-05-06 07:11:59,080 (2306368053:32) WARNING: epoch_index: 0, batch_index: 339, ema_loss: 0.6869977712631226\n",
      "2023-05-06 07:11:59,451 (2306368053:32) WARNING: epoch_index: 0, batch_index: 359, ema_loss: 0.6790069341659546\n",
      "2023-05-06 07:11:59,820 (2306368053:32) WARNING: epoch_index: 0, batch_index: 379, ema_loss: 0.6645774841308594\n",
      "2023-05-06 07:12:00,017 (2306368053:63) WARNING: time cost is: 14.72244906425476\n"
     ]
    },
    {
     "name": "stderr",
     "output_type": "stream",
     "text": [
      "epoch:  10%|█         | 1/10 [00:14<02:12, 14.72s/it]"
     ]
    },
    {
     "name": "stdout",
     "output_type": "stream",
     "text": [
      "2023-05-06 07:12:00,213 (2306368053:32) WARNING: epoch_index: 1, batch_index: 8, ema_loss: 0.39859920740127563\n",
      "2023-05-06 07:12:00,603 (2306368053:32) WARNING: epoch_index: 1, batch_index: 28, ema_loss: 0.6076792478561401\n",
      "2023-05-06 07:12:00,964 (2306368053:32) WARNING: epoch_index: 1, batch_index: 48, ema_loss: 0.6104103326797485\n",
      "2023-05-06 07:12:01,341 (2306368053:32) WARNING: epoch_index: 1, batch_index: 68, ema_loss: 0.6003459095954895\n",
      "2023-05-06 07:12:01,721 (2306368053:32) WARNING: epoch_index: 1, batch_index: 88, ema_loss: 0.5812162160873413\n",
      "2023-05-06 07:12:02,093 (2306368053:32) WARNING: epoch_index: 1, batch_index: 108, ema_loss: 0.5568131804466248\n",
      "2023-05-06 07:12:02,124 (2306368053:44) WARNING: checkpoint has been saved in ./lstm_admw/step_500.pt\n",
      "2023-05-06 07:12:02,501 (2306368053:32) WARNING: epoch_index: 1, batch_index: 128, ema_loss: 0.5503867864608765\n",
      "2023-05-06 07:12:02,884 (2306368053:32) WARNING: epoch_index: 1, batch_index: 148, ema_loss: 0.5341698527336121\n",
      "2023-05-06 07:12:03,259 (2306368053:32) WARNING: epoch_index: 1, batch_index: 168, ema_loss: 0.5290642976760864\n",
      "2023-05-06 07:12:03,635 (2306368053:32) WARNING: epoch_index: 1, batch_index: 188, ema_loss: 0.507905125617981\n",
      "2023-05-06 07:12:04,005 (2306368053:32) WARNING: epoch_index: 1, batch_index: 208, ema_loss: 0.507244884967804\n",
      "2023-05-06 07:12:04,006 (2306368053:47) WARNING: start to do evaluation...\n",
      "2023-05-06 07:12:11,065 (2306368053:60) WARNING: ema_eval_loss: 0.6266682147979736, eval_acc: 0.77724\n",
      "2023-05-06 07:12:11,446 (2306368053:32) WARNING: epoch_index: 1, batch_index: 228, ema_loss: 0.4955330193042755\n",
      "2023-05-06 07:12:11,835 (2306368053:32) WARNING: epoch_index: 1, batch_index: 248, ema_loss: 0.4709623456001282\n",
      "2023-05-06 07:12:12,198 (2306368053:32) WARNING: epoch_index: 1, batch_index: 268, ema_loss: 0.45397964119911194\n",
      "2023-05-06 07:12:12,568 (2306368053:32) WARNING: epoch_index: 1, batch_index: 288, ema_loss: 0.4779011905193329\n",
      "2023-05-06 07:12:12,928 (2306368053:32) WARNING: epoch_index: 1, batch_index: 308, ema_loss: 0.4408957362174988\n",
      "2023-05-06 07:12:13,299 (2306368053:32) WARNING: epoch_index: 1, batch_index: 328, ema_loss: 0.4269455075263977\n",
      "2023-05-06 07:12:13,684 (2306368053:32) WARNING: epoch_index: 1, batch_index: 348, ema_loss: 0.42960286140441895\n",
      "2023-05-06 07:12:14,058 (2306368053:32) WARNING: epoch_index: 1, batch_index: 368, ema_loss: 0.431520015001297\n",
      "2023-05-06 07:12:14,430 (2306368053:32) WARNING: epoch_index: 1, batch_index: 388, ema_loss: 0.38643354177474976\n",
      "2023-05-06 07:12:14,463 (2306368053:63) WARNING: time cost is: 14.436644554138184\n"
     ]
    },
    {
     "name": "stderr",
     "output_type": "stream",
     "text": [
      "epoch:  20%|██        | 2/10 [00:29<01:56, 14.56s/it]"
     ]
    },
    {
     "name": "stdout",
     "output_type": "stream",
     "text": [
      "2023-05-06 07:12:14,810 (2306368053:32) WARNING: epoch_index: 2, batch_index: 17, ema_loss: 0.3213476538658142\n",
      "2023-05-06 07:12:15,184 (2306368053:32) WARNING: epoch_index: 2, batch_index: 37, ema_loss: 0.36085042357444763\n",
      "2023-05-06 07:12:15,566 (2306368053:32) WARNING: epoch_index: 2, batch_index: 57, ema_loss: 0.37479740381240845\n",
      "2023-05-06 07:12:15,935 (2306368053:32) WARNING: epoch_index: 2, batch_index: 77, ema_loss: 0.36942875385284424\n",
      "2023-05-06 07:12:16,311 (2306368053:32) WARNING: epoch_index: 2, batch_index: 97, ema_loss: 0.4089432954788208\n",
      "2023-05-06 07:12:16,709 (2306368053:32) WARNING: epoch_index: 2, batch_index: 117, ema_loss: 0.3783250153064728\n",
      "2023-05-06 07:12:16,709 (2306368053:47) WARNING: start to do evaluation...\n",
      "2023-05-06 07:12:23,777 (2306368053:60) WARNING: ema_eval_loss: 0.5360415577888489, eval_acc: 0.83664\n",
      "2023-05-06 07:12:24,159 (2306368053:32) WARNING: epoch_index: 2, batch_index: 137, ema_loss: 0.37765929102897644\n",
      "2023-05-06 07:12:24,537 (2306368053:32) WARNING: epoch_index: 2, batch_index: 157, ema_loss: 0.3533632457256317\n",
      "2023-05-06 07:12:24,901 (2306368053:32) WARNING: epoch_index: 2, batch_index: 177, ema_loss: 0.35631972551345825\n",
      "2023-05-06 07:12:25,285 (2306368053:32) WARNING: epoch_index: 2, batch_index: 197, ema_loss: 0.37736594676971436\n",
      "2023-05-06 07:12:25,664 (2306368053:32) WARNING: epoch_index: 2, batch_index: 217, ema_loss: 0.3753945827484131\n",
      "2023-05-06 07:12:25,691 (2306368053:44) WARNING: checkpoint has been saved in ./lstm_admw/step_1000.pt\n",
      "2023-05-06 07:12:26,072 (2306368053:32) WARNING: epoch_index: 2, batch_index: 237, ema_loss: 0.341805100440979\n",
      "2023-05-06 07:12:26,460 (2306368053:32) WARNING: epoch_index: 2, batch_index: 257, ema_loss: 0.3630399703979492\n",
      "2023-05-06 07:12:26,830 (2306368053:32) WARNING: epoch_index: 2, batch_index: 277, ema_loss: 0.3374451696872711\n",
      "2023-05-06 07:12:27,193 (2306368053:32) WARNING: epoch_index: 2, batch_index: 297, ema_loss: 0.36583411693573\n",
      "2023-05-06 07:12:27,569 (2306368053:32) WARNING: epoch_index: 2, batch_index: 317, ema_loss: 0.33840370178222656\n",
      "2023-05-06 07:12:27,952 (2306368053:32) WARNING: epoch_index: 2, batch_index: 337, ema_loss: 0.3197793662548065\n",
      "2023-05-06 07:12:28,313 (2306368053:32) WARNING: epoch_index: 2, batch_index: 357, ema_loss: 0.3222276568412781\n",
      "2023-05-06 07:12:28,694 (2306368053:32) WARNING: epoch_index: 2, batch_index: 377, ema_loss: 0.33338668942451477\n",
      "2023-05-06 07:12:28,937 (2306368053:63) WARNING: time cost is: 14.463117599487305\n"
     ]
    },
    {
     "name": "stderr",
     "output_type": "stream",
     "text": [
      "epoch:  30%|███       | 3/10 [00:43<01:41, 14.52s/it]"
     ]
    },
    {
     "name": "stdout",
     "output_type": "stream",
     "text": [
      "2023-05-06 07:12:29,083 (2306368053:32) WARNING: epoch_index: 3, batch_index: 6, ema_loss: 0.19414974749088287\n",
      "2023-05-06 07:12:29,465 (2306368053:32) WARNING: epoch_index: 3, batch_index: 26, ema_loss: 0.31438279151916504\n",
      "2023-05-06 07:12:29,466 (2306368053:47) WARNING: start to do evaluation...\n",
      "2023-05-06 07:12:36,556 (2306368053:60) WARNING: ema_eval_loss: 0.5490631461143494, eval_acc: 0.85616\n",
      "2023-05-06 07:12:36,945 (2306368053:32) WARNING: epoch_index: 3, batch_index: 46, ema_loss: 0.3024500608444214\n",
      "2023-05-06 07:12:37,322 (2306368053:32) WARNING: epoch_index: 3, batch_index: 66, ema_loss: 0.31376615166664124\n",
      "2023-05-06 07:12:37,696 (2306368053:32) WARNING: epoch_index: 3, batch_index: 86, ema_loss: 0.30777624249458313\n",
      "2023-05-06 07:12:38,068 (2306368053:32) WARNING: epoch_index: 3, batch_index: 106, ema_loss: 0.3300319015979767\n",
      "2023-05-06 07:12:38,447 (2306368053:32) WARNING: epoch_index: 3, batch_index: 126, ema_loss: 0.3058467507362366\n",
      "2023-05-06 07:12:38,811 (2306368053:32) WARNING: epoch_index: 3, batch_index: 146, ema_loss: 0.30252036452293396\n",
      "2023-05-06 07:12:39,202 (2306368053:32) WARNING: epoch_index: 3, batch_index: 166, ema_loss: 0.29117220640182495\n",
      "2023-05-06 07:12:39,582 (2306368053:32) WARNING: epoch_index: 3, batch_index: 186, ema_loss: 0.3060675263404846\n",
      "2023-05-06 07:12:39,955 (2306368053:32) WARNING: epoch_index: 3, batch_index: 206, ema_loss: 0.3024899363517761\n",
      "2023-05-06 07:12:40,331 (2306368053:32) WARNING: epoch_index: 3, batch_index: 226, ema_loss: 0.3339855372905731\n",
      "2023-05-06 07:12:40,702 (2306368053:32) WARNING: epoch_index: 3, batch_index: 246, ema_loss: 0.3064644932746887\n",
      "2023-05-06 07:12:41,093 (2306368053:32) WARNING: epoch_index: 3, batch_index: 266, ema_loss: 0.28608229756355286\n",
      "2023-05-06 07:12:41,453 (2306368053:32) WARNING: epoch_index: 3, batch_index: 286, ema_loss: 0.3042706549167633\n",
      "2023-05-06 07:12:41,829 (2306368053:32) WARNING: epoch_index: 3, batch_index: 306, ema_loss: 0.2767764627933502\n",
      "2023-05-06 07:12:42,191 (2306368053:32) WARNING: epoch_index: 3, batch_index: 326, ema_loss: 0.33072373270988464\n",
      "2023-05-06 07:12:42,221 (2306368053:44) WARNING: checkpoint has been saved in ./lstm_admw/step_1500.pt\n",
      "2023-05-06 07:12:42,222 (2306368053:47) WARNING: start to do evaluation...\n",
      "2023-05-06 07:12:49,284 (2306368053:60) WARNING: ema_eval_loss: 0.4880742132663727, eval_acc: 0.85256\n",
      "2023-05-06 07:12:49,664 (2306368053:32) WARNING: epoch_index: 3, batch_index: 346, ema_loss: 0.3237897753715515\n",
      "2023-05-06 07:12:50,046 (2306368053:32) WARNING: epoch_index: 3, batch_index: 366, ema_loss: 0.2979421019554138\n",
      "2023-05-06 07:12:50,413 (2306368053:32) WARNING: epoch_index: 3, batch_index: 386, ema_loss: 0.3091884255409241\n",
      "2023-05-06 07:12:50,479 (2306368053:63) WARNING: time cost is: 21.530431747436523\n"
     ]
    },
    {
     "name": "stderr",
     "output_type": "stream",
     "text": [
      "epoch:  40%|████      | 4/10 [01:05<01:43, 17.29s/it]"
     ]
    },
    {
     "name": "stdout",
     "output_type": "stream",
     "text": [
      "2023-05-06 07:12:50,804 (2306368053:32) WARNING: epoch_index: 4, batch_index: 15, ema_loss: 0.22643443942070007\n",
      "2023-05-06 07:12:51,188 (2306368053:32) WARNING: epoch_index: 4, batch_index: 35, ema_loss: 0.2869008779525757\n",
      "2023-05-06 07:12:51,573 (2306368053:32) WARNING: epoch_index: 4, batch_index: 55, ema_loss: 0.2888714373111725\n",
      "2023-05-06 07:12:51,938 (2306368053:32) WARNING: epoch_index: 4, batch_index: 75, ema_loss: 0.28848761320114136\n",
      "2023-05-06 07:12:52,309 (2306368053:32) WARNING: epoch_index: 4, batch_index: 95, ema_loss: 0.2731996178627014\n",
      "2023-05-06 07:12:52,675 (2306368053:32) WARNING: epoch_index: 4, batch_index: 115, ema_loss: 0.26780807971954346\n",
      "2023-05-06 07:12:53,044 (2306368053:32) WARNING: epoch_index: 4, batch_index: 135, ema_loss: 0.3244403004646301\n",
      "2023-05-06 07:12:53,412 (2306368053:32) WARNING: epoch_index: 4, batch_index: 155, ema_loss: 0.2602660357952118\n",
      "2023-05-06 07:12:53,793 (2306368053:32) WARNING: epoch_index: 4, batch_index: 175, ema_loss: 0.2535286843776703\n",
      "2023-05-06 07:12:54,166 (2306368053:32) WARNING: epoch_index: 4, batch_index: 195, ema_loss: 0.26053303480148315\n",
      "2023-05-06 07:12:54,535 (2306368053:32) WARNING: epoch_index: 4, batch_index: 215, ema_loss: 0.260591983795166\n",
      "2023-05-06 07:12:54,915 (2306368053:32) WARNING: epoch_index: 4, batch_index: 235, ema_loss: 0.28892782330513\n",
      "2023-05-06 07:12:54,915 (2306368053:47) WARNING: start to do evaluation...\n",
      "2023-05-06 07:13:01,991 (2306368053:60) WARNING: ema_eval_loss: 0.49244239926338196, eval_acc: 0.8706\n",
      "2023-05-06 07:13:02,372 (2306368053:32) WARNING: epoch_index: 4, batch_index: 255, ema_loss: 0.2922036945819855\n",
      "2023-05-06 07:13:02,742 (2306368053:32) WARNING: epoch_index: 4, batch_index: 275, ema_loss: 0.25955867767333984\n",
      "2023-05-06 07:13:03,102 (2306368053:32) WARNING: epoch_index: 4, batch_index: 295, ema_loss: 0.29029884934425354\n",
      "2023-05-06 07:13:03,478 (2306368053:32) WARNING: epoch_index: 4, batch_index: 315, ema_loss: 0.3012120723724365\n",
      "2023-05-06 07:13:03,839 (2306368053:32) WARNING: epoch_index: 4, batch_index: 335, ema_loss: 0.2605516314506531\n",
      "2023-05-06 07:13:04,225 (2306368053:32) WARNING: epoch_index: 4, batch_index: 355, ema_loss: 0.2742101848125458\n",
      "2023-05-06 07:13:04,604 (2306368053:32) WARNING: epoch_index: 4, batch_index: 375, ema_loss: 0.24941499531269073\n",
      "2023-05-06 07:13:04,890 (2306368053:63) WARNING: time cost is: 14.399651288986206\n"
     ]
    },
    {
     "name": "stderr",
     "output_type": "stream",
     "text": [
      "epoch:  50%|█████     | 5/10 [01:19<01:21, 16.25s/it]"
     ]
    },
    {
     "name": "stdout",
     "output_type": "stream",
     "text": [
      "2023-05-06 07:13:04,998 (2306368053:32) WARNING: epoch_index: 5, batch_index: 4, ema_loss: 0.10044004023075104\n",
      "2023-05-06 07:13:05,376 (2306368053:32) WARNING: epoch_index: 5, batch_index: 24, ema_loss: 0.23859837651252747\n",
      "2023-05-06 07:13:05,754 (2306368053:32) WARNING: epoch_index: 5, batch_index: 44, ema_loss: 0.2612583339214325\n",
      "2023-05-06 07:13:05,781 (2306368053:44) WARNING: checkpoint has been saved in ./lstm_admw/step_2000.pt\n",
      "2023-05-06 07:13:06,158 (2306368053:32) WARNING: epoch_index: 5, batch_index: 64, ema_loss: 0.24583587050437927\n",
      "2023-05-06 07:13:06,530 (2306368053:32) WARNING: epoch_index: 5, batch_index: 84, ema_loss: 0.2548949718475342\n",
      "2023-05-06 07:13:06,903 (2306368053:32) WARNING: epoch_index: 5, batch_index: 104, ema_loss: 0.28470754623413086\n",
      "2023-05-06 07:13:07,285 (2306368053:32) WARNING: epoch_index: 5, batch_index: 124, ema_loss: 0.2552551329135895\n",
      "2023-05-06 07:13:07,671 (2306368053:32) WARNING: epoch_index: 5, batch_index: 144, ema_loss: 0.25446808338165283\n",
      "2023-05-06 07:13:07,672 (2306368053:47) WARNING: start to do evaluation...\n",
      "2023-05-06 07:13:14,705 (2306368053:60) WARNING: ema_eval_loss: 0.3421452045440674, eval_acc: 0.8768\n",
      "2023-05-06 07:13:15,089 (2306368053:32) WARNING: epoch_index: 5, batch_index: 164, ema_loss: 0.25250503420829773\n",
      "2023-05-06 07:13:15,469 (2306368053:32) WARNING: epoch_index: 5, batch_index: 184, ema_loss: 0.25543850660324097\n",
      "2023-05-06 07:13:15,850 (2306368053:32) WARNING: epoch_index: 5, batch_index: 204, ema_loss: 0.25987115502357483\n",
      "2023-05-06 07:13:16,221 (2306368053:32) WARNING: epoch_index: 5, batch_index: 224, ema_loss: 0.23895567655563354\n",
      "2023-05-06 07:13:16,594 (2306368053:32) WARNING: epoch_index: 5, batch_index: 244, ema_loss: 0.2495824247598648\n",
      "2023-05-06 07:13:16,968 (2306368053:32) WARNING: epoch_index: 5, batch_index: 264, ema_loss: 0.2957725524902344\n",
      "2023-05-06 07:13:17,335 (2306368053:32) WARNING: epoch_index: 5, batch_index: 284, ema_loss: 0.2757987678050995\n",
      "2023-05-06 07:13:17,696 (2306368053:32) WARNING: epoch_index: 5, batch_index: 304, ema_loss: 0.27046746015548706\n",
      "2023-05-06 07:13:18,064 (2306368053:32) WARNING: epoch_index: 5, batch_index: 324, ema_loss: 0.24219079315662384\n",
      "2023-05-06 07:13:18,452 (2306368053:32) WARNING: epoch_index: 5, batch_index: 344, ema_loss: 0.2546589970588684\n",
      "2023-05-06 07:13:18,831 (2306368053:32) WARNING: epoch_index: 5, batch_index: 364, ema_loss: 0.24045294523239136\n",
      "2023-05-06 07:13:19,201 (2306368053:32) WARNING: epoch_index: 5, batch_index: 384, ema_loss: 0.2255178540945053\n",
      "2023-05-06 07:13:19,318 (2306368053:63) WARNING: time cost is: 14.417798042297363\n"
     ]
    },
    {
     "name": "stderr",
     "output_type": "stream",
     "text": [
      "epoch:  60%|██████    | 6/10 [01:34<01:02, 15.63s/it]"
     ]
    },
    {
     "name": "stdout",
     "output_type": "stream",
     "text": [
      "2023-05-06 07:13:19,605 (2306368053:32) WARNING: epoch_index: 6, batch_index: 13, ema_loss: 0.21123886108398438\n",
      "2023-05-06 07:13:19,974 (2306368053:32) WARNING: epoch_index: 6, batch_index: 33, ema_loss: 0.22924001514911652\n",
      "2023-05-06 07:13:20,334 (2306368053:32) WARNING: epoch_index: 6, batch_index: 53, ema_loss: 0.2118418961763382\n",
      "2023-05-06 07:13:20,335 (2306368053:47) WARNING: start to do evaluation...\n",
      "2023-05-06 07:13:27,430 (2306368053:60) WARNING: ema_eval_loss: 0.5205088257789612, eval_acc: 0.8756\n",
      "2023-05-06 07:13:27,799 (2306368053:32) WARNING: epoch_index: 6, batch_index: 73, ema_loss: 0.23816315829753876\n",
      "2023-05-06 07:13:28,183 (2306368053:32) WARNING: epoch_index: 6, batch_index: 93, ema_loss: 0.2590261697769165\n",
      "2023-05-06 07:13:28,556 (2306368053:32) WARNING: epoch_index: 6, batch_index: 113, ema_loss: 0.2760339379310608\n",
      "2023-05-06 07:13:28,950 (2306368053:32) WARNING: epoch_index: 6, batch_index: 133, ema_loss: 0.2533719539642334\n",
      "2023-05-06 07:13:29,324 (2306368053:32) WARNING: epoch_index: 6, batch_index: 153, ema_loss: 0.22910349071025848\n",
      "2023-05-06 07:13:29,352 (2306368053:44) WARNING: checkpoint has been saved in ./lstm_admw/step_2500.pt\n",
      "2023-05-06 07:13:29,723 (2306368053:32) WARNING: epoch_index: 6, batch_index: 173, ema_loss: 0.2761876881122589\n",
      "2023-05-06 07:13:30,110 (2306368053:32) WARNING: epoch_index: 6, batch_index: 193, ema_loss: 0.22261539101600647\n",
      "2023-05-06 07:13:30,491 (2306368053:32) WARNING: epoch_index: 6, batch_index: 213, ema_loss: 0.269520103931427\n",
      "2023-05-06 07:13:30,865 (2306368053:32) WARNING: epoch_index: 6, batch_index: 233, ema_loss: 0.23355093598365784\n",
      "2023-05-06 07:13:31,238 (2306368053:32) WARNING: epoch_index: 6, batch_index: 253, ema_loss: 0.20538899302482605\n",
      "2023-05-06 07:13:31,624 (2306368053:32) WARNING: epoch_index: 6, batch_index: 273, ema_loss: 0.2504734694957733\n",
      "2023-05-06 07:13:32,002 (2306368053:32) WARNING: epoch_index: 6, batch_index: 293, ema_loss: 0.23626689612865448\n",
      "2023-05-06 07:13:32,359 (2306368053:32) WARNING: epoch_index: 6, batch_index: 313, ema_loss: 0.23238985240459442\n",
      "2023-05-06 07:13:32,734 (2306368053:32) WARNING: epoch_index: 6, batch_index: 333, ema_loss: 0.25040894746780396\n",
      "2023-05-06 07:13:33,113 (2306368053:32) WARNING: epoch_index: 6, batch_index: 353, ema_loss: 0.2307066023349762\n",
      "2023-05-06 07:13:33,114 (2306368053:47) WARNING: start to do evaluation...\n",
      "2023-05-06 07:13:40,123 (2306368053:60) WARNING: ema_eval_loss: 0.42078697681427, eval_acc: 0.8794\n",
      "2023-05-06 07:13:40,511 (2306368053:32) WARNING: epoch_index: 6, batch_index: 373, ema_loss: 0.2114357203245163\n",
      "2023-05-06 07:13:40,816 (2306368053:63) WARNING: time cost is: 21.488556385040283\n"
     ]
    },
    {
     "name": "stderr",
     "output_type": "stream",
     "text": [
      "epoch:  70%|███████   | 7/10 [01:55<00:52, 17.55s/it]"
     ]
    },
    {
     "name": "stdout",
     "output_type": "stream",
     "text": [
      "2023-05-06 07:13:40,878 (2306368053:32) WARNING: epoch_index: 7, batch_index: 2, ema_loss: 0.06633200496435165\n",
      "2023-05-06 07:13:41,259 (2306368053:32) WARNING: epoch_index: 7, batch_index: 22, ema_loss: 0.20288018882274628\n",
      "2023-05-06 07:13:41,648 (2306368053:32) WARNING: epoch_index: 7, batch_index: 42, ema_loss: 0.21972253918647766\n",
      "2023-05-06 07:13:42,015 (2306368053:32) WARNING: epoch_index: 7, batch_index: 62, ema_loss: 0.2185298502445221\n",
      "2023-05-06 07:13:42,395 (2306368053:32) WARNING: epoch_index: 7, batch_index: 82, ema_loss: 0.22881349921226501\n",
      "2023-05-06 07:13:42,767 (2306368053:32) WARNING: epoch_index: 7, batch_index: 102, ema_loss: 0.22139903903007507\n",
      "2023-05-06 07:13:43,131 (2306368053:32) WARNING: epoch_index: 7, batch_index: 122, ema_loss: 0.22206836938858032\n",
      "2023-05-06 07:13:43,507 (2306368053:32) WARNING: epoch_index: 7, batch_index: 142, ema_loss: 0.20011520385742188\n",
      "2023-05-06 07:13:43,901 (2306368053:32) WARNING: epoch_index: 7, batch_index: 162, ema_loss: 0.20900769531726837\n",
      "2023-05-06 07:13:44,288 (2306368053:32) WARNING: epoch_index: 7, batch_index: 182, ema_loss: 0.1939767450094223\n",
      "2023-05-06 07:13:44,660 (2306368053:32) WARNING: epoch_index: 7, batch_index: 202, ema_loss: 0.1869920939207077\n",
      "2023-05-06 07:13:45,041 (2306368053:32) WARNING: epoch_index: 7, batch_index: 222, ema_loss: 0.23231598734855652\n",
      "2023-05-06 07:13:45,399 (2306368053:32) WARNING: epoch_index: 7, batch_index: 242, ema_loss: 0.20672623813152313\n",
      "2023-05-06 07:13:45,760 (2306368053:32) WARNING: epoch_index: 7, batch_index: 262, ema_loss: 0.21407370269298553\n",
      "2023-05-06 07:13:45,787 (2306368053:44) WARNING: checkpoint has been saved in ./lstm_admw/step_3000.pt\n",
      "2023-05-06 07:13:45,788 (2306368053:47) WARNING: start to do evaluation...\n",
      "2023-05-06 07:13:52,811 (2306368053:60) WARNING: ema_eval_loss: 0.5173465609550476, eval_acc: 0.87996\n",
      "2023-05-06 07:13:53,180 (2306368053:32) WARNING: epoch_index: 7, batch_index: 282, ema_loss: 0.22694134712219238\n",
      "2023-05-06 07:13:53,543 (2306368053:32) WARNING: epoch_index: 7, batch_index: 302, ema_loss: 0.21800926327705383\n",
      "2023-05-06 07:13:53,918 (2306368053:32) WARNING: epoch_index: 7, batch_index: 322, ema_loss: 0.21073956787586212\n",
      "2023-05-06 07:13:54,302 (2306368053:32) WARNING: epoch_index: 7, batch_index: 342, ema_loss: 0.20937247574329376\n",
      "2023-05-06 07:13:54,688 (2306368053:32) WARNING: epoch_index: 7, batch_index: 362, ema_loss: 0.19779181480407715\n",
      "2023-05-06 07:13:55,059 (2306368053:32) WARNING: epoch_index: 7, batch_index: 382, ema_loss: 0.20902036130428314\n",
      "2023-05-06 07:13:55,209 (2306368053:63) WARNING: time cost is: 14.383900880813599\n"
     ]
    },
    {
     "name": "stderr",
     "output_type": "stream",
     "text": [
      "epoch:  80%|████████  | 8/10 [02:09<00:33, 16.55s/it]"
     ]
    },
    {
     "name": "stdout",
     "output_type": "stream",
     "text": [
      "2023-05-06 07:13:55,444 (2306368053:32) WARNING: epoch_index: 8, batch_index: 11, ema_loss: 0.14532990753650665\n",
      "2023-05-06 07:13:55,825 (2306368053:32) WARNING: epoch_index: 8, batch_index: 31, ema_loss: 0.17528501152992249\n",
      "2023-05-06 07:13:56,212 (2306368053:32) WARNING: epoch_index: 8, batch_index: 51, ema_loss: 0.20065298676490784\n",
      "2023-05-06 07:13:56,588 (2306368053:32) WARNING: epoch_index: 8, batch_index: 71, ema_loss: 0.2040051966905594\n",
      "2023-05-06 07:13:56,966 (2306368053:32) WARNING: epoch_index: 8, batch_index: 91, ema_loss: 0.20196355879306793\n",
      "2023-05-06 07:13:57,356 (2306368053:32) WARNING: epoch_index: 8, batch_index: 111, ema_loss: 0.22524204850196838\n",
      "2023-05-06 07:13:57,732 (2306368053:32) WARNING: epoch_index: 8, batch_index: 131, ema_loss: 0.19899876415729523\n",
      "2023-05-06 07:13:58,116 (2306368053:32) WARNING: epoch_index: 8, batch_index: 151, ema_loss: 0.2154841423034668\n",
      "2023-05-06 07:13:58,475 (2306368053:32) WARNING: epoch_index: 8, batch_index: 171, ema_loss: 0.20089808106422424\n",
      "2023-05-06 07:13:58,476 (2306368053:47) WARNING: start to do evaluation...\n",
      "2023-05-06 07:14:05,510 (2306368053:60) WARNING: ema_eval_loss: 0.42093950510025024, eval_acc: 0.88496\n",
      "2023-05-06 07:14:05,877 (2306368053:32) WARNING: epoch_index: 8, batch_index: 191, ema_loss: 0.20697084069252014\n",
      "2023-05-06 07:14:06,253 (2306368053:32) WARNING: epoch_index: 8, batch_index: 211, ema_loss: 0.183966264128685\n",
      "2023-05-06 07:14:06,632 (2306368053:32) WARNING: epoch_index: 8, batch_index: 231, ema_loss: 0.17171920835971832\n",
      "2023-05-06 07:14:07,008 (2306368053:32) WARNING: epoch_index: 8, batch_index: 251, ema_loss: 0.1908404380083084\n",
      "2023-05-06 07:14:07,394 (2306368053:32) WARNING: epoch_index: 8, batch_index: 271, ema_loss: 0.1933898776769638\n",
      "2023-05-06 07:14:07,767 (2306368053:32) WARNING: epoch_index: 8, batch_index: 291, ema_loss: 0.20859691500663757\n",
      "2023-05-06 07:14:08,138 (2306368053:32) WARNING: epoch_index: 8, batch_index: 311, ema_loss: 0.19602464139461517\n",
      "2023-05-06 07:14:08,521 (2306368053:32) WARNING: epoch_index: 8, batch_index: 331, ema_loss: 0.20639505982398987\n",
      "2023-05-06 07:14:08,885 (2306368053:32) WARNING: epoch_index: 8, batch_index: 351, ema_loss: 0.21521210670471191\n",
      "2023-05-06 07:14:09,272 (2306368053:32) WARNING: epoch_index: 8, batch_index: 371, ema_loss: 0.20385333895683289\n",
      "2023-05-06 07:14:09,300 (2306368053:44) WARNING: checkpoint has been saved in ./lstm_admw/step_3500.pt\n",
      "2023-05-06 07:14:09,652 (2306368053:63) WARNING: time cost is: 14.433525323867798\n"
     ]
    },
    {
     "name": "stderr",
     "output_type": "stream",
     "text": [
      "epoch:  90%|█████████ | 9/10 [02:24<00:15, 15.89s/it]"
     ]
    },
    {
     "name": "stdout",
     "output_type": "stream",
     "text": [
      "2023-05-06 07:14:09,681 (2306368053:32) WARNING: epoch_index: 9, batch_index: 0, ema_loss: 0.020937254652380943\n",
      "2023-05-06 07:14:10,048 (2306368053:32) WARNING: epoch_index: 9, batch_index: 20, ema_loss: 0.1571529507637024\n",
      "2023-05-06 07:14:10,421 (2306368053:32) WARNING: epoch_index: 9, batch_index: 40, ema_loss: 0.21426482498645782\n",
      "2023-05-06 07:14:10,805 (2306368053:32) WARNING: epoch_index: 9, batch_index: 60, ema_loss: 0.19307458400726318\n",
      "2023-05-06 07:14:11,199 (2306368053:32) WARNING: epoch_index: 9, batch_index: 80, ema_loss: 0.18596886098384857\n",
      "2023-05-06 07:14:11,200 (2306368053:47) WARNING: start to do evaluation...\n",
      "2023-05-06 07:14:18,333 (2306368053:60) WARNING: ema_eval_loss: 0.3897392451763153, eval_acc: 0.88324\n",
      "2023-05-06 07:14:18,731 (2306368053:32) WARNING: epoch_index: 9, batch_index: 100, ema_loss: 0.1673744171857834\n",
      "2023-05-06 07:14:19,102 (2306368053:32) WARNING: epoch_index: 9, batch_index: 120, ema_loss: 0.1648043692111969\n",
      "2023-05-06 07:14:19,489 (2306368053:32) WARNING: epoch_index: 9, batch_index: 140, ema_loss: 0.16945722699165344\n",
      "2023-05-06 07:14:19,860 (2306368053:32) WARNING: epoch_index: 9, batch_index: 160, ema_loss: 0.1798010766506195\n",
      "2023-05-06 07:14:20,234 (2306368053:32) WARNING: epoch_index: 9, batch_index: 180, ema_loss: 0.18858753144741058\n",
      "2023-05-06 07:14:20,611 (2306368053:32) WARNING: epoch_index: 9, batch_index: 200, ema_loss: 0.19101972877979279\n",
      "2023-05-06 07:14:20,983 (2306368053:32) WARNING: epoch_index: 9, batch_index: 220, ema_loss: 0.18352298438549042\n",
      "2023-05-06 07:14:21,358 (2306368053:32) WARNING: epoch_index: 9, batch_index: 240, ema_loss: 0.19244970381259918\n",
      "2023-05-06 07:14:21,737 (2306368053:32) WARNING: epoch_index: 9, batch_index: 260, ema_loss: 0.19393831491470337\n",
      "2023-05-06 07:14:22,117 (2306368053:32) WARNING: epoch_index: 9, batch_index: 280, ema_loss: 0.17844326794147491\n",
      "2023-05-06 07:14:22,496 (2306368053:32) WARNING: epoch_index: 9, batch_index: 300, ema_loss: 0.21167103946208954\n",
      "2023-05-06 07:14:22,877 (2306368053:32) WARNING: epoch_index: 9, batch_index: 320, ema_loss: 0.17118091881275177\n",
      "2023-05-06 07:14:23,271 (2306368053:32) WARNING: epoch_index: 9, batch_index: 340, ema_loss: 0.1702161282300949\n",
      "2023-05-06 07:14:23,635 (2306368053:32) WARNING: epoch_index: 9, batch_index: 360, ema_loss: 0.20169572532176971\n",
      "2023-05-06 07:14:24,002 (2306368053:32) WARNING: epoch_index: 9, batch_index: 380, ema_loss: 0.18565385043621063\n",
      "2023-05-06 07:14:24,002 (2306368053:47) WARNING: start to do evaluation...\n",
      "2023-05-06 07:14:31,034 (2306368053:60) WARNING: ema_eval_loss: 0.4809323847293854, eval_acc: 0.88444\n",
      "2023-05-06 07:14:31,214 (2306368053:63) WARNING: time cost is: 21.55260467529297\n"
     ]
    },
    {
     "name": "stderr",
     "output_type": "stream",
     "text": [
      "epoch: 100%|██████████| 10/10 [02:45<00:00, 16.59s/it]\n"
     ]
    }
   ],
   "source": [
    "optimizer = torch.optim.AdamW(model.parameters(), lr=1e-4)\n",
    "train(train_data_loader, eval_data_loader, model, optimizer, num_epoch=10, log_step_interval=20, \\\n",
    "      save_step_interval=500, eval_step_interval=300, save_path=\"./gcnn_admw\", resume=resume)"
   ]
  },
  {
   "cell_type": "code",
   "execution_count": 8,
   "id": "ea9dff12-c1b5-4c12-902d-1d195607c194",
   "metadata": {},
   "outputs": [
    {
     "name": "stderr",
     "output_type": "stream",
     "text": [
      "epoch:   0%|          | 0/10 [00:00<?, ?it/s]"
     ]
    },
    {
     "name": "stdout",
     "output_type": "stream",
     "text": [
      "2023-05-06 07:14:31,733 (2306368053:32) WARNING: epoch_index: 0, batch_index: 19, ema_loss: 0.1554066389799118\n",
      "2023-05-06 07:14:32,103 (2306368053:32) WARNING: epoch_index: 0, batch_index: 39, ema_loss: 0.1625068336725235\n",
      "2023-05-06 07:14:32,468 (2306368053:32) WARNING: epoch_index: 0, batch_index: 59, ema_loss: 0.15402330458164215\n",
      "2023-05-06 07:14:32,834 (2306368053:32) WARNING: epoch_index: 0, batch_index: 79, ema_loss: 0.146818608045578\n",
      "2023-05-06 07:14:33,203 (2306368053:32) WARNING: epoch_index: 0, batch_index: 99, ema_loss: 0.1559552401304245\n",
      "2023-05-06 07:14:33,584 (2306368053:32) WARNING: epoch_index: 0, batch_index: 119, ema_loss: 0.16689442098140717\n",
      "2023-05-06 07:14:33,955 (2306368053:32) WARNING: epoch_index: 0, batch_index: 139, ema_loss: 0.15291233360767365\n",
      "2023-05-06 07:14:34,318 (2306368053:32) WARNING: epoch_index: 0, batch_index: 159, ema_loss: 0.16074633598327637\n",
      "2023-05-06 07:14:34,679 (2306368053:32) WARNING: epoch_index: 0, batch_index: 179, ema_loss: 0.14598271250724792\n",
      "2023-05-06 07:14:35,054 (2306368053:32) WARNING: epoch_index: 0, batch_index: 199, ema_loss: 0.16939060389995575\n",
      "2023-05-06 07:14:35,431 (2306368053:32) WARNING: epoch_index: 0, batch_index: 219, ema_loss: 0.14620299637317657\n",
      "2023-05-06 07:14:35,786 (2306368053:32) WARNING: epoch_index: 0, batch_index: 239, ema_loss: 0.14004679024219513\n",
      "2023-05-06 07:14:36,158 (2306368053:32) WARNING: epoch_index: 0, batch_index: 259, ema_loss: 0.15935400128364563\n",
      "2023-05-06 07:14:36,523 (2306368053:32) WARNING: epoch_index: 0, batch_index: 279, ema_loss: 0.16231663525104523\n",
      "2023-05-06 07:14:36,904 (2306368053:32) WARNING: epoch_index: 0, batch_index: 299, ema_loss: 0.16959340870380402\n",
      "2023-05-06 07:14:36,905 (2306368053:47) WARNING: start to do evaluation...\n",
      "2023-05-06 07:14:43,843 (2306368053:60) WARNING: ema_eval_loss: 0.6146599650382996, eval_acc: 0.8846\n",
      "2023-05-06 07:14:44,223 (2306368053:32) WARNING: epoch_index: 0, batch_index: 319, ema_loss: 0.156150221824646\n",
      "2023-05-06 07:14:44,587 (2306368053:32) WARNING: epoch_index: 0, batch_index: 339, ema_loss: 0.17999382317066193\n",
      "2023-05-06 07:14:44,933 (2306368053:32) WARNING: epoch_index: 0, batch_index: 359, ema_loss: 0.1666295826435089\n",
      "2023-05-06 07:14:45,303 (2306368053:32) WARNING: epoch_index: 0, batch_index: 379, ema_loss: 0.16257739067077637\n",
      "2023-05-06 07:14:45,488 (2306368053:63) WARNING: time cost is: 14.119040966033936\n"
     ]
    },
    {
     "name": "stderr",
     "output_type": "stream",
     "text": [
      "epoch:  10%|█         | 1/10 [00:14<02:07, 14.12s/it]"
     ]
    },
    {
     "name": "stdout",
     "output_type": "stream",
     "text": [
      "2023-05-06 07:14:45,667 (2306368053:32) WARNING: epoch_index: 1, batch_index: 8, ema_loss: 0.09246909618377686\n",
      "2023-05-06 07:14:46,018 (2306368053:32) WARNING: epoch_index: 1, batch_index: 28, ema_loss: 0.15972937643527985\n",
      "2023-05-06 07:14:46,361 (2306368053:32) WARNING: epoch_index: 1, batch_index: 48, ema_loss: 0.14995746314525604\n",
      "2023-05-06 07:14:46,711 (2306368053:32) WARNING: epoch_index: 1, batch_index: 68, ema_loss: 0.16575682163238525\n",
      "2023-05-06 07:14:47,065 (2306368053:32) WARNING: epoch_index: 1, batch_index: 88, ema_loss: 0.15892362594604492\n",
      "2023-05-06 07:14:47,433 (2306368053:32) WARNING: epoch_index: 1, batch_index: 108, ema_loss: 0.1523325890302658\n",
      "2023-05-06 07:14:47,447 (2306368053:44) WARNING: checkpoint has been saved in ./lstm_sgd/step_500.pt\n",
      "2023-05-06 07:14:47,806 (2306368053:32) WARNING: epoch_index: 1, batch_index: 128, ema_loss: 0.15043729543685913\n",
      "2023-05-06 07:14:48,179 (2306368053:32) WARNING: epoch_index: 1, batch_index: 148, ema_loss: 0.14687307178974152\n",
      "2023-05-06 07:14:48,537 (2306368053:32) WARNING: epoch_index: 1, batch_index: 168, ema_loss: 0.1477796584367752\n",
      "2023-05-06 07:14:48,896 (2306368053:32) WARNING: epoch_index: 1, batch_index: 188, ema_loss: 0.19200588762760162\n",
      "2023-05-06 07:14:49,265 (2306368053:32) WARNING: epoch_index: 1, batch_index: 208, ema_loss: 0.15622836351394653\n",
      "2023-05-06 07:14:49,265 (2306368053:47) WARNING: start to do evaluation...\n",
      "2023-05-06 07:14:56,285 (2306368053:60) WARNING: ema_eval_loss: 0.6162459850311279, eval_acc: 0.88472\n",
      "2023-05-06 07:14:56,661 (2306368053:32) WARNING: epoch_index: 1, batch_index: 228, ema_loss: 0.1833847016096115\n",
      "2023-05-06 07:14:57,038 (2306368053:32) WARNING: epoch_index: 1, batch_index: 248, ema_loss: 0.17711076140403748\n",
      "2023-05-06 07:14:57,400 (2306368053:32) WARNING: epoch_index: 1, batch_index: 268, ema_loss: 0.1464184820652008\n",
      "2023-05-06 07:14:57,747 (2306368053:32) WARNING: epoch_index: 1, batch_index: 288, ema_loss: 0.18576841056346893\n",
      "2023-05-06 07:14:58,105 (2306368053:32) WARNING: epoch_index: 1, batch_index: 308, ema_loss: 0.15924787521362305\n",
      "2023-05-06 07:14:58,462 (2306368053:32) WARNING: epoch_index: 1, batch_index: 328, ema_loss: 0.17059756815433502\n",
      "2023-05-06 07:14:58,818 (2306368053:32) WARNING: epoch_index: 1, batch_index: 348, ema_loss: 0.1639942079782486\n",
      "2023-05-06 07:14:59,179 (2306368053:32) WARNING: epoch_index: 1, batch_index: 368, ema_loss: 0.1795322149991989\n",
      "2023-05-06 07:14:59,529 (2306368053:32) WARNING: epoch_index: 1, batch_index: 388, ema_loss: 0.145278662443161\n",
      "2023-05-06 07:14:59,560 (2306368053:63) WARNING: time cost is: 14.062939882278442\n"
     ]
    },
    {
     "name": "stderr",
     "output_type": "stream",
     "text": [
      "epoch:  20%|██        | 2/10 [00:28<01:52, 14.09s/it]"
     ]
    },
    {
     "name": "stdout",
     "output_type": "stream",
     "text": [
      "2023-05-06 07:14:59,891 (2306368053:32) WARNING: epoch_index: 2, batch_index: 17, ema_loss: 0.12649740278720856\n",
      "2023-05-06 07:15:00,247 (2306368053:32) WARNING: epoch_index: 2, batch_index: 37, ema_loss: 0.1660872995853424\n",
      "2023-05-06 07:15:00,608 (2306368053:32) WARNING: epoch_index: 2, batch_index: 57, ema_loss: 0.1665874868631363\n",
      "2023-05-06 07:15:00,975 (2306368053:32) WARNING: epoch_index: 2, batch_index: 77, ema_loss: 0.15475456416606903\n",
      "2023-05-06 07:15:01,319 (2306368053:32) WARNING: epoch_index: 2, batch_index: 97, ema_loss: 0.16152027249336243\n",
      "2023-05-06 07:15:01,676 (2306368053:32) WARNING: epoch_index: 2, batch_index: 117, ema_loss: 0.15917626023292542\n",
      "2023-05-06 07:15:01,677 (2306368053:47) WARNING: start to do evaluation...\n",
      "2023-05-06 07:15:08,726 (2306368053:60) WARNING: ema_eval_loss: 0.6113303303718567, eval_acc: 0.8848\n",
      "2023-05-06 07:15:09,090 (2306368053:32) WARNING: epoch_index: 2, batch_index: 137, ema_loss: 0.18343596160411835\n",
      "2023-05-06 07:15:09,455 (2306368053:32) WARNING: epoch_index: 2, batch_index: 157, ema_loss: 0.1757465898990631\n",
      "2023-05-06 07:15:09,817 (2306368053:32) WARNING: epoch_index: 2, batch_index: 177, ema_loss: 0.14613103866577148\n",
      "2023-05-06 07:15:10,186 (2306368053:32) WARNING: epoch_index: 2, batch_index: 197, ema_loss: 0.16750450432300568\n",
      "2023-05-06 07:15:10,552 (2306368053:32) WARNING: epoch_index: 2, batch_index: 217, ema_loss: 0.17894689738750458\n",
      "2023-05-06 07:15:10,564 (2306368053:44) WARNING: checkpoint has been saved in ./lstm_sgd/step_1000.pt\n",
      "2023-05-06 07:15:10,913 (2306368053:32) WARNING: epoch_index: 2, batch_index: 237, ema_loss: 0.17823266983032227\n",
      "2023-05-06 07:15:11,264 (2306368053:32) WARNING: epoch_index: 2, batch_index: 257, ema_loss: 0.17672017216682434\n",
      "2023-05-06 07:15:11,629 (2306368053:32) WARNING: epoch_index: 2, batch_index: 277, ema_loss: 0.16289022564888\n",
      "2023-05-06 07:15:11,987 (2306368053:32) WARNING: epoch_index: 2, batch_index: 297, ema_loss: 0.1492997705936432\n",
      "2023-05-06 07:15:12,341 (2306368053:32) WARNING: epoch_index: 2, batch_index: 317, ema_loss: 0.16739892959594727\n",
      "2023-05-06 07:15:12,737 (2306368053:32) WARNING: epoch_index: 2, batch_index: 337, ema_loss: 0.15518249571323395\n",
      "2023-05-06 07:15:13,091 (2306368053:32) WARNING: epoch_index: 2, batch_index: 357, ema_loss: 0.15271031856536865\n",
      "2023-05-06 07:15:13,452 (2306368053:32) WARNING: epoch_index: 2, batch_index: 377, ema_loss: 0.15447767078876495\n",
      "2023-05-06 07:15:13,684 (2306368053:63) WARNING: time cost is: 14.113315343856812\n"
     ]
    },
    {
     "name": "stderr",
     "output_type": "stream",
     "text": [
      "epoch:  30%|███       | 3/10 [00:42<01:38, 14.11s/it]"
     ]
    },
    {
     "name": "stdout",
     "output_type": "stream",
     "text": [
      "2023-05-06 07:15:13,808 (2306368053:32) WARNING: epoch_index: 3, batch_index: 6, ema_loss: 0.1065325140953064\n",
      "2023-05-06 07:15:14,171 (2306368053:32) WARNING: epoch_index: 3, batch_index: 26, ema_loss: 0.15512332320213318\n",
      "2023-05-06 07:15:14,172 (2306368053:47) WARNING: start to do evaluation...\n",
      "2023-05-06 07:15:21,234 (2306368053:60) WARNING: ema_eval_loss: 0.6148371696472168, eval_acc: 0.88488\n",
      "2023-05-06 07:15:21,594 (2306368053:32) WARNING: epoch_index: 3, batch_index: 46, ema_loss: 0.14930185675621033\n",
      "2023-05-06 07:15:21,970 (2306368053:32) WARNING: epoch_index: 3, batch_index: 66, ema_loss: 0.14712616801261902\n",
      "2023-05-06 07:15:22,343 (2306368053:32) WARNING: epoch_index: 3, batch_index: 86, ema_loss: 0.16105422377586365\n",
      "2023-05-06 07:15:22,707 (2306368053:32) WARNING: epoch_index: 3, batch_index: 106, ema_loss: 0.17332503199577332\n",
      "2023-05-06 07:15:23,065 (2306368053:32) WARNING: epoch_index: 3, batch_index: 126, ema_loss: 0.1614702343940735\n",
      "2023-05-06 07:15:23,414 (2306368053:32) WARNING: epoch_index: 3, batch_index: 146, ema_loss: 0.17125360667705536\n",
      "2023-05-06 07:15:23,757 (2306368053:32) WARNING: epoch_index: 3, batch_index: 166, ema_loss: 0.16519396007061005\n",
      "2023-05-06 07:15:24,117 (2306368053:32) WARNING: epoch_index: 3, batch_index: 186, ema_loss: 0.16550052165985107\n",
      "2023-05-06 07:15:24,481 (2306368053:32) WARNING: epoch_index: 3, batch_index: 206, ema_loss: 0.15664218366146088\n",
      "2023-05-06 07:15:24,845 (2306368053:32) WARNING: epoch_index: 3, batch_index: 226, ema_loss: 0.17126880586147308\n",
      "2023-05-06 07:15:25,199 (2306368053:32) WARNING: epoch_index: 3, batch_index: 246, ema_loss: 0.13469792902469635\n",
      "2023-05-06 07:15:25,564 (2306368053:32) WARNING: epoch_index: 3, batch_index: 266, ema_loss: 0.160609632730484\n",
      "2023-05-06 07:15:25,924 (2306368053:32) WARNING: epoch_index: 3, batch_index: 286, ema_loss: 0.16136988997459412\n",
      "2023-05-06 07:15:26,281 (2306368053:32) WARNING: epoch_index: 3, batch_index: 306, ema_loss: 0.16896608471870422\n",
      "2023-05-06 07:15:26,632 (2306368053:32) WARNING: epoch_index: 3, batch_index: 326, ema_loss: 0.16861268877983093\n",
      "2023-05-06 07:15:26,645 (2306368053:44) WARNING: checkpoint has been saved in ./lstm_sgd/step_1500.pt\n",
      "2023-05-06 07:15:26,646 (2306368053:47) WARNING: start to do evaluation...\n",
      "2023-05-06 07:15:33,716 (2306368053:60) WARNING: ema_eval_loss: 0.6151109933853149, eval_acc: 0.88504\n",
      "2023-05-06 07:15:34,082 (2306368053:32) WARNING: epoch_index: 3, batch_index: 346, ema_loss: 0.18579348921775818\n",
      "2023-05-06 07:15:34,437 (2306368053:32) WARNING: epoch_index: 3, batch_index: 366, ema_loss: 0.16158175468444824\n",
      "2023-05-06 07:15:34,786 (2306368053:32) WARNING: epoch_index: 3, batch_index: 386, ema_loss: 0.15765564143657684\n",
      "2023-05-06 07:15:34,848 (2306368053:63) WARNING: time cost is: 21.15296506881714\n"
     ]
    },
    {
     "name": "stderr",
     "output_type": "stream",
     "text": [
      "epoch:  40%|████      | 4/10 [01:03<01:41, 16.89s/it]"
     ]
    },
    {
     "name": "stdout",
     "output_type": "stream",
     "text": [
      "2023-05-06 07:15:35,142 (2306368053:32) WARNING: epoch_index: 4, batch_index: 15, ema_loss: 0.10905162990093231\n",
      "2023-05-06 07:15:35,503 (2306368053:32) WARNING: epoch_index: 4, batch_index: 35, ema_loss: 0.1545443832874298\n",
      "2023-05-06 07:15:35,843 (2306368053:32) WARNING: epoch_index: 4, batch_index: 55, ema_loss: 0.16633357107639313\n",
      "2023-05-06 07:15:36,207 (2306368053:32) WARNING: epoch_index: 4, batch_index: 75, ema_loss: 0.14848896861076355\n",
      "2023-05-06 07:15:36,558 (2306368053:32) WARNING: epoch_index: 4, batch_index: 95, ema_loss: 0.18493913114070892\n",
      "2023-05-06 07:15:36,908 (2306368053:32) WARNING: epoch_index: 4, batch_index: 115, ema_loss: 0.16847941279411316\n",
      "2023-05-06 07:15:37,267 (2306368053:32) WARNING: epoch_index: 4, batch_index: 135, ema_loss: 0.16029343008995056\n",
      "2023-05-06 07:15:37,623 (2306368053:32) WARNING: epoch_index: 4, batch_index: 155, ema_loss: 0.15050442516803741\n",
      "2023-05-06 07:15:37,982 (2306368053:32) WARNING: epoch_index: 4, batch_index: 175, ema_loss: 0.16938869655132294\n",
      "2023-05-06 07:15:38,348 (2306368053:32) WARNING: epoch_index: 4, batch_index: 195, ema_loss: 0.1585625410079956\n",
      "2023-05-06 07:15:38,711 (2306368053:32) WARNING: epoch_index: 4, batch_index: 215, ema_loss: 0.1534852385520935\n",
      "2023-05-06 07:15:39,077 (2306368053:32) WARNING: epoch_index: 4, batch_index: 235, ema_loss: 0.2085811346769333\n",
      "2023-05-06 07:15:39,078 (2306368053:47) WARNING: start to do evaluation...\n",
      "2023-05-06 07:15:46,111 (2306368053:60) WARNING: ema_eval_loss: 0.6154249906539917, eval_acc: 0.88512\n",
      "2023-05-06 07:15:46,468 (2306368053:32) WARNING: epoch_index: 4, batch_index: 255, ema_loss: 0.15690955519676208\n",
      "2023-05-06 07:15:46,821 (2306368053:32) WARNING: epoch_index: 4, batch_index: 275, ema_loss: 0.16210788488388062\n",
      "2023-05-06 07:15:47,194 (2306368053:32) WARNING: epoch_index: 4, batch_index: 295, ema_loss: 0.1601966768503189\n",
      "2023-05-06 07:15:47,552 (2306368053:32) WARNING: epoch_index: 4, batch_index: 315, ema_loss: 0.17722319066524506\n",
      "2023-05-06 07:15:47,919 (2306368053:32) WARNING: epoch_index: 4, batch_index: 335, ema_loss: 0.16728854179382324\n",
      "2023-05-06 07:15:48,268 (2306368053:32) WARNING: epoch_index: 4, batch_index: 355, ema_loss: 0.1614813506603241\n",
      "2023-05-06 07:15:48,615 (2306368053:32) WARNING: epoch_index: 4, batch_index: 375, ema_loss: 0.17006215453147888\n",
      "2023-05-06 07:15:48,889 (2306368053:63) WARNING: time cost is: 14.03251838684082\n"
     ]
    },
    {
     "name": "stderr",
     "output_type": "stream",
     "text": [
      "epoch:  50%|█████     | 5/10 [01:17<01:19, 15.86s/it]"
     ]
    },
    {
     "name": "stdout",
     "output_type": "stream",
     "text": [
      "2023-05-06 07:15:48,989 (2306368053:32) WARNING: epoch_index: 5, batch_index: 4, ema_loss: 0.09117195010185242\n",
      "2023-05-06 07:15:49,350 (2306368053:32) WARNING: epoch_index: 5, batch_index: 24, ema_loss: 0.1530168205499649\n",
      "2023-05-06 07:15:49,698 (2306368053:32) WARNING: epoch_index: 5, batch_index: 44, ema_loss: 0.16320739686489105\n",
      "2023-05-06 07:15:49,710 (2306368053:44) WARNING: checkpoint has been saved in ./lstm_sgd/step_2000.pt\n",
      "2023-05-06 07:15:50,082 (2306368053:32) WARNING: epoch_index: 5, batch_index: 64, ema_loss: 0.16688138246536255\n",
      "2023-05-06 07:15:50,447 (2306368053:32) WARNING: epoch_index: 5, batch_index: 84, ema_loss: 0.15582223236560822\n",
      "2023-05-06 07:15:50,798 (2306368053:32) WARNING: epoch_index: 5, batch_index: 104, ema_loss: 0.14962086081504822\n",
      "2023-05-06 07:15:51,156 (2306368053:32) WARNING: epoch_index: 5, batch_index: 124, ema_loss: 0.15914863348007202\n",
      "2023-05-06 07:15:51,503 (2306368053:32) WARNING: epoch_index: 5, batch_index: 144, ema_loss: 0.16364994645118713\n",
      "2023-05-06 07:15:51,504 (2306368053:47) WARNING: start to do evaluation...\n",
      "2023-05-06 07:15:58,559 (2306368053:60) WARNING: ema_eval_loss: 0.611595630645752, eval_acc: 0.885\n",
      "2023-05-06 07:15:58,918 (2306368053:32) WARNING: epoch_index: 5, batch_index: 164, ema_loss: 0.1581461876630783\n",
      "2023-05-06 07:15:59,273 (2306368053:32) WARNING: epoch_index: 5, batch_index: 184, ema_loss: 0.14698784053325653\n",
      "2023-05-06 07:15:59,637 (2306368053:32) WARNING: epoch_index: 5, batch_index: 204, ema_loss: 0.1543864756822586\n",
      "2023-05-06 07:16:00,009 (2306368053:32) WARNING: epoch_index: 5, batch_index: 224, ema_loss: 0.16449180245399475\n",
      "2023-05-06 07:16:00,360 (2306368053:32) WARNING: epoch_index: 5, batch_index: 244, ema_loss: 0.1621636301279068\n",
      "2023-05-06 07:16:00,716 (2306368053:32) WARNING: epoch_index: 5, batch_index: 264, ema_loss: 0.16368740797042847\n",
      "2023-05-06 07:16:01,074 (2306368053:32) WARNING: epoch_index: 5, batch_index: 284, ema_loss: 0.17704391479492188\n",
      "2023-05-06 07:16:01,433 (2306368053:32) WARNING: epoch_index: 5, batch_index: 304, ema_loss: 0.1796354055404663\n",
      "2023-05-06 07:16:01,791 (2306368053:32) WARNING: epoch_index: 5, batch_index: 324, ema_loss: 0.2042878121137619\n",
      "2023-05-06 07:16:02,154 (2306368053:32) WARNING: epoch_index: 5, batch_index: 344, ema_loss: 0.13979962468147278\n",
      "2023-05-06 07:16:02,520 (2306368053:32) WARNING: epoch_index: 5, batch_index: 364, ema_loss: 0.1498250663280487\n",
      "2023-05-06 07:16:02,882 (2306368053:32) WARNING: epoch_index: 5, batch_index: 384, ema_loss: 0.16602621972560883\n",
      "2023-05-06 07:16:02,980 (2306368053:63) WARNING: time cost is: 14.08145022392273\n"
     ]
    },
    {
     "name": "stderr",
     "output_type": "stream",
     "text": [
      "epoch:  60%|██████    | 6/10 [01:31<01:01, 15.26s/it]"
     ]
    },
    {
     "name": "stdout",
     "output_type": "stream",
     "text": [
      "2023-05-06 07:16:03,240 (2306368053:32) WARNING: epoch_index: 6, batch_index: 13, ema_loss: 0.12973792850971222\n",
      "2023-05-06 07:16:03,598 (2306368053:32) WARNING: epoch_index: 6, batch_index: 33, ema_loss: 0.1802505999803543\n",
      "2023-05-06 07:16:03,957 (2306368053:32) WARNING: epoch_index: 6, batch_index: 53, ema_loss: 0.16733604669570923\n",
      "2023-05-06 07:16:03,958 (2306368053:47) WARNING: start to do evaluation...\n",
      "2023-05-06 07:16:11,055 (2306368053:60) WARNING: ema_eval_loss: 0.6098621487617493, eval_acc: 0.88516\n",
      "2023-05-06 07:16:11,436 (2306368053:32) WARNING: epoch_index: 6, batch_index: 73, ema_loss: 0.14814899861812592\n",
      "2023-05-06 07:16:11,794 (2306368053:32) WARNING: epoch_index: 6, batch_index: 93, ema_loss: 0.15661366283893585\n",
      "2023-05-06 07:16:12,153 (2306368053:32) WARNING: epoch_index: 6, batch_index: 113, ema_loss: 0.15633514523506165\n",
      "2023-05-06 07:16:12,545 (2306368053:32) WARNING: epoch_index: 6, batch_index: 133, ema_loss: 0.15698744356632233\n",
      "2023-05-06 07:16:12,902 (2306368053:32) WARNING: epoch_index: 6, batch_index: 153, ema_loss: 0.16228535771369934\n",
      "2023-05-06 07:16:12,916 (2306368053:44) WARNING: checkpoint has been saved in ./lstm_sgd/step_2500.pt\n",
      "2023-05-06 07:16:13,293 (2306368053:32) WARNING: epoch_index: 6, batch_index: 173, ema_loss: 0.15640808641910553\n",
      "2023-05-06 07:16:13,656 (2306368053:32) WARNING: epoch_index: 6, batch_index: 193, ema_loss: 0.1414710283279419\n",
      "2023-05-06 07:16:14,000 (2306368053:32) WARNING: epoch_index: 6, batch_index: 213, ema_loss: 0.16524918377399445\n",
      "2023-05-06 07:16:14,357 (2306368053:32) WARNING: epoch_index: 6, batch_index: 233, ema_loss: 0.26885920763015747\n",
      "2023-05-06 07:16:14,728 (2306368053:32) WARNING: epoch_index: 6, batch_index: 253, ema_loss: 0.1784466654062271\n",
      "2023-05-06 07:16:15,097 (2306368053:32) WARNING: epoch_index: 6, batch_index: 273, ema_loss: 0.16366958618164062\n",
      "2023-05-06 07:16:15,445 (2306368053:32) WARNING: epoch_index: 6, batch_index: 293, ema_loss: 0.15402379631996155\n",
      "2023-05-06 07:16:15,807 (2306368053:32) WARNING: epoch_index: 6, batch_index: 313, ema_loss: 0.17768049240112305\n",
      "2023-05-06 07:16:16,174 (2306368053:32) WARNING: epoch_index: 6, batch_index: 333, ema_loss: 0.21205854415893555\n",
      "2023-05-06 07:16:16,530 (2306368053:32) WARNING: epoch_index: 6, batch_index: 353, ema_loss: 0.1780095100402832\n",
      "2023-05-06 07:16:16,530 (2306368053:47) WARNING: start to do evaluation...\n",
      "2023-05-06 07:16:23,595 (2306368053:60) WARNING: ema_eval_loss: 0.6068671941757202, eval_acc: 0.88492\n",
      "2023-05-06 07:16:23,940 (2306368053:32) WARNING: epoch_index: 6, batch_index: 373, ema_loss: 0.17251472175121307\n",
      "2023-05-06 07:16:24,252 (2306368053:63) WARNING: time cost is: 21.262624263763428\n"
     ]
    },
    {
     "name": "stderr",
     "output_type": "stream",
     "text": [
      "epoch:  70%|███████   | 7/10 [01:52<00:51, 17.23s/it]"
     ]
    },
    {
     "name": "stdout",
     "output_type": "stream",
     "text": [
      "2023-05-06 07:16:24,320 (2306368053:32) WARNING: epoch_index: 7, batch_index: 2, ema_loss: 0.05591116100549698\n",
      "2023-05-06 07:16:24,672 (2306368053:32) WARNING: epoch_index: 7, batch_index: 22, ema_loss: 0.1624222844839096\n",
      "2023-05-06 07:16:25,021 (2306368053:32) WARNING: epoch_index: 7, batch_index: 42, ema_loss: 0.147592231631279\n",
      "2023-05-06 07:16:25,386 (2306368053:32) WARNING: epoch_index: 7, batch_index: 62, ema_loss: 0.15971800684928894\n",
      "2023-05-06 07:16:25,756 (2306368053:32) WARNING: epoch_index: 7, batch_index: 82, ema_loss: 0.1553778052330017\n",
      "2023-05-06 07:16:26,110 (2306368053:32) WARNING: epoch_index: 7, batch_index: 102, ema_loss: 0.15921445190906525\n",
      "2023-05-06 07:16:26,466 (2306368053:32) WARNING: epoch_index: 7, batch_index: 122, ema_loss: 0.1807507425546646\n",
      "2023-05-06 07:16:26,832 (2306368053:32) WARNING: epoch_index: 7, batch_index: 142, ema_loss: 0.16673266887664795\n",
      "2023-05-06 07:16:27,190 (2306368053:32) WARNING: epoch_index: 7, batch_index: 162, ema_loss: 0.16422051191329956\n",
      "2023-05-06 07:16:27,569 (2306368053:32) WARNING: epoch_index: 7, batch_index: 182, ema_loss: 0.1560855358839035\n",
      "2023-05-06 07:16:27,930 (2306368053:32) WARNING: epoch_index: 7, batch_index: 202, ema_loss: 0.16076260805130005\n",
      "2023-05-06 07:16:28,305 (2306368053:32) WARNING: epoch_index: 7, batch_index: 222, ema_loss: 0.1476387083530426\n",
      "2023-05-06 07:16:28,661 (2306368053:32) WARNING: epoch_index: 7, batch_index: 242, ema_loss: 0.15293234586715698\n",
      "2023-05-06 07:16:29,006 (2306368053:32) WARNING: epoch_index: 7, batch_index: 262, ema_loss: 0.15312351286411285\n",
      "2023-05-06 07:16:29,018 (2306368053:44) WARNING: checkpoint has been saved in ./lstm_sgd/step_3000.pt\n",
      "2023-05-06 07:16:29,019 (2306368053:47) WARNING: start to do evaluation...\n",
      "2023-05-06 07:16:36,055 (2306368053:60) WARNING: ema_eval_loss: 0.6024790406227112, eval_acc: 0.88536\n",
      "2023-05-06 07:16:36,413 (2306368053:32) WARNING: epoch_index: 7, batch_index: 282, ema_loss: 0.2153661847114563\n",
      "2023-05-06 07:16:36,759 (2306368053:32) WARNING: epoch_index: 7, batch_index: 302, ema_loss: 0.17639867961406708\n",
      "2023-05-06 07:16:37,116 (2306368053:32) WARNING: epoch_index: 7, batch_index: 322, ema_loss: 0.17456556856632233\n",
      "2023-05-06 07:16:37,477 (2306368053:32) WARNING: epoch_index: 7, batch_index: 342, ema_loss: 0.16306211054325104\n",
      "2023-05-06 07:16:37,839 (2306368053:32) WARNING: epoch_index: 7, batch_index: 362, ema_loss: 0.15971262753009796\n",
      "2023-05-06 07:16:38,179 (2306368053:32) WARNING: epoch_index: 7, batch_index: 382, ema_loss: 0.16112589836120605\n",
      "2023-05-06 07:16:38,316 (2306368053:63) WARNING: time cost is: 14.052546262741089\n"
     ]
    },
    {
     "name": "stderr",
     "output_type": "stream",
     "text": [
      "epoch:  80%|████████  | 8/10 [02:06<00:32, 16.22s/it]"
     ]
    },
    {
     "name": "stdout",
     "output_type": "stream",
     "text": [
      "2023-05-06 07:16:38,538 (2306368053:32) WARNING: epoch_index: 8, batch_index: 11, ema_loss: 0.10781192779541016\n",
      "2023-05-06 07:16:38,879 (2306368053:32) WARNING: epoch_index: 8, batch_index: 31, ema_loss: 0.18638205528259277\n",
      "2023-05-06 07:16:39,229 (2306368053:32) WARNING: epoch_index: 8, batch_index: 51, ema_loss: 0.16564466059207916\n",
      "2023-05-06 07:16:39,593 (2306368053:32) WARNING: epoch_index: 8, batch_index: 71, ema_loss: 0.1617174744606018\n",
      "2023-05-06 07:16:39,949 (2306368053:32) WARNING: epoch_index: 8, batch_index: 91, ema_loss: 0.18641310930252075\n",
      "2023-05-06 07:16:40,311 (2306368053:32) WARNING: epoch_index: 8, batch_index: 111, ema_loss: 0.17304843664169312\n",
      "2023-05-06 07:16:40,672 (2306368053:32) WARNING: epoch_index: 8, batch_index: 131, ema_loss: 0.16761742532253265\n",
      "2023-05-06 07:16:41,034 (2306368053:32) WARNING: epoch_index: 8, batch_index: 151, ema_loss: 0.1760820597410202\n",
      "2023-05-06 07:16:41,370 (2306368053:32) WARNING: epoch_index: 8, batch_index: 171, ema_loss: 0.14588132500648499\n",
      "2023-05-06 07:16:41,370 (2306368053:47) WARNING: start to do evaluation...\n",
      "2023-05-06 07:16:48,428 (2306368053:60) WARNING: ema_eval_loss: 0.6073595881462097, eval_acc: 0.88528\n",
      "2023-05-06 07:16:48,783 (2306368053:32) WARNING: epoch_index: 8, batch_index: 191, ema_loss: 0.15566019713878632\n",
      "2023-05-06 07:16:49,139 (2306368053:32) WARNING: epoch_index: 8, batch_index: 211, ema_loss: 0.1796933263540268\n",
      "2023-05-06 07:16:49,510 (2306368053:32) WARNING: epoch_index: 8, batch_index: 231, ema_loss: 0.16759003698825836\n",
      "2023-05-06 07:16:49,883 (2306368053:32) WARNING: epoch_index: 8, batch_index: 251, ema_loss: 0.15940546989440918\n",
      "2023-05-06 07:16:50,246 (2306368053:32) WARNING: epoch_index: 8, batch_index: 271, ema_loss: 0.16666020452976227\n",
      "2023-05-06 07:16:50,602 (2306368053:32) WARNING: epoch_index: 8, batch_index: 291, ema_loss: 0.17674390971660614\n",
      "2023-05-06 07:16:50,968 (2306368053:32) WARNING: epoch_index: 8, batch_index: 311, ema_loss: 0.14304932951927185\n",
      "2023-05-06 07:16:51,333 (2306368053:32) WARNING: epoch_index: 8, batch_index: 331, ema_loss: 0.15141595900058746\n",
      "2023-05-06 07:16:51,685 (2306368053:32) WARNING: epoch_index: 8, batch_index: 351, ema_loss: 0.18209205567836761\n",
      "2023-05-06 07:16:52,064 (2306368053:32) WARNING: epoch_index: 8, batch_index: 371, ema_loss: 0.17483334243297577\n",
      "2023-05-06 07:16:52,076 (2306368053:44) WARNING: checkpoint has been saved in ./lstm_sgd/step_3500.pt\n",
      "2023-05-06 07:16:52,407 (2306368053:63) WARNING: time cost is: 14.081337690353394\n"
     ]
    },
    {
     "name": "stderr",
     "output_type": "stream",
     "text": [
      "epoch:  90%|█████████ | 9/10 [02:21<00:15, 15.55s/it]"
     ]
    },
    {
     "name": "stdout",
     "output_type": "stream",
     "text": [
      "2023-05-06 07:16:52,440 (2306368053:32) WARNING: epoch_index: 9, batch_index: 0, ema_loss: 0.015034327283501625\n",
      "2023-05-06 07:16:52,797 (2306368053:32) WARNING: epoch_index: 9, batch_index: 20, ema_loss: 0.12745629251003265\n",
      "2023-05-06 07:16:53,140 (2306368053:32) WARNING: epoch_index: 9, batch_index: 40, ema_loss: 0.1528920978307724\n",
      "2023-05-06 07:16:53,519 (2306368053:32) WARNING: epoch_index: 9, batch_index: 60, ema_loss: 0.15322671830654144\n",
      "2023-05-06 07:16:53,890 (2306368053:32) WARNING: epoch_index: 9, batch_index: 80, ema_loss: 0.15438930690288544\n",
      "2023-05-06 07:16:53,890 (2306368053:47) WARNING: start to do evaluation...\n",
      "2023-05-06 07:17:00,981 (2306368053:60) WARNING: ema_eval_loss: 0.6074018478393555, eval_acc: 0.8854\n",
      "2023-05-06 07:17:01,353 (2306368053:32) WARNING: epoch_index: 9, batch_index: 100, ema_loss: 0.16673730313777924\n",
      "2023-05-06 07:17:01,719 (2306368053:32) WARNING: epoch_index: 9, batch_index: 120, ema_loss: 0.17227593064308167\n",
      "2023-05-06 07:17:02,070 (2306368053:32) WARNING: epoch_index: 9, batch_index: 140, ema_loss: 0.18356621265411377\n",
      "2023-05-06 07:17:02,421 (2306368053:32) WARNING: epoch_index: 9, batch_index: 160, ema_loss: 0.14709684252738953\n",
      "2023-05-06 07:17:02,780 (2306368053:32) WARNING: epoch_index: 9, batch_index: 180, ema_loss: 0.15125659108161926\n",
      "2023-05-06 07:17:03,138 (2306368053:32) WARNING: epoch_index: 9, batch_index: 200, ema_loss: 0.1644730269908905\n",
      "2023-05-06 07:17:03,542 (2306368053:32) WARNING: epoch_index: 9, batch_index: 220, ema_loss: 0.17221108078956604\n",
      "2023-05-06 07:17:03,896 (2306368053:32) WARNING: epoch_index: 9, batch_index: 240, ema_loss: 0.15568208694458008\n",
      "2023-05-06 07:17:04,242 (2306368053:32) WARNING: epoch_index: 9, batch_index: 260, ema_loss: 0.18252401053905487\n",
      "2023-05-06 07:17:04,601 (2306368053:32) WARNING: epoch_index: 9, batch_index: 280, ema_loss: 0.1557478904724121\n",
      "2023-05-06 07:17:04,960 (2306368053:32) WARNING: epoch_index: 9, batch_index: 300, ema_loss: 0.1899108737707138\n",
      "2023-05-06 07:17:05,332 (2306368053:32) WARNING: epoch_index: 9, batch_index: 320, ema_loss: 0.16341640055179596\n",
      "2023-05-06 07:17:05,688 (2306368053:32) WARNING: epoch_index: 9, batch_index: 340, ema_loss: 0.16791127622127533\n",
      "2023-05-06 07:17:06,050 (2306368053:32) WARNING: epoch_index: 9, batch_index: 360, ema_loss: 0.16123801469802856\n",
      "2023-05-06 07:17:06,419 (2306368053:32) WARNING: epoch_index: 9, batch_index: 380, ema_loss: 0.16536863148212433\n",
      "2023-05-06 07:17:06,419 (2306368053:47) WARNING: start to do evaluation...\n",
      "2023-05-06 07:17:13,435 (2306368053:60) WARNING: ema_eval_loss: 0.6020193696022034, eval_acc: 0.88512\n",
      "2023-05-06 07:17:13,606 (2306368053:63) WARNING: time cost is: 21.186975240707397\n"
     ]
    },
    {
     "name": "stderr",
     "output_type": "stream",
     "text": [
      "epoch: 100%|██████████| 10/10 [02:42<00:00, 16.22s/it]\n"
     ]
    }
   ],
   "source": [
    "optimizer = torch.optim.SGD(model.parameters(), lr=1e-4)\n",
    "train(train_data_loader, eval_data_loader, model, optimizer, num_epoch=10, log_step_interval=20, \\\n",
    "      save_step_interval=500, eval_step_interval=300, save_path=\"./gcnn_sgd\", resume=resume)"
   ]
  },
  {
   "cell_type": "code",
   "execution_count": 14,
   "id": "cb6c312f-076d-4732-9c31-1380b774f1cb",
   "metadata": {},
   "outputs": [
    {
     "name": "stderr",
     "output_type": "stream",
     "text": [
      "epoch:   0%|          | 0/10 [00:00<?, ?it/s]"
     ]
    },
    {
     "name": "stdout",
     "output_type": "stream",
     "text": [
      "2023-05-06 07:03:43,515 (2306368053:32) WARNING: epoch_index: 0, batch_index: 19, ema_loss: 0.6097363233566284\n",
      "2023-05-06 07:03:43,904 (2306368053:32) WARNING: epoch_index: 0, batch_index: 39, ema_loss: 0.6846286654472351\n",
      "2023-05-06 07:03:44,284 (2306368053:32) WARNING: epoch_index: 0, batch_index: 59, ema_loss: 0.691966712474823\n",
      "2023-05-06 07:03:44,675 (2306368053:32) WARNING: epoch_index: 0, batch_index: 79, ema_loss: 0.6931794881820679\n",
      "2023-05-06 07:03:45,052 (2306368053:32) WARNING: epoch_index: 0, batch_index: 99, ema_loss: 0.693241536617279\n",
      "2023-05-06 07:03:45,420 (2306368053:32) WARNING: epoch_index: 0, batch_index: 119, ema_loss: 0.6932549476623535\n",
      "2023-05-06 07:03:45,779 (2306368053:32) WARNING: epoch_index: 0, batch_index: 139, ema_loss: 0.6930125951766968\n",
      "2023-05-06 07:03:46,146 (2306368053:32) WARNING: epoch_index: 0, batch_index: 159, ema_loss: 0.6923025846481323\n",
      "2023-05-06 07:03:46,510 (2306368053:32) WARNING: epoch_index: 0, batch_index: 179, ema_loss: 0.6928043365478516\n",
      "2023-05-06 07:03:46,886 (2306368053:32) WARNING: epoch_index: 0, batch_index: 199, ema_loss: 0.692455530166626\n",
      "2023-05-06 07:03:47,273 (2306368053:32) WARNING: epoch_index: 0, batch_index: 219, ema_loss: 0.6928262114524841\n",
      "2023-05-06 07:03:47,639 (2306368053:32) WARNING: epoch_index: 0, batch_index: 239, ema_loss: 0.6921883225440979\n",
      "2023-05-06 07:03:47,998 (2306368053:32) WARNING: epoch_index: 0, batch_index: 259, ema_loss: 0.6911187171936035\n",
      "2023-05-06 07:03:48,358 (2306368053:32) WARNING: epoch_index: 0, batch_index: 279, ema_loss: 0.6899204254150391\n",
      "2023-05-06 07:03:48,742 (2306368053:32) WARNING: epoch_index: 0, batch_index: 299, ema_loss: 0.6878030896186829\n",
      "2023-05-06 07:03:48,743 (2306368053:47) WARNING: start to do evaluation...\n",
      "2023-05-06 07:03:56,182 (2306368053:60) WARNING: ema_eval_loss: 0.6216393709182739, eval_acc: 0.54504\n",
      "2023-05-06 07:03:56,569 (2306368053:32) WARNING: epoch_index: 0, batch_index: 319, ema_loss: 0.6852827072143555\n",
      "2023-05-06 07:03:56,943 (2306368053:32) WARNING: epoch_index: 0, batch_index: 339, ema_loss: 0.6803168654441833\n",
      "2023-05-06 07:03:57,302 (2306368053:32) WARNING: epoch_index: 0, batch_index: 359, ema_loss: 0.6695222854614258\n",
      "2023-05-06 07:03:57,675 (2306368053:32) WARNING: epoch_index: 0, batch_index: 379, ema_loss: 0.6552213430404663\n",
      "2023-05-06 07:03:57,869 (2306368053:63) WARNING: time cost is: 14.78153395652771\n"
     ]
    },
    {
     "name": "stderr",
     "output_type": "stream",
     "text": [
      "epoch:  10%|█         | 1/10 [00:14<02:13, 14.78s/it]"
     ]
    },
    {
     "name": "stdout",
     "output_type": "stream",
     "text": [
      "2023-05-06 07:03:58,053 (2306368053:32) WARNING: epoch_index: 1, batch_index: 8, ema_loss: 0.3897872567176819\n",
      "2023-05-06 07:03:58,429 (2306368053:32) WARNING: epoch_index: 1, batch_index: 28, ema_loss: 0.5894634127616882\n",
      "2023-05-06 07:03:58,792 (2306368053:32) WARNING: epoch_index: 1, batch_index: 48, ema_loss: 0.5994618535041809\n",
      "2023-05-06 07:03:59,170 (2306368053:32) WARNING: epoch_index: 1, batch_index: 68, ema_loss: 0.593417227268219\n",
      "2023-05-06 07:03:59,546 (2306368053:32) WARNING: epoch_index: 1, batch_index: 88, ema_loss: 0.5999985337257385\n",
      "2023-05-06 07:03:59,914 (2306368053:32) WARNING: epoch_index: 1, batch_index: 108, ema_loss: 0.5842818021774292\n",
      "2023-05-06 07:03:59,944 (2306368053:44) WARNING: checkpoint has been saved in ./lstm_adm/step_500.pt\n",
      "2023-05-06 07:04:00,333 (2306368053:32) WARNING: epoch_index: 1, batch_index: 128, ema_loss: 0.5790026783943176\n",
      "2023-05-06 07:04:00,694 (2306368053:32) WARNING: epoch_index: 1, batch_index: 148, ema_loss: 0.5447433590888977\n",
      "2023-05-06 07:04:01,077 (2306368053:32) WARNING: epoch_index: 1, batch_index: 168, ema_loss: 0.5601264834403992\n",
      "2023-05-06 07:04:01,435 (2306368053:32) WARNING: epoch_index: 1, batch_index: 188, ema_loss: 0.5386130809783936\n",
      "2023-05-06 07:04:01,792 (2306368053:32) WARNING: epoch_index: 1, batch_index: 208, ema_loss: 0.5205762982368469\n",
      "2023-05-06 07:04:01,793 (2306368053:47) WARNING: start to do evaluation...\n",
      "2023-05-06 07:04:08,880 (2306368053:60) WARNING: ema_eval_loss: 0.4660354256629944, eval_acc: 0.7846\n",
      "2023-05-06 07:04:09,258 (2306368053:32) WARNING: epoch_index: 1, batch_index: 228, ema_loss: 0.5238053202629089\n",
      "2023-05-06 07:04:09,629 (2306368053:32) WARNING: epoch_index: 1, batch_index: 248, ema_loss: 0.5005838871002197\n",
      "2023-05-06 07:04:10,013 (2306368053:32) WARNING: epoch_index: 1, batch_index: 268, ema_loss: 0.5111105442047119\n",
      "2023-05-06 07:04:10,387 (2306368053:32) WARNING: epoch_index: 1, batch_index: 288, ema_loss: 0.49482738971710205\n",
      "2023-05-06 07:04:10,778 (2306368053:32) WARNING: epoch_index: 1, batch_index: 308, ema_loss: 0.4766077399253845\n",
      "2023-05-06 07:04:11,143 (2306368053:32) WARNING: epoch_index: 1, batch_index: 328, ema_loss: 0.4892405569553375\n",
      "2023-05-06 07:04:11,520 (2306368053:32) WARNING: epoch_index: 1, batch_index: 348, ema_loss: 0.45020318031311035\n",
      "2023-05-06 07:04:11,889 (2306368053:32) WARNING: epoch_index: 1, batch_index: 368, ema_loss: 0.4415077865123749\n",
      "2023-05-06 07:04:12,262 (2306368053:32) WARNING: epoch_index: 1, batch_index: 388, ema_loss: 0.41665035486221313\n",
      "2023-05-06 07:04:12,290 (2306368053:63) WARNING: time cost is: 14.406400203704834\n"
     ]
    },
    {
     "name": "stderr",
     "output_type": "stream",
     "text": [
      "epoch:  20%|██        | 2/10 [00:29<01:56, 14.57s/it]"
     ]
    },
    {
     "name": "stdout",
     "output_type": "stream",
     "text": [
      "2023-05-06 07:04:12,633 (2306368053:32) WARNING: epoch_index: 2, batch_index: 17, ema_loss: 0.37031036615371704\n",
      "2023-05-06 07:04:13,001 (2306368053:32) WARNING: epoch_index: 2, batch_index: 37, ema_loss: 0.4188595414161682\n",
      "2023-05-06 07:04:13,364 (2306368053:32) WARNING: epoch_index: 2, batch_index: 57, ema_loss: 0.41035032272338867\n",
      "2023-05-06 07:04:13,741 (2306368053:32) WARNING: epoch_index: 2, batch_index: 77, ema_loss: 0.39885878562927246\n",
      "2023-05-06 07:04:14,115 (2306368053:32) WARNING: epoch_index: 2, batch_index: 97, ema_loss: 0.4062521457672119\n",
      "2023-05-06 07:04:14,493 (2306368053:32) WARNING: epoch_index: 2, batch_index: 117, ema_loss: 0.39415407180786133\n",
      "2023-05-06 07:04:14,494 (2306368053:47) WARNING: start to do evaluation...\n",
      "2023-05-06 07:04:21,485 (2306368053:60) WARNING: ema_eval_loss: 0.5370830297470093, eval_acc: 0.82732\n",
      "2023-05-06 07:04:21,863 (2306368053:32) WARNING: epoch_index: 2, batch_index: 137, ema_loss: 0.40009766817092896\n",
      "2023-05-06 07:04:22,247 (2306368053:32) WARNING: epoch_index: 2, batch_index: 157, ema_loss: 0.3871520459651947\n",
      "2023-05-06 07:04:22,606 (2306368053:32) WARNING: epoch_index: 2, batch_index: 177, ema_loss: 0.36676517128944397\n",
      "2023-05-06 07:04:22,971 (2306368053:32) WARNING: epoch_index: 2, batch_index: 197, ema_loss: 0.35751408338546753\n",
      "2023-05-06 07:04:23,358 (2306368053:32) WARNING: epoch_index: 2, batch_index: 217, ema_loss: 0.3552771508693695\n",
      "2023-05-06 07:04:23,385 (2306368053:44) WARNING: checkpoint has been saved in ./lstm_adm/step_1000.pt\n",
      "2023-05-06 07:04:23,756 (2306368053:32) WARNING: epoch_index: 2, batch_index: 237, ema_loss: 0.3451378643512726\n",
      "2023-05-06 07:04:24,128 (2306368053:32) WARNING: epoch_index: 2, batch_index: 257, ema_loss: 0.3547951281070709\n",
      "2023-05-06 07:04:24,509 (2306368053:32) WARNING: epoch_index: 2, batch_index: 277, ema_loss: 0.36411717534065247\n",
      "2023-05-06 07:04:24,874 (2306368053:32) WARNING: epoch_index: 2, batch_index: 297, ema_loss: 0.3618856966495514\n",
      "2023-05-06 07:04:25,257 (2306368053:32) WARNING: epoch_index: 2, batch_index: 317, ema_loss: 0.3389190435409546\n",
      "2023-05-06 07:04:25,619 (2306368053:32) WARNING: epoch_index: 2, batch_index: 337, ema_loss: 0.35795629024505615\n",
      "2023-05-06 07:04:25,994 (2306368053:32) WARNING: epoch_index: 2, batch_index: 357, ema_loss: 0.36026066541671753\n",
      "2023-05-06 07:04:26,369 (2306368053:32) WARNING: epoch_index: 2, batch_index: 377, ema_loss: 0.3466498553752899\n",
      "2023-05-06 07:04:26,600 (2306368053:63) WARNING: time cost is: 14.299456596374512\n"
     ]
    },
    {
     "name": "stderr",
     "output_type": "stream",
     "text": [
      "epoch:  30%|███       | 3/10 [00:43<01:41, 14.45s/it]"
     ]
    },
    {
     "name": "stdout",
     "output_type": "stream",
     "text": [
      "2023-05-06 07:04:26,744 (2306368053:32) WARNING: epoch_index: 3, batch_index: 6, ema_loss: 0.20376795530319214\n",
      "2023-05-06 07:04:27,114 (2306368053:32) WARNING: epoch_index: 3, batch_index: 26, ema_loss: 0.3267005383968353\n",
      "2023-05-06 07:04:27,115 (2306368053:47) WARNING: start to do evaluation...\n",
      "2023-05-06 07:04:34,153 (2306368053:60) WARNING: ema_eval_loss: 0.5065726041793823, eval_acc: 0.85588\n",
      "2023-05-06 07:04:34,519 (2306368053:32) WARNING: epoch_index: 3, batch_index: 46, ema_loss: 0.3231644034385681\n",
      "2023-05-06 07:04:34,892 (2306368053:32) WARNING: epoch_index: 3, batch_index: 66, ema_loss: 0.3454895317554474\n",
      "2023-05-06 07:04:35,274 (2306368053:32) WARNING: epoch_index: 3, batch_index: 86, ema_loss: 0.33394137024879456\n",
      "2023-05-06 07:04:35,664 (2306368053:32) WARNING: epoch_index: 3, batch_index: 106, ema_loss: 0.3547200560569763\n",
      "2023-05-06 07:04:36,033 (2306368053:32) WARNING: epoch_index: 3, batch_index: 126, ema_loss: 0.3000863492488861\n",
      "2023-05-06 07:04:36,393 (2306368053:32) WARNING: epoch_index: 3, batch_index: 146, ema_loss: 0.3172852396965027\n",
      "2023-05-06 07:04:36,773 (2306368053:32) WARNING: epoch_index: 3, batch_index: 166, ema_loss: 0.29908621311187744\n",
      "2023-05-06 07:04:37,152 (2306368053:32) WARNING: epoch_index: 3, batch_index: 186, ema_loss: 0.3305932283401489\n",
      "2023-05-06 07:04:37,528 (2306368053:32) WARNING: epoch_index: 3, batch_index: 206, ema_loss: 0.3152608573436737\n",
      "2023-05-06 07:04:37,926 (2306368053:32) WARNING: epoch_index: 3, batch_index: 226, ema_loss: 0.32071995735168457\n",
      "2023-05-06 07:04:38,303 (2306368053:32) WARNING: epoch_index: 3, batch_index: 246, ema_loss: 0.292574942111969\n",
      "2023-05-06 07:04:38,681 (2306368053:32) WARNING: epoch_index: 3, batch_index: 266, ema_loss: 0.31165811419487\n",
      "2023-05-06 07:04:39,058 (2306368053:32) WARNING: epoch_index: 3, batch_index: 286, ema_loss: 0.3107430338859558\n",
      "2023-05-06 07:04:39,411 (2306368053:32) WARNING: epoch_index: 3, batch_index: 306, ema_loss: 0.307843953371048\n",
      "2023-05-06 07:04:39,781 (2306368053:32) WARNING: epoch_index: 3, batch_index: 326, ema_loss: 0.2745116055011749\n",
      "2023-05-06 07:04:39,809 (2306368053:44) WARNING: checkpoint has been saved in ./lstm_adm/step_1500.pt\n",
      "2023-05-06 07:04:39,810 (2306368053:47) WARNING: start to do evaluation...\n",
      "2023-05-06 07:04:46,946 (2306368053:60) WARNING: ema_eval_loss: 0.4018072187900543, eval_acc: 0.86248\n",
      "2023-05-06 07:04:47,330 (2306368053:32) WARNING: epoch_index: 3, batch_index: 346, ema_loss: 0.2834242582321167\n",
      "2023-05-06 07:04:47,714 (2306368053:32) WARNING: epoch_index: 3, batch_index: 366, ema_loss: 0.30413660407066345\n",
      "2023-05-06 07:04:48,072 (2306368053:32) WARNING: epoch_index: 3, batch_index: 386, ema_loss: 0.2917433977127075\n",
      "2023-05-06 07:04:48,147 (2306368053:63) WARNING: time cost is: 21.537064790725708\n"
     ]
    },
    {
     "name": "stderr",
     "output_type": "stream",
     "text": [
      "epoch:  40%|████      | 4/10 [01:05<01:43, 17.25s/it]"
     ]
    },
    {
     "name": "stdout",
     "output_type": "stream",
     "text": [
      "2023-05-06 07:04:48,473 (2306368053:32) WARNING: epoch_index: 4, batch_index: 15, ema_loss: 0.23716036975383759\n",
      "2023-05-06 07:04:48,839 (2306368053:32) WARNING: epoch_index: 4, batch_index: 35, ema_loss: 0.32764139771461487\n",
      "2023-05-06 07:04:49,218 (2306368053:32) WARNING: epoch_index: 4, batch_index: 55, ema_loss: 0.2897398769855499\n",
      "2023-05-06 07:04:49,604 (2306368053:32) WARNING: epoch_index: 4, batch_index: 75, ema_loss: 0.2877291440963745\n",
      "2023-05-06 07:04:49,973 (2306368053:32) WARNING: epoch_index: 4, batch_index: 95, ema_loss: 0.2732260227203369\n",
      "2023-05-06 07:04:50,379 (2306368053:32) WARNING: epoch_index: 4, batch_index: 115, ema_loss: 0.29367995262145996\n",
      "2023-05-06 07:04:50,765 (2306368053:32) WARNING: epoch_index: 4, batch_index: 135, ema_loss: 0.29595401883125305\n",
      "2023-05-06 07:04:51,136 (2306368053:32) WARNING: epoch_index: 4, batch_index: 155, ema_loss: 0.28114670515060425\n",
      "2023-05-06 07:04:51,502 (2306368053:32) WARNING: epoch_index: 4, batch_index: 175, ema_loss: 0.29459670186042786\n",
      "2023-05-06 07:04:51,874 (2306368053:32) WARNING: epoch_index: 4, batch_index: 195, ema_loss: 0.2832392454147339\n",
      "2023-05-06 07:04:52,239 (2306368053:32) WARNING: epoch_index: 4, batch_index: 215, ema_loss: 0.28887635469436646\n",
      "2023-05-06 07:04:52,610 (2306368053:32) WARNING: epoch_index: 4, batch_index: 235, ema_loss: 0.29650717973709106\n",
      "2023-05-06 07:04:52,610 (2306368053:47) WARNING: start to do evaluation...\n",
      "2023-05-06 07:04:59,678 (2306368053:60) WARNING: ema_eval_loss: 0.503466010093689, eval_acc: 0.86868\n",
      "2023-05-06 07:05:00,032 (2306368053:32) WARNING: epoch_index: 4, batch_index: 255, ema_loss: 0.2901323437690735\n",
      "2023-05-06 07:05:00,420 (2306368053:32) WARNING: epoch_index: 4, batch_index: 275, ema_loss: 0.2586393356323242\n",
      "2023-05-06 07:05:00,800 (2306368053:32) WARNING: epoch_index: 4, batch_index: 295, ema_loss: 0.24283070862293243\n",
      "2023-05-06 07:05:01,166 (2306368053:32) WARNING: epoch_index: 4, batch_index: 315, ema_loss: 0.26637741923332214\n",
      "2023-05-06 07:05:01,539 (2306368053:32) WARNING: epoch_index: 4, batch_index: 335, ema_loss: 0.26299455761909485\n",
      "2023-05-06 07:05:01,918 (2306368053:32) WARNING: epoch_index: 4, batch_index: 355, ema_loss: 0.28713586926460266\n",
      "2023-05-06 07:05:02,297 (2306368053:32) WARNING: epoch_index: 4, batch_index: 375, ema_loss: 0.279524564743042\n",
      "2023-05-06 07:05:02,566 (2306368053:63) WARNING: time cost is: 14.408711194992065\n"
     ]
    },
    {
     "name": "stderr",
     "output_type": "stream",
     "text": [
      "epoch:  50%|█████     | 5/10 [01:19<01:21, 16.23s/it]"
     ]
    },
    {
     "name": "stdout",
     "output_type": "stream",
     "text": [
      "2023-05-06 07:05:02,670 (2306368053:32) WARNING: epoch_index: 5, batch_index: 4, ema_loss: 0.12279161810874939\n",
      "2023-05-06 07:05:03,057 (2306368053:32) WARNING: epoch_index: 5, batch_index: 24, ema_loss: 0.315265029668808\n",
      "2023-05-06 07:05:03,428 (2306368053:32) WARNING: epoch_index: 5, batch_index: 44, ema_loss: 0.2731510102748871\n",
      "2023-05-06 07:05:03,457 (2306368053:44) WARNING: checkpoint has been saved in ./lstm_adm/step_2000.pt\n",
      "2023-05-06 07:05:03,832 (2306368053:32) WARNING: epoch_index: 5, batch_index: 64, ema_loss: 0.25795337557792664\n",
      "2023-05-06 07:05:04,242 (2306368053:32) WARNING: epoch_index: 5, batch_index: 84, ema_loss: 0.2572419345378876\n",
      "2023-05-06 07:05:04,609 (2306368053:32) WARNING: epoch_index: 5, batch_index: 104, ema_loss: 0.2722373306751251\n",
      "2023-05-06 07:05:04,991 (2306368053:32) WARNING: epoch_index: 5, batch_index: 124, ema_loss: 0.23150424659252167\n",
      "2023-05-06 07:05:05,367 (2306368053:32) WARNING: epoch_index: 5, batch_index: 144, ema_loss: 0.25112777948379517\n",
      "2023-05-06 07:05:05,368 (2306368053:47) WARNING: start to do evaluation...\n",
      "2023-05-06 07:05:12,519 (2306368053:60) WARNING: ema_eval_loss: 0.32050585746765137, eval_acc: 0.87452\n",
      "2023-05-06 07:05:12,911 (2306368053:32) WARNING: epoch_index: 5, batch_index: 164, ema_loss: 0.26643049716949463\n",
      "2023-05-06 07:05:13,276 (2306368053:32) WARNING: epoch_index: 5, batch_index: 184, ema_loss: 0.21829834580421448\n",
      "2023-05-06 07:05:13,639 (2306368053:32) WARNING: epoch_index: 5, batch_index: 204, ema_loss: 0.22909270226955414\n",
      "2023-05-06 07:05:14,010 (2306368053:32) WARNING: epoch_index: 5, batch_index: 224, ema_loss: 0.23659572005271912\n",
      "2023-05-06 07:05:14,390 (2306368053:32) WARNING: epoch_index: 5, batch_index: 244, ema_loss: 0.232674703001976\n",
      "2023-05-06 07:05:14,764 (2306368053:32) WARNING: epoch_index: 5, batch_index: 264, ema_loss: 0.28307369351387024\n",
      "2023-05-06 07:05:15,136 (2306368053:32) WARNING: epoch_index: 5, batch_index: 284, ema_loss: 0.2542091906070709\n",
      "2023-05-06 07:05:15,506 (2306368053:32) WARNING: epoch_index: 5, batch_index: 304, ema_loss: 0.24865157902240753\n",
      "2023-05-06 07:05:15,876 (2306368053:32) WARNING: epoch_index: 5, batch_index: 324, ema_loss: 0.26829421520233154\n",
      "2023-05-06 07:05:16,244 (2306368053:32) WARNING: epoch_index: 5, batch_index: 344, ema_loss: 0.2700980007648468\n",
      "2023-05-06 07:05:16,618 (2306368053:32) WARNING: epoch_index: 5, batch_index: 364, ema_loss: 0.2628478407859802\n",
      "2023-05-06 07:05:17,003 (2306368053:32) WARNING: epoch_index: 5, batch_index: 384, ema_loss: 0.27901315689086914\n",
      "2023-05-06 07:05:17,109 (2306368053:63) WARNING: time cost is: 14.533620119094849\n"
     ]
    },
    {
     "name": "stderr",
     "output_type": "stream",
     "text": [
      "epoch:  60%|██████    | 6/10 [01:34<01:02, 15.66s/it]"
     ]
    },
    {
     "name": "stdout",
     "output_type": "stream",
     "text": [
      "2023-05-06 07:05:17,380 (2306368053:32) WARNING: epoch_index: 6, batch_index: 13, ema_loss: 0.1666460484266281\n",
      "2023-05-06 07:05:17,751 (2306368053:32) WARNING: epoch_index: 6, batch_index: 33, ema_loss: 0.24580417573451996\n",
      "2023-05-06 07:05:18,125 (2306368053:32) WARNING: epoch_index: 6, batch_index: 53, ema_loss: 0.262578547000885\n",
      "2023-05-06 07:05:18,125 (2306368053:47) WARNING: start to do evaluation...\n",
      "2023-05-06 07:05:25,259 (2306368053:60) WARNING: ema_eval_loss: 0.36138835549354553, eval_acc: 0.87844\n",
      "2023-05-06 07:05:25,642 (2306368053:32) WARNING: epoch_index: 6, batch_index: 73, ema_loss: 0.2677066922187805\n",
      "2023-05-06 07:05:26,036 (2306368053:32) WARNING: epoch_index: 6, batch_index: 93, ema_loss: 0.25698044896125793\n",
      "2023-05-06 07:05:26,408 (2306368053:32) WARNING: epoch_index: 6, batch_index: 113, ema_loss: 0.23280295729637146\n",
      "2023-05-06 07:05:26,786 (2306368053:32) WARNING: epoch_index: 6, batch_index: 133, ema_loss: 0.22483308613300323\n",
      "2023-05-06 07:05:27,165 (2306368053:32) WARNING: epoch_index: 6, batch_index: 153, ema_loss: 0.24819080531597137\n",
      "2023-05-06 07:05:27,192 (2306368053:44) WARNING: checkpoint has been saved in ./lstm_adm/step_2500.pt\n",
      "2023-05-06 07:05:27,563 (2306368053:32) WARNING: epoch_index: 6, batch_index: 173, ema_loss: 0.25031471252441406\n",
      "2023-05-06 07:05:27,947 (2306368053:32) WARNING: epoch_index: 6, batch_index: 193, ema_loss: 0.2452051341533661\n",
      "2023-05-06 07:05:28,306 (2306368053:32) WARNING: epoch_index: 6, batch_index: 213, ema_loss: 0.2536493241786957\n",
      "2023-05-06 07:05:28,693 (2306368053:32) WARNING: epoch_index: 6, batch_index: 233, ema_loss: 0.23032312095165253\n",
      "2023-05-06 07:05:29,057 (2306368053:32) WARNING: epoch_index: 6, batch_index: 253, ema_loss: 0.256084680557251\n",
      "2023-05-06 07:05:29,415 (2306368053:32) WARNING: epoch_index: 6, batch_index: 273, ema_loss: 0.2623835802078247\n",
      "2023-05-06 07:05:29,780 (2306368053:32) WARNING: epoch_index: 6, batch_index: 293, ema_loss: 0.31745752692222595\n",
      "2023-05-06 07:05:30,147 (2306368053:32) WARNING: epoch_index: 6, batch_index: 313, ema_loss: 0.24907223880290985\n",
      "2023-05-06 07:05:30,511 (2306368053:32) WARNING: epoch_index: 6, batch_index: 333, ema_loss: 0.2520257532596588\n",
      "2023-05-06 07:05:30,908 (2306368053:32) WARNING: epoch_index: 6, batch_index: 353, ema_loss: 0.23484504222869873\n",
      "2023-05-06 07:05:30,909 (2306368053:47) WARNING: start to do evaluation...\n",
      "2023-05-06 07:05:38,008 (2306368053:60) WARNING: ema_eval_loss: 0.43062496185302734, eval_acc: 0.8804\n",
      "2023-05-06 07:05:38,390 (2306368053:32) WARNING: epoch_index: 6, batch_index: 373, ema_loss: 0.21676947176456451\n",
      "2023-05-06 07:05:38,700 (2306368053:63) WARNING: time cost is: 21.58218479156494\n"
     ]
    },
    {
     "name": "stderr",
     "output_type": "stream",
     "text": [
      "epoch:  70%|███████   | 7/10 [01:55<00:52, 17.60s/it]"
     ]
    },
    {
     "name": "stdout",
     "output_type": "stream",
     "text": [
      "2023-05-06 07:05:38,775 (2306368053:32) WARNING: epoch_index: 7, batch_index: 2, ema_loss: 0.051199495792388916\n",
      "2023-05-06 07:05:39,152 (2306368053:32) WARNING: epoch_index: 7, batch_index: 22, ema_loss: 0.2239849716424942\n",
      "2023-05-06 07:05:39,518 (2306368053:32) WARNING: epoch_index: 7, batch_index: 42, ema_loss: 0.24250392615795135\n",
      "2023-05-06 07:05:39,903 (2306368053:32) WARNING: epoch_index: 7, batch_index: 62, ema_loss: 0.21284374594688416\n",
      "2023-05-06 07:05:40,279 (2306368053:32) WARNING: epoch_index: 7, batch_index: 82, ema_loss: 0.24289044737815857\n",
      "2023-05-06 07:05:40,660 (2306368053:32) WARNING: epoch_index: 7, batch_index: 102, ema_loss: 0.20164786279201508\n",
      "2023-05-06 07:05:41,042 (2306368053:32) WARNING: epoch_index: 7, batch_index: 122, ema_loss: 0.23590955138206482\n",
      "2023-05-06 07:05:41,435 (2306368053:32) WARNING: epoch_index: 7, batch_index: 142, ema_loss: 0.226985365152359\n",
      "2023-05-06 07:05:41,807 (2306368053:32) WARNING: epoch_index: 7, batch_index: 162, ema_loss: 0.2116130143404007\n",
      "2023-05-06 07:05:42,181 (2306368053:32) WARNING: epoch_index: 7, batch_index: 182, ema_loss: 0.20501407980918884\n",
      "2023-05-06 07:05:42,547 (2306368053:32) WARNING: epoch_index: 7, batch_index: 202, ema_loss: 0.21123453974723816\n",
      "2023-05-06 07:05:42,929 (2306368053:32) WARNING: epoch_index: 7, batch_index: 222, ema_loss: 0.2281569242477417\n",
      "2023-05-06 07:05:43,300 (2306368053:32) WARNING: epoch_index: 7, batch_index: 242, ema_loss: 0.23672950267791748\n",
      "2023-05-06 07:05:43,675 (2306368053:32) WARNING: epoch_index: 7, batch_index: 262, ema_loss: 0.19254611432552338\n",
      "2023-05-06 07:05:43,705 (2306368053:44) WARNING: checkpoint has been saved in ./lstm_adm/step_3000.pt\n",
      "2023-05-06 07:05:43,706 (2306368053:47) WARNING: start to do evaluation...\n",
      "2023-05-06 07:05:50,780 (2306368053:60) WARNING: ema_eval_loss: 0.484173983335495, eval_acc: 0.88172\n",
      "2023-05-06 07:05:51,168 (2306368053:32) WARNING: epoch_index: 7, batch_index: 282, ema_loss: 0.22114072740077972\n",
      "2023-05-06 07:05:51,533 (2306368053:32) WARNING: epoch_index: 7, batch_index: 302, ema_loss: 0.18499848246574402\n",
      "2023-05-06 07:05:51,911 (2306368053:32) WARNING: epoch_index: 7, batch_index: 322, ema_loss: 0.23414048552513123\n",
      "2023-05-06 07:05:52,289 (2306368053:32) WARNING: epoch_index: 7, batch_index: 342, ema_loss: 0.2587384283542633\n",
      "2023-05-06 07:05:52,678 (2306368053:32) WARNING: epoch_index: 7, batch_index: 362, ema_loss: 0.2321314811706543\n",
      "2023-05-06 07:05:53,059 (2306368053:32) WARNING: epoch_index: 7, batch_index: 382, ema_loss: 0.2400343418121338\n",
      "2023-05-06 07:05:53,201 (2306368053:63) WARNING: time cost is: 14.489023208618164\n"
     ]
    },
    {
     "name": "stderr",
     "output_type": "stream",
     "text": [
      "epoch:  80%|████████  | 8/10 [02:10<00:33, 16.61s/it]"
     ]
    },
    {
     "name": "stdout",
     "output_type": "stream",
     "text": [
      "2023-05-06 07:05:53,437 (2306368053:32) WARNING: epoch_index: 8, batch_index: 11, ema_loss: 0.18480123579502106\n",
      "2023-05-06 07:05:53,800 (2306368053:32) WARNING: epoch_index: 8, batch_index: 31, ema_loss: 0.1791687160730362\n",
      "2023-05-06 07:05:54,184 (2306368053:32) WARNING: epoch_index: 8, batch_index: 51, ema_loss: 0.20766951143741608\n",
      "2023-05-06 07:05:54,562 (2306368053:32) WARNING: epoch_index: 8, batch_index: 71, ema_loss: 0.20624375343322754\n",
      "2023-05-06 07:05:54,941 (2306368053:32) WARNING: epoch_index: 8, batch_index: 91, ema_loss: 0.2022840678691864\n",
      "2023-05-06 07:05:55,311 (2306368053:32) WARNING: epoch_index: 8, batch_index: 111, ema_loss: 0.20866413414478302\n",
      "2023-05-06 07:05:55,699 (2306368053:32) WARNING: epoch_index: 8, batch_index: 131, ema_loss: 0.21903684735298157\n",
      "2023-05-06 07:05:56,083 (2306368053:32) WARNING: epoch_index: 8, batch_index: 151, ema_loss: 0.20894291996955872\n",
      "2023-05-06 07:05:56,467 (2306368053:32) WARNING: epoch_index: 8, batch_index: 171, ema_loss: 0.20152048766613007\n",
      "2023-05-06 07:05:56,468 (2306368053:47) WARNING: start to do evaluation...\n",
      "2023-05-06 07:06:03,601 (2306368053:60) WARNING: ema_eval_loss: 0.2955189049243927, eval_acc: 0.88028\n",
      "2023-05-06 07:06:03,966 (2306368053:32) WARNING: epoch_index: 8, batch_index: 191, ema_loss: 0.24069498479366302\n",
      "2023-05-06 07:06:04,356 (2306368053:32) WARNING: epoch_index: 8, batch_index: 211, ema_loss: 0.18676763772964478\n",
      "2023-05-06 07:06:04,723 (2306368053:32) WARNING: epoch_index: 8, batch_index: 231, ema_loss: 0.23156018555164337\n",
      "2023-05-06 07:06:05,101 (2306368053:32) WARNING: epoch_index: 8, batch_index: 251, ema_loss: 0.20771870017051697\n",
      "2023-05-06 07:06:05,473 (2306368053:32) WARNING: epoch_index: 8, batch_index: 271, ema_loss: 0.21648620069026947\n",
      "2023-05-06 07:06:05,836 (2306368053:32) WARNING: epoch_index: 8, batch_index: 291, ema_loss: 0.21958453953266144\n",
      "2023-05-06 07:06:06,210 (2306368053:32) WARNING: epoch_index: 8, batch_index: 311, ema_loss: 0.1943458616733551\n",
      "2023-05-06 07:06:06,579 (2306368053:32) WARNING: epoch_index: 8, batch_index: 331, ema_loss: 0.20315781235694885\n",
      "2023-05-06 07:06:06,941 (2306368053:32) WARNING: epoch_index: 8, batch_index: 351, ema_loss: 0.21446850895881653\n",
      "2023-05-06 07:06:07,320 (2306368053:32) WARNING: epoch_index: 8, batch_index: 371, ema_loss: 0.20836924016475677\n",
      "2023-05-06 07:06:07,348 (2306368053:44) WARNING: checkpoint has been saved in ./lstm_adm/step_3500.pt\n",
      "2023-05-06 07:06:07,697 (2306368053:63) WARNING: time cost is: 14.487595796585083\n"
     ]
    },
    {
     "name": "stderr",
     "output_type": "stream",
     "text": [
      "epoch:  90%|█████████ | 9/10 [02:24<00:15, 15.95s/it]"
     ]
    },
    {
     "name": "stdout",
     "output_type": "stream",
     "text": [
      "2023-05-06 07:06:07,727 (2306368053:32) WARNING: epoch_index: 9, batch_index: 0, ema_loss: 0.023029809817671776\n",
      "2023-05-06 07:06:08,093 (2306368053:32) WARNING: epoch_index: 9, batch_index: 20, ema_loss: 0.19749443233013153\n",
      "2023-05-06 07:06:08,464 (2306368053:32) WARNING: epoch_index: 9, batch_index: 40, ema_loss: 0.18059171736240387\n",
      "2023-05-06 07:06:08,844 (2306368053:32) WARNING: epoch_index: 9, batch_index: 60, ema_loss: 0.19749075174331665\n",
      "2023-05-06 07:06:09,225 (2306368053:32) WARNING: epoch_index: 9, batch_index: 80, ema_loss: 0.22881637513637543\n",
      "2023-05-06 07:06:09,225 (2306368053:47) WARNING: start to do evaluation...\n",
      "2023-05-06 07:06:16,302 (2306368053:60) WARNING: ema_eval_loss: 0.5590709447860718, eval_acc: 0.87768\n",
      "2023-05-06 07:06:16,694 (2306368053:32) WARNING: epoch_index: 9, batch_index: 100, ema_loss: 0.20707310736179352\n",
      "2023-05-06 07:06:17,075 (2306368053:32) WARNING: epoch_index: 9, batch_index: 120, ema_loss: 0.1997375637292862\n",
      "2023-05-06 07:06:17,445 (2306368053:32) WARNING: epoch_index: 9, batch_index: 140, ema_loss: 0.19050124287605286\n",
      "2023-05-06 07:06:17,825 (2306368053:32) WARNING: epoch_index: 9, batch_index: 160, ema_loss: 0.17309623956680298\n",
      "2023-05-06 07:06:18,220 (2306368053:32) WARNING: epoch_index: 9, batch_index: 180, ema_loss: 0.2145151048898697\n",
      "2023-05-06 07:06:18,597 (2306368053:32) WARNING: epoch_index: 9, batch_index: 200, ema_loss: 0.16676273941993713\n",
      "2023-05-06 07:06:18,985 (2306368053:32) WARNING: epoch_index: 9, batch_index: 220, ema_loss: 0.1971764862537384\n",
      "2023-05-06 07:06:19,374 (2306368053:32) WARNING: epoch_index: 9, batch_index: 240, ema_loss: 0.17301945388317108\n",
      "2023-05-06 07:06:19,749 (2306368053:32) WARNING: epoch_index: 9, batch_index: 260, ema_loss: 0.17237839102745056\n",
      "2023-05-06 07:06:20,124 (2306368053:32) WARNING: epoch_index: 9, batch_index: 280, ema_loss: 0.23056140542030334\n",
      "2023-05-06 07:06:20,519 (2306368053:32) WARNING: epoch_index: 9, batch_index: 300, ema_loss: 0.21920841932296753\n",
      "2023-05-06 07:06:20,895 (2306368053:32) WARNING: epoch_index: 9, batch_index: 320, ema_loss: 0.20371200144290924\n",
      "2023-05-06 07:06:21,271 (2306368053:32) WARNING: epoch_index: 9, batch_index: 340, ema_loss: 0.21095463633537292\n",
      "2023-05-06 07:06:21,644 (2306368053:32) WARNING: epoch_index: 9, batch_index: 360, ema_loss: 0.19608090817928314\n",
      "2023-05-06 07:06:22,008 (2306368053:32) WARNING: epoch_index: 9, batch_index: 380, ema_loss: 0.1851656436920166\n",
      "2023-05-06 07:06:22,009 (2306368053:47) WARNING: start to do evaluation...\n",
      "2023-05-06 07:06:29,165 (2306368053:60) WARNING: ema_eval_loss: 0.41886237263679504, eval_acc: 0.88428\n",
      "2023-05-06 07:06:29,344 (2306368053:63) WARNING: time cost is: 21.636545419692993\n"
     ]
    },
    {
     "name": "stderr",
     "output_type": "stream",
     "text": [
      "epoch: 100%|██████████| 10/10 [02:46<00:00, 16.63s/it]\n"
     ]
    }
   ],
   "source": [
    "optimizer = torch.optim.Adam(model.parameters(), lr=1e-4)\n",
    "train(train_data_loader, eval_data_loader, model, optimizer, num_epoch=10, log_step_interval=20, \\\n",
    "      save_step_interval=500, eval_step_interval=300, save_path=\"./gcnn_adm\", resume=resume)"
   ]
  }
 ],
 "metadata": {
  "kernelspec": {
   "display_name": "Python 3 (ipykernel)",
   "language": "python",
   "name": "python3"
  },
  "language_info": {
   "codemirror_mode": {
    "name": "ipython",
    "version": 3
   },
   "file_extension": ".py",
   "mimetype": "text/x-python",
   "name": "python",
   "nbconvert_exporter": "python",
   "pygments_lexer": "ipython3",
   "version": "3.8.10"
  }
 },
 "nbformat": 4,
 "nbformat_minor": 5
}
